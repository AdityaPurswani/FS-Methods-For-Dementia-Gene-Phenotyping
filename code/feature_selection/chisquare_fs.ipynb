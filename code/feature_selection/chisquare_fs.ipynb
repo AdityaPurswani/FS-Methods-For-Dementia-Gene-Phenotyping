{
 "cells": [
  {
   "cell_type": "code",
   "execution_count": 16,
   "metadata": {},
   "outputs": [],
   "source": [
    "import pandas as pd\n",
    "import polars as pl\n",
    "import numpy as np\n",
    "from sklearn.ensemble import RandomForestClassifier\n",
    "from sklearn.model_selection import train_test_split, GridSearchCV\n",
    "from scipy.stats import chi2_contingency\n",
    "from sklearn.feature_selection import chi2\n",
    "from sklearn.metrics import accuracy_score\n",
    "import matplotlib.pyplot as plt\n",
    "import seaborn as sns"
   ]
  },
  {
   "cell_type": "code",
   "execution_count": 8,
   "metadata": {},
   "outputs": [],
   "source": [
    "df = pl.read_csv('../../Dementia/JanBDRcount.csv')\n",
    "df = df.to_pandas()"
   ]
  },
  {
   "cell_type": "code",
   "execution_count": 27,
   "metadata": {},
   "outputs": [],
   "source": [
    "for col in df.columns:\n",
    "    df[col].fillna(3, inplace=True)\n",
    "\n",
    "X = df.drop(columns=['FID', 'IID', 'PAT', 'MAT', 'SEX', 'PHENOTYPE'])\n",
    "y = df['PHENOTYPE']"
   ]
  },
  {
   "cell_type": "code",
   "execution_count": 10,
   "metadata": {},
   "outputs": [],
   "source": [
    "assert X.isnull().sum().sum() == 0, \"There are still missing values in X\"\n",
    "assert y.isnull().sum().sum() == 0, \"There are still missing values in y\""
   ]
  },
  {
   "cell_type": "code",
   "execution_count": 11,
   "metadata": {},
   "outputs": [
    {
     "name": "stdout",
     "output_type": "stream",
     "text": [
      "0\n"
     ]
    }
   ],
   "source": [
    "print(X.isnull().sum().sum())"
   ]
  },
  {
   "cell_type": "code",
   "execution_count": 33,
   "metadata": {},
   "outputs": [
    {
     "name": "stdout",
     "output_type": "stream",
     "text": [
      "              Feature       P_Value\n",
      "263752   rs16957876_0  1.803884e-26\n",
      "9343    rs138982442_A  3.303062e-26\n",
      "40099    rs12614416_G  6.409356e-25\n",
      "60484     rs1492865_G  5.260565e-24\n",
      "203930   rs79640820_C  5.813961e-24\n",
      "...               ...           ...\n",
      "134766     rs629458_0  1.000000e+00\n",
      "167945   rs12339683_0  1.000000e+00\n",
      "55114   rs114658092_0  1.000000e+00\n",
      "78829     rs4693608_G  1.000000e+00\n",
      "150362       rs6768_0  1.000000e+00\n",
      "\n",
      "[297678 rows x 2 columns]\n"
     ]
    }
   ],
   "source": [
    "chi2_stat, p_values = chi2(X, y)\n",
    "\n",
    "# Create a DataFrame to show p-values for each feature\n",
    "feature_importance = pd.DataFrame({'Feature': X.columns, 'P_Value': p_values})\n",
    "feature_importance = feature_importance.sort_values(by='P_Value', ascending=True)  # Ascending order\n",
    "print(feature_importance)"
   ]
  },
  {
   "cell_type": "code",
   "execution_count": 32,
   "metadata": {},
   "outputs": [
    {
     "name": "stdout",
     "output_type": "stream",
     "text": [
      "              Feature       P_Value\n",
      "279960     rs157582_A  2.767274e-18\n",
      "279955   rs34342646_A  1.291443e-16\n",
      "279958   rs34404554_C  1.690866e-16\n",
      "279975   rs12721046_A  5.233055e-16\n",
      "279956   rs71352238_G  5.923158e-16\n",
      "...               ...           ...\n",
      "250712    rs2966176_0  1.000000e+00\n",
      "43074    rs11677176_0  1.000000e+00\n",
      "9165    rs150856593_0  1.000000e+00\n",
      "6341    rs116672238_0  1.000000e+00\n",
      "1015    rs145264193_0  1.000000e+00\n",
      "\n",
      "[297678 rows x 2 columns]\n"
     ]
    }
   ],
   "source": [
    "import numpy as np\n",
    "import pandas as pd\n",
    "from scipy.stats import chi2_contingency\n",
    "\n",
    "def chi_square_selector(X, y, alpha=0.05):\n",
    "    # Convert categorical target variable y into numeric categories if needed\n",
    "    _, y_numeric = np.unique(y, return_inverse=True)\n",
    "    \n",
    "    chi2_stat = []\n",
    "    p_values = []\n",
    "    \n",
    "    for feature in X.columns:\n",
    "        # Create contingency table\n",
    "        contingency_table = pd.crosstab(X[feature], y_numeric)\n",
    "        \n",
    "        # Compute chi-square test statistic, p-value, degrees of freedom, and expected frequencies\n",
    "        chi2, p, _, _ = chi2_contingency(contingency_table)\n",
    "        \n",
    "        # Store results\n",
    "        chi2_stat.append(chi2)\n",
    "        p_values.append(p)\n",
    "    \n",
    "    # Convert lists to numpy arrays for easier manipulation\n",
    "    chi2_stat = np.array(chi2_stat)\n",
    "    p_values = np.array(p_values)\n",
    "    \n",
    "    # Select features based on p-value threshold (alpha)\n",
    "    selected_features = X.columns[p_values <= alpha]\n",
    "    \n",
    "    return selected_features, chi2_stat, p_values\n",
    "def chi_square_selector(X, y, alpha=0.05):\n",
    "    # Convert categorical target variable y into numeric categories if needed\n",
    "    _, y_numeric = np.unique(y, return_inverse=True)\n",
    "    \n",
    "    chi2_stat = []\n",
    "    p_values = []\n",
    "    \n",
    "    for feature in X.columns:\n",
    "        # Create contingency table\n",
    "        contingency_table = pd.crosstab(X[feature], y_numeric)\n",
    "        \n",
    "        # Compute chi-square test statistic, p-value, degrees of freedom, and expected frequencies\n",
    "        chi2, p, _, _ = chi2_contingency(contingency_table)\n",
    "        \n",
    "        # Store results\n",
    "        chi2_stat.append(chi2)\n",
    "        p_values.append(p)\n",
    "    \n",
    "    # Convert lists to numpy arrays for easier manipulation\n",
    "    chi2_stat = np.array(chi2_stat)\n",
    "    p_values = np.array(p_values)\n",
    "    \n",
    "    # Select features based on p-value threshold (alpha)\n",
    "    selected_features = X.columns[p_values <= alpha]\n",
    "    \n",
    "    return selected_features, chi2_stat, p_values\n",
    "\n",
    "selected_features, chi2_stat, p_values = chi_square_selector(X, y)\n",
    "feature_importance = pd.DataFrame({'Feature': X.columns, 'P_Value': p_values})\n",
    "feature_importance = feature_importance.sort_values(by='P_Value', ascending=True)  # Ascending order\n",
    "print(feature_importance)\n"
   ]
  },
  {
   "cell_type": "code",
   "execution_count": null,
   "metadata": {},
   "outputs": [],
   "source": []
  }
 ],
 "metadata": {
  "kernelspec": {
   "display_name": "Python 3",
   "language": "python",
   "name": "python3"
  },
  "language_info": {
   "codemirror_mode": {
    "name": "ipython",
    "version": 3
   },
   "file_extension": ".py",
   "mimetype": "text/x-python",
   "name": "python",
   "nbconvert_exporter": "python",
   "pygments_lexer": "ipython3",
   "version": "3.12.2"
  }
 },
 "nbformat": 4,
 "nbformat_minor": 2
}
