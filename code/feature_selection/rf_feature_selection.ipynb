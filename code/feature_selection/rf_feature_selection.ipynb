{
 "cells": [
  {
   "cell_type": "code",
   "execution_count": 1,
   "metadata": {},
   "outputs": [],
   "source": [
    "import pandas as pd\n",
    "import polars as pl\n",
    "import numpy as np\n",
    "from sklearn.ensemble import RandomForestClassifier\n",
    "from sklearn.model_selection import train_test_split, GridSearchCV\n",
    "from sklearn.metrics import accuracy_score\n",
    "import matplotlib.pyplot as plt\n",
    "import seaborn as sns\n"
   ]
  },
  {
   "cell_type": "code",
   "execution_count": 2,
   "metadata": {},
   "outputs": [],
   "source": [
    "df = pl.read_csv('../../Dementia/JanBDRcount.csv')\n",
    "df = df.to_pandas()"
   ]
  },
  {
   "cell_type": "code",
   "execution_count": 3,
   "metadata": {},
   "outputs": [],
   "source": [
    "# df.info\n",
    "for col in df.columns:\n",
    "    df[col].fillna(3, inplace=True)\n",
    "\n",
    "X = df.drop(columns=['FID', 'IID', 'PAT', 'MAT', 'SEX', 'PHENOTYPE'])\n",
    "y = df['PHENOTYPE']\n"
   ]
  },
  {
   "cell_type": "code",
   "execution_count": null,
   "metadata": {},
   "outputs": [],
   "source": []
  },
  {
   "cell_type": "code",
   "execution_count": 4,
   "metadata": {},
   "outputs": [],
   "source": [
    "assert X.isnull().sum().sum() == 0, \"There are still missing values in X\"\n",
    "assert y.isnull().sum().sum() == 0, \"There are still missing values in y\""
   ]
  },
  {
   "cell_type": "code",
   "execution_count": 5,
   "metadata": {},
   "outputs": [
    {
     "name": "stdout",
     "output_type": "stream",
     "text": [
      "0\n"
     ]
    }
   ],
   "source": [
    "print(X.isnull().sum().sum())"
   ]
  },
  {
   "cell_type": "code",
   "execution_count": 6,
   "metadata": {},
   "outputs": [
    {
     "data": {
      "text/html": [
       "<div>\n",
       "<style scoped>\n",
       "    .dataframe tbody tr th:only-of-type {\n",
       "        vertical-align: middle;\n",
       "    }\n",
       "\n",
       "    .dataframe tbody tr th {\n",
       "        vertical-align: top;\n",
       "    }\n",
       "\n",
       "    .dataframe thead th {\n",
       "        text-align: right;\n",
       "    }\n",
       "</style>\n",
       "<table border=\"1\" class=\"dataframe\">\n",
       "  <thead>\n",
       "    <tr style=\"text-align: right;\">\n",
       "      <th></th>\n",
       "      <th>rs3131972_A</th>\n",
       "      <th>rs11240777_A</th>\n",
       "      <th>rs4970383_A</th>\n",
       "      <th>rs4475691_A</th>\n",
       "      <th>rs13302982_A</th>\n",
       "      <th>rs28391282_A</th>\n",
       "      <th>rs2341354_A</th>\n",
       "      <th>rs9777703_G</th>\n",
       "      <th>rs1891910_A</th>\n",
       "      <th>rs142743151_A</th>\n",
       "      <th>...</th>\n",
       "      <th>rs6009945_C</th>\n",
       "      <th>rs9616810_A</th>\n",
       "      <th>rs9616812_A</th>\n",
       "      <th>rs9616816_A</th>\n",
       "      <th>rs77452243_A</th>\n",
       "      <th>rs2341010_A</th>\n",
       "      <th>rs739365_A</th>\n",
       "      <th>rs6010063_G</th>\n",
       "      <th>rs10451_A</th>\n",
       "      <th>rs2285395_A</th>\n",
       "    </tr>\n",
       "  </thead>\n",
       "  <tbody>\n",
       "    <tr>\n",
       "      <th>0</th>\n",
       "      <td>0.0</td>\n",
       "      <td>0.0</td>\n",
       "      <td>0.0</td>\n",
       "      <td>0.0</td>\n",
       "      <td>0.0</td>\n",
       "      <td>0.0</td>\n",
       "      <td>0.0</td>\n",
       "      <td>0.0</td>\n",
       "      <td>0.0</td>\n",
       "      <td>0.0</td>\n",
       "      <td>...</td>\n",
       "      <td>0.0</td>\n",
       "      <td>1.0</td>\n",
       "      <td>1.0</td>\n",
       "      <td>0.0</td>\n",
       "      <td>0.0</td>\n",
       "      <td>1.0</td>\n",
       "      <td>1.0</td>\n",
       "      <td>0.0</td>\n",
       "      <td>0.0</td>\n",
       "      <td>0.0</td>\n",
       "    </tr>\n",
       "    <tr>\n",
       "      <th>1</th>\n",
       "      <td>1.0</td>\n",
       "      <td>1.0</td>\n",
       "      <td>0.0</td>\n",
       "      <td>0.0</td>\n",
       "      <td>0.0</td>\n",
       "      <td>0.0</td>\n",
       "      <td>0.0</td>\n",
       "      <td>0.0</td>\n",
       "      <td>0.0</td>\n",
       "      <td>0.0</td>\n",
       "      <td>...</td>\n",
       "      <td>1.0</td>\n",
       "      <td>0.0</td>\n",
       "      <td>1.0</td>\n",
       "      <td>0.0</td>\n",
       "      <td>0.0</td>\n",
       "      <td>1.0</td>\n",
       "      <td>0.0</td>\n",
       "      <td>0.0</td>\n",
       "      <td>0.0</td>\n",
       "      <td>0.0</td>\n",
       "    </tr>\n",
       "    <tr>\n",
       "      <th>2</th>\n",
       "      <td>0.0</td>\n",
       "      <td>0.0</td>\n",
       "      <td>1.0</td>\n",
       "      <td>1.0</td>\n",
       "      <td>0.0</td>\n",
       "      <td>0.0</td>\n",
       "      <td>1.0</td>\n",
       "      <td>1.0</td>\n",
       "      <td>0.0</td>\n",
       "      <td>0.0</td>\n",
       "      <td>...</td>\n",
       "      <td>0.0</td>\n",
       "      <td>1.0</td>\n",
       "      <td>1.0</td>\n",
       "      <td>0.0</td>\n",
       "      <td>0.0</td>\n",
       "      <td>1.0</td>\n",
       "      <td>1.0</td>\n",
       "      <td>0.0</td>\n",
       "      <td>0.0</td>\n",
       "      <td>0.0</td>\n",
       "    </tr>\n",
       "    <tr>\n",
       "      <th>3</th>\n",
       "      <td>0.0</td>\n",
       "      <td>0.0</td>\n",
       "      <td>1.0</td>\n",
       "      <td>1.0</td>\n",
       "      <td>0.0</td>\n",
       "      <td>0.0</td>\n",
       "      <td>1.0</td>\n",
       "      <td>1.0</td>\n",
       "      <td>1.0</td>\n",
       "      <td>0.0</td>\n",
       "      <td>...</td>\n",
       "      <td>0.0</td>\n",
       "      <td>0.0</td>\n",
       "      <td>2.0</td>\n",
       "      <td>0.0</td>\n",
       "      <td>0.0</td>\n",
       "      <td>0.0</td>\n",
       "      <td>0.0</td>\n",
       "      <td>0.0</td>\n",
       "      <td>0.0</td>\n",
       "      <td>0.0</td>\n",
       "    </tr>\n",
       "    <tr>\n",
       "      <th>4</th>\n",
       "      <td>0.0</td>\n",
       "      <td>0.0</td>\n",
       "      <td>0.0</td>\n",
       "      <td>0.0</td>\n",
       "      <td>0.0</td>\n",
       "      <td>0.0</td>\n",
       "      <td>1.0</td>\n",
       "      <td>0.0</td>\n",
       "      <td>1.0</td>\n",
       "      <td>0.0</td>\n",
       "      <td>...</td>\n",
       "      <td>0.0</td>\n",
       "      <td>0.0</td>\n",
       "      <td>1.0</td>\n",
       "      <td>0.0</td>\n",
       "      <td>0.0</td>\n",
       "      <td>1.0</td>\n",
       "      <td>0.0</td>\n",
       "      <td>2.0</td>\n",
       "      <td>2.0</td>\n",
       "      <td>1.0</td>\n",
       "    </tr>\n",
       "  </tbody>\n",
       "</table>\n",
       "<p>5 rows × 297678 columns</p>\n",
       "</div>"
      ],
      "text/plain": [
       "   rs3131972_A  rs11240777_A  rs4970383_A  rs4475691_A  rs13302982_A  \\\n",
       "0          0.0           0.0          0.0          0.0           0.0   \n",
       "1          1.0           1.0          0.0          0.0           0.0   \n",
       "2          0.0           0.0          1.0          1.0           0.0   \n",
       "3          0.0           0.0          1.0          1.0           0.0   \n",
       "4          0.0           0.0          0.0          0.0           0.0   \n",
       "\n",
       "   rs28391282_A  rs2341354_A  rs9777703_G  rs1891910_A  rs142743151_A  ...  \\\n",
       "0           0.0          0.0          0.0          0.0            0.0  ...   \n",
       "1           0.0          0.0          0.0          0.0            0.0  ...   \n",
       "2           0.0          1.0          1.0          0.0            0.0  ...   \n",
       "3           0.0          1.0          1.0          1.0            0.0  ...   \n",
       "4           0.0          1.0          0.0          1.0            0.0  ...   \n",
       "\n",
       "   rs6009945_C  rs9616810_A  rs9616812_A  rs9616816_A  rs77452243_A  \\\n",
       "0          0.0          1.0          1.0          0.0           0.0   \n",
       "1          1.0          0.0          1.0          0.0           0.0   \n",
       "2          0.0          1.0          1.0          0.0           0.0   \n",
       "3          0.0          0.0          2.0          0.0           0.0   \n",
       "4          0.0          0.0          1.0          0.0           0.0   \n",
       "\n",
       "   rs2341010_A  rs739365_A  rs6010063_G  rs10451_A  rs2285395_A  \n",
       "0          1.0         1.0          0.0        0.0          0.0  \n",
       "1          1.0         0.0          0.0        0.0          0.0  \n",
       "2          1.0         1.0          0.0        0.0          0.0  \n",
       "3          0.0         0.0          0.0        0.0          0.0  \n",
       "4          1.0         0.0          2.0        2.0          1.0  \n",
       "\n",
       "[5 rows x 297678 columns]"
      ]
     },
     "execution_count": 6,
     "metadata": {},
     "output_type": "execute_result"
    }
   ],
   "source": [
    "X.head(5)"
   ]
  },
  {
   "cell_type": "code",
   "execution_count": 7,
   "metadata": {},
   "outputs": [],
   "source": [
    "X_train, X_test, y_train, y_test = train_test_split(X, y, test_size=0.3, random_state=42)"
   ]
  },
  {
   "cell_type": "code",
   "execution_count": 8,
   "metadata": {},
   "outputs": [
    {
     "name": "stdout",
     "output_type": "stream",
     "text": [
      "Fitting 3 folds for each of 81 candidates, totalling 243 fits\n",
      "[CV 1/3] END max_depth=5, min_samples_leaf=1, min_samples_split=2, n_estimators=100;, score=0.704 total time=   2.6s\n",
      "[CV 2/3] END max_depth=5, min_samples_leaf=1, min_samples_split=2, n_estimators=100;, score=0.702 total time=   2.0s\n",
      "[CV 3/3] END max_depth=5, min_samples_leaf=1, min_samples_split=2, n_estimators=100;, score=0.702 total time=   2.1s\n",
      "[CV 1/3] END max_depth=5, min_samples_leaf=1, min_samples_split=2, n_estimators=200;, score=0.704 total time=   2.5s\n",
      "[CV 2/3] END max_depth=5, min_samples_leaf=1, min_samples_split=2, n_estimators=200;, score=0.702 total time=   2.5s\n",
      "[CV 3/3] END max_depth=5, min_samples_leaf=1, min_samples_split=2, n_estimators=200;, score=0.702 total time=   2.5s\n",
      "[CV 1/3] END max_depth=5, min_samples_leaf=1, min_samples_split=2, n_estimators=300;, score=0.704 total time=   3.1s\n",
      "[CV 2/3] END max_depth=5, min_samples_leaf=1, min_samples_split=2, n_estimators=300;, score=0.702 total time=   3.2s\n",
      "[CV 3/3] END max_depth=5, min_samples_leaf=1, min_samples_split=2, n_estimators=300;, score=0.726 total time=   3.1s\n",
      "[CV 1/3] END max_depth=5, min_samples_leaf=1, min_samples_split=5, n_estimators=100;, score=0.704 total time=   2.0s\n",
      "[CV 2/3] END max_depth=5, min_samples_leaf=1, min_samples_split=5, n_estimators=100;, score=0.702 total time=   2.0s\n",
      "[CV 3/3] END max_depth=5, min_samples_leaf=1, min_samples_split=5, n_estimators=100;, score=0.726 total time=   2.0s\n",
      "[CV 1/3] END max_depth=5, min_samples_leaf=1, min_samples_split=5, n_estimators=200;, score=0.704 total time=   2.5s\n",
      "[CV 2/3] END max_depth=5, min_samples_leaf=1, min_samples_split=5, n_estimators=200;, score=0.702 total time=   2.6s\n",
      "[CV 3/3] END max_depth=5, min_samples_leaf=1, min_samples_split=5, n_estimators=200;, score=0.726 total time=   2.5s\n",
      "[CV 1/3] END max_depth=5, min_samples_leaf=1, min_samples_split=5, n_estimators=300;, score=0.704 total time=   3.0s\n",
      "[CV 2/3] END max_depth=5, min_samples_leaf=1, min_samples_split=5, n_estimators=300;, score=0.702 total time=   3.1s\n",
      "[CV 3/3] END max_depth=5, min_samples_leaf=1, min_samples_split=5, n_estimators=300;, score=0.702 total time=   3.1s\n",
      "[CV 1/3] END max_depth=5, min_samples_leaf=1, min_samples_split=10, n_estimators=100;, score=0.704 total time=   2.0s\n",
      "[CV 2/3] END max_depth=5, min_samples_leaf=1, min_samples_split=10, n_estimators=100;, score=0.702 total time=   2.0s\n",
      "[CV 3/3] END max_depth=5, min_samples_leaf=1, min_samples_split=10, n_estimators=100;, score=0.726 total time=   2.0s\n",
      "[CV 1/3] END max_depth=5, min_samples_leaf=1, min_samples_split=10, n_estimators=200;, score=0.704 total time=   2.4s\n",
      "[CV 2/3] END max_depth=5, min_samples_leaf=1, min_samples_split=10, n_estimators=200;, score=0.702 total time=   2.6s\n",
      "[CV 3/3] END max_depth=5, min_samples_leaf=1, min_samples_split=10, n_estimators=200;, score=0.726 total time=   2.5s\n",
      "[CV 1/3] END max_depth=5, min_samples_leaf=1, min_samples_split=10, n_estimators=300;, score=0.704 total time=   3.0s\n",
      "[CV 2/3] END max_depth=5, min_samples_leaf=1, min_samples_split=10, n_estimators=300;, score=0.702 total time=   3.1s\n",
      "[CV 3/3] END max_depth=5, min_samples_leaf=1, min_samples_split=10, n_estimators=300;, score=0.726 total time=   3.0s\n",
      "[CV 1/3] END max_depth=5, min_samples_leaf=2, min_samples_split=2, n_estimators=100;, score=0.704 total time=   2.0s\n",
      "[CV 2/3] END max_depth=5, min_samples_leaf=2, min_samples_split=2, n_estimators=100;, score=0.702 total time=   2.0s\n",
      "[CV 3/3] END max_depth=5, min_samples_leaf=2, min_samples_split=2, n_estimators=100;, score=0.726 total time=   2.1s\n",
      "[CV 1/3] END max_depth=5, min_samples_leaf=2, min_samples_split=2, n_estimators=200;, score=0.704 total time=   2.5s\n",
      "[CV 2/3] END max_depth=5, min_samples_leaf=2, min_samples_split=2, n_estimators=200;, score=0.702 total time=   2.5s\n",
      "[CV 3/3] END max_depth=5, min_samples_leaf=2, min_samples_split=2, n_estimators=200;, score=0.726 total time=   2.6s\n",
      "[CV 1/3] END max_depth=5, min_samples_leaf=2, min_samples_split=2, n_estimators=300;, score=0.704 total time=   3.1s\n",
      "[CV 2/3] END max_depth=5, min_samples_leaf=2, min_samples_split=2, n_estimators=300;, score=0.702 total time=   3.2s\n",
      "[CV 3/3] END max_depth=5, min_samples_leaf=2, min_samples_split=2, n_estimators=300;, score=0.726 total time=   3.2s\n",
      "[CV 1/3] END max_depth=5, min_samples_leaf=2, min_samples_split=5, n_estimators=100;, score=0.704 total time=   2.1s\n",
      "[CV 2/3] END max_depth=5, min_samples_leaf=2, min_samples_split=5, n_estimators=100;, score=0.702 total time=   2.1s\n",
      "[CV 3/3] END max_depth=5, min_samples_leaf=2, min_samples_split=5, n_estimators=100;, score=0.726 total time=   2.4s\n",
      "[CV 1/3] END max_depth=5, min_samples_leaf=2, min_samples_split=5, n_estimators=200;, score=0.704 total time=   3.0s\n",
      "[CV 2/3] END max_depth=5, min_samples_leaf=2, min_samples_split=5, n_estimators=200;, score=0.702 total time=   3.3s\n",
      "[CV 3/3] END max_depth=5, min_samples_leaf=2, min_samples_split=5, n_estimators=200;, score=0.726 total time=   3.7s\n",
      "[CV 1/3] END max_depth=5, min_samples_leaf=2, min_samples_split=5, n_estimators=300;, score=0.704 total time=   3.3s\n",
      "[CV 2/3] END max_depth=5, min_samples_leaf=2, min_samples_split=5, n_estimators=300;, score=0.702 total time=   3.4s\n",
      "[CV 3/3] END max_depth=5, min_samples_leaf=2, min_samples_split=5, n_estimators=300;, score=0.726 total time=   3.2s\n",
      "[CV 1/3] END max_depth=5, min_samples_leaf=2, min_samples_split=10, n_estimators=100;, score=0.704 total time=   2.1s\n",
      "[CV 2/3] END max_depth=5, min_samples_leaf=2, min_samples_split=10, n_estimators=100;, score=0.702 total time=   2.3s\n",
      "[CV 3/3] END max_depth=5, min_samples_leaf=2, min_samples_split=10, n_estimators=100;, score=0.726 total time=   2.7s\n",
      "[CV 1/3] END max_depth=5, min_samples_leaf=2, min_samples_split=10, n_estimators=200;, score=0.704 total time=   2.7s\n",
      "[CV 2/3] END max_depth=5, min_samples_leaf=2, min_samples_split=10, n_estimators=200;, score=0.702 total time=   2.6s\n",
      "[CV 3/3] END max_depth=5, min_samples_leaf=2, min_samples_split=10, n_estimators=200;, score=0.726 total time=   2.5s\n",
      "[CV 1/3] END max_depth=5, min_samples_leaf=2, min_samples_split=10, n_estimators=300;, score=0.704 total time=   2.9s\n",
      "[CV 2/3] END max_depth=5, min_samples_leaf=2, min_samples_split=10, n_estimators=300;, score=0.702 total time=   3.0s\n",
      "[CV 3/3] END max_depth=5, min_samples_leaf=2, min_samples_split=10, n_estimators=300;, score=0.726 total time=   3.1s\n",
      "[CV 1/3] END max_depth=5, min_samples_leaf=4, min_samples_split=2, n_estimators=100;, score=0.704 total time=   2.1s\n",
      "[CV 2/3] END max_depth=5, min_samples_leaf=4, min_samples_split=2, n_estimators=100;, score=0.702 total time=   2.1s\n",
      "[CV 3/3] END max_depth=5, min_samples_leaf=4, min_samples_split=2, n_estimators=100;, score=0.726 total time=   2.1s\n",
      "[CV 1/3] END max_depth=5, min_samples_leaf=4, min_samples_split=2, n_estimators=200;, score=0.704 total time=   2.5s\n",
      "[CV 2/3] END max_depth=5, min_samples_leaf=4, min_samples_split=2, n_estimators=200;, score=0.702 total time=   2.5s\n",
      "[CV 3/3] END max_depth=5, min_samples_leaf=4, min_samples_split=2, n_estimators=200;, score=0.726 total time=   3.0s\n",
      "[CV 1/3] END max_depth=5, min_samples_leaf=4, min_samples_split=2, n_estimators=300;, score=0.704 total time=   7.9s\n",
      "[CV 2/3] END max_depth=5, min_samples_leaf=4, min_samples_split=2, n_estimators=300;, score=0.702 total time=   8.8s\n",
      "[CV 3/3] END max_depth=5, min_samples_leaf=4, min_samples_split=2, n_estimators=300;, score=0.726 total time=   9.9s\n",
      "[CV 1/3] END max_depth=5, min_samples_leaf=4, min_samples_split=5, n_estimators=100;, score=0.704 total time=   7.1s\n",
      "[CV 2/3] END max_depth=5, min_samples_leaf=4, min_samples_split=5, n_estimators=100;, score=0.702 total time=   5.0s\n",
      "[CV 3/3] END max_depth=5, min_samples_leaf=4, min_samples_split=5, n_estimators=100;, score=0.726 total time=   5.3s\n",
      "[CV 1/3] END max_depth=5, min_samples_leaf=4, min_samples_split=5, n_estimators=200;, score=0.704 total time=   8.6s\n",
      "[CV 2/3] END max_depth=5, min_samples_leaf=4, min_samples_split=5, n_estimators=200;, score=0.702 total time=   9.2s\n",
      "[CV 3/3] END max_depth=5, min_samples_leaf=4, min_samples_split=5, n_estimators=200;, score=0.726 total time=   6.5s\n",
      "[CV 1/3] END max_depth=5, min_samples_leaf=4, min_samples_split=5, n_estimators=300;, score=0.704 total time=   9.7s\n",
      "[CV 2/3] END max_depth=5, min_samples_leaf=4, min_samples_split=5, n_estimators=300;, score=0.702 total time=   7.2s\n",
      "[CV 3/3] END max_depth=5, min_samples_leaf=4, min_samples_split=5, n_estimators=300;, score=0.726 total time=   8.5s\n",
      "[CV 1/3] END max_depth=5, min_samples_leaf=4, min_samples_split=10, n_estimators=100;, score=0.704 total time=   2.5s\n",
      "[CV 2/3] END max_depth=5, min_samples_leaf=4, min_samples_split=10, n_estimators=100;, score=0.702 total time=   2.2s\n",
      "[CV 3/3] END max_depth=5, min_samples_leaf=4, min_samples_split=10, n_estimators=100;, score=0.726 total time=   2.1s\n",
      "[CV 1/3] END max_depth=5, min_samples_leaf=4, min_samples_split=10, n_estimators=200;, score=0.704 total time=   3.0s\n",
      "[CV 2/3] END max_depth=5, min_samples_leaf=4, min_samples_split=10, n_estimators=200;, score=0.702 total time=   2.7s\n",
      "[CV 3/3] END max_depth=5, min_samples_leaf=4, min_samples_split=10, n_estimators=200;, score=0.726 total time=   2.6s\n",
      "[CV 1/3] END max_depth=5, min_samples_leaf=4, min_samples_split=10, n_estimators=300;, score=0.704 total time=   3.1s\n",
      "[CV 2/3] END max_depth=5, min_samples_leaf=4, min_samples_split=10, n_estimators=300;, score=0.702 total time=   3.1s\n",
      "[CV 3/3] END max_depth=5, min_samples_leaf=4, min_samples_split=10, n_estimators=300;, score=0.726 total time=   3.1s\n",
      "[CV 1/3] END max_depth=7, min_samples_leaf=1, min_samples_split=2, n_estimators=100;, score=0.704 total time=   2.4s\n",
      "[CV 2/3] END max_depth=7, min_samples_leaf=1, min_samples_split=2, n_estimators=100;, score=0.702 total time=   2.4s\n",
      "[CV 3/3] END max_depth=7, min_samples_leaf=1, min_samples_split=2, n_estimators=100;, score=0.702 total time=   2.4s\n",
      "[CV 1/3] END max_depth=7, min_samples_leaf=1, min_samples_split=2, n_estimators=200;, score=0.704 total time=   3.0s\n",
      "[CV 2/3] END max_depth=7, min_samples_leaf=1, min_samples_split=2, n_estimators=200;, score=0.702 total time=   2.9s\n",
      "[CV 3/3] END max_depth=7, min_samples_leaf=1, min_samples_split=2, n_estimators=200;, score=0.726 total time=   2.9s\n",
      "[CV 1/3] END max_depth=7, min_samples_leaf=1, min_samples_split=2, n_estimators=300;, score=0.704 total time=   3.7s\n",
      "[CV 2/3] END max_depth=7, min_samples_leaf=1, min_samples_split=2, n_estimators=300;, score=0.702 total time=   3.6s\n",
      "[CV 3/3] END max_depth=7, min_samples_leaf=1, min_samples_split=2, n_estimators=300;, score=0.702 total time=   4.1s\n",
      "[CV 1/3] END max_depth=7, min_samples_leaf=1, min_samples_split=5, n_estimators=100;, score=0.712 total time=   2.5s\n",
      "[CV 2/3] END max_depth=7, min_samples_leaf=1, min_samples_split=5, n_estimators=100;, score=0.702 total time=   2.2s\n",
      "[CV 3/3] END max_depth=7, min_samples_leaf=1, min_samples_split=5, n_estimators=100;, score=0.726 total time=   2.2s\n",
      "[CV 1/3] END max_depth=7, min_samples_leaf=1, min_samples_split=5, n_estimators=200;, score=0.704 total time=   2.9s\n",
      "[CV 2/3] END max_depth=7, min_samples_leaf=1, min_samples_split=5, n_estimators=200;, score=0.702 total time=   2.8s\n",
      "[CV 3/3] END max_depth=7, min_samples_leaf=1, min_samples_split=5, n_estimators=200;, score=0.726 total time=   2.8s\n",
      "[CV 1/3] END max_depth=7, min_samples_leaf=1, min_samples_split=5, n_estimators=300;, score=0.704 total time=   3.4s\n",
      "[CV 2/3] END max_depth=7, min_samples_leaf=1, min_samples_split=5, n_estimators=300;, score=0.702 total time=   3.4s\n",
      "[CV 3/3] END max_depth=7, min_samples_leaf=1, min_samples_split=5, n_estimators=300;, score=0.726 total time=   3.6s\n",
      "[CV 1/3] END max_depth=7, min_samples_leaf=1, min_samples_split=10, n_estimators=100;, score=0.704 total time=   2.1s\n",
      "[CV 2/3] END max_depth=7, min_samples_leaf=1, min_samples_split=10, n_estimators=100;, score=0.702 total time=   2.2s\n",
      "[CV 3/3] END max_depth=7, min_samples_leaf=1, min_samples_split=10, n_estimators=100;, score=0.726 total time=   2.2s\n",
      "[CV 1/3] END max_depth=7, min_samples_leaf=1, min_samples_split=10, n_estimators=200;, score=0.704 total time=   2.8s\n",
      "[CV 2/3] END max_depth=7, min_samples_leaf=1, min_samples_split=10, n_estimators=200;, score=0.702 total time=   2.7s\n",
      "[CV 3/3] END max_depth=7, min_samples_leaf=1, min_samples_split=10, n_estimators=200;, score=0.726 total time=   2.8s\n",
      "[CV 1/3] END max_depth=7, min_samples_leaf=1, min_samples_split=10, n_estimators=300;, score=0.704 total time=   3.4s\n",
      "[CV 2/3] END max_depth=7, min_samples_leaf=1, min_samples_split=10, n_estimators=300;, score=0.702 total time=   3.4s\n",
      "[CV 3/3] END max_depth=7, min_samples_leaf=1, min_samples_split=10, n_estimators=300;, score=0.726 total time=   3.5s\n",
      "[CV 1/3] END max_depth=7, min_samples_leaf=2, min_samples_split=2, n_estimators=100;, score=0.704 total time=   2.4s\n",
      "[CV 2/3] END max_depth=7, min_samples_leaf=2, min_samples_split=2, n_estimators=100;, score=0.702 total time=   2.3s\n",
      "[CV 3/3] END max_depth=7, min_samples_leaf=2, min_samples_split=2, n_estimators=100;, score=0.726 total time=   2.3s\n",
      "[CV 1/3] END max_depth=7, min_samples_leaf=2, min_samples_split=2, n_estimators=200;, score=0.704 total time=   2.9s\n",
      "[CV 2/3] END max_depth=7, min_samples_leaf=2, min_samples_split=2, n_estimators=200;, score=0.702 total time=   2.9s\n",
      "[CV 3/3] END max_depth=7, min_samples_leaf=2, min_samples_split=2, n_estimators=200;, score=0.726 total time=   2.9s\n",
      "[CV 1/3] END max_depth=7, min_samples_leaf=2, min_samples_split=2, n_estimators=300;, score=0.704 total time=   3.7s\n",
      "[CV 2/3] END max_depth=7, min_samples_leaf=2, min_samples_split=2, n_estimators=300;, score=0.702 total time=   3.6s\n",
      "[CV 3/3] END max_depth=7, min_samples_leaf=2, min_samples_split=2, n_estimators=300;, score=0.726 total time=   3.6s\n",
      "[CV 1/3] END max_depth=7, min_samples_leaf=2, min_samples_split=5, n_estimators=100;, score=0.704 total time=   2.3s\n",
      "[CV 2/3] END max_depth=7, min_samples_leaf=2, min_samples_split=5, n_estimators=100;, score=0.702 total time=   2.2s\n",
      "[CV 3/3] END max_depth=7, min_samples_leaf=2, min_samples_split=5, n_estimators=100;, score=0.726 total time=   2.1s\n",
      "[CV 1/3] END max_depth=7, min_samples_leaf=2, min_samples_split=5, n_estimators=200;, score=0.704 total time=   2.7s\n",
      "[CV 2/3] END max_depth=7, min_samples_leaf=2, min_samples_split=5, n_estimators=200;, score=0.702 total time=   2.9s\n",
      "[CV 3/3] END max_depth=7, min_samples_leaf=2, min_samples_split=5, n_estimators=200;, score=0.726 total time=   2.8s\n",
      "[CV 1/3] END max_depth=7, min_samples_leaf=2, min_samples_split=5, n_estimators=300;, score=0.704 total time=   3.5s\n",
      "[CV 2/3] END max_depth=7, min_samples_leaf=2, min_samples_split=5, n_estimators=300;, score=0.702 total time=   3.5s\n",
      "[CV 3/3] END max_depth=7, min_samples_leaf=2, min_samples_split=5, n_estimators=300;, score=0.726 total time=   3.4s\n",
      "[CV 1/3] END max_depth=7, min_samples_leaf=2, min_samples_split=10, n_estimators=100;, score=0.712 total time=   2.4s\n",
      "[CV 2/3] END max_depth=7, min_samples_leaf=2, min_samples_split=10, n_estimators=100;, score=0.702 total time=   2.2s\n",
      "[CV 3/3] END max_depth=7, min_samples_leaf=2, min_samples_split=10, n_estimators=100;, score=0.726 total time=   2.2s\n",
      "[CV 1/3] END max_depth=7, min_samples_leaf=2, min_samples_split=10, n_estimators=200;, score=0.704 total time=   2.7s\n",
      "[CV 2/3] END max_depth=7, min_samples_leaf=2, min_samples_split=10, n_estimators=200;, score=0.702 total time=   2.7s\n",
      "[CV 3/3] END max_depth=7, min_samples_leaf=2, min_samples_split=10, n_estimators=200;, score=0.726 total time=   2.8s\n",
      "[CV 1/3] END max_depth=7, min_samples_leaf=2, min_samples_split=10, n_estimators=300;, score=0.704 total time=   3.3s\n",
      "[CV 2/3] END max_depth=7, min_samples_leaf=2, min_samples_split=10, n_estimators=300;, score=0.702 total time=   3.4s\n",
      "[CV 3/3] END max_depth=7, min_samples_leaf=2, min_samples_split=10, n_estimators=300;, score=0.726 total time=   3.3s\n",
      "[CV 1/3] END max_depth=7, min_samples_leaf=4, min_samples_split=2, n_estimators=100;, score=0.704 total time=   2.1s\n",
      "[CV 2/3] END max_depth=7, min_samples_leaf=4, min_samples_split=2, n_estimators=100;, score=0.702 total time=   2.2s\n",
      "[CV 3/3] END max_depth=7, min_samples_leaf=4, min_samples_split=2, n_estimators=100;, score=0.726 total time=   2.2s\n",
      "[CV 1/3] END max_depth=7, min_samples_leaf=4, min_samples_split=2, n_estimators=200;, score=0.704 total time=   2.8s\n",
      "[CV 2/3] END max_depth=7, min_samples_leaf=4, min_samples_split=2, n_estimators=200;, score=0.702 total time=   2.7s\n",
      "[CV 3/3] END max_depth=7, min_samples_leaf=4, min_samples_split=2, n_estimators=200;, score=0.726 total time=   2.6s\n",
      "[CV 1/3] END max_depth=7, min_samples_leaf=4, min_samples_split=2, n_estimators=300;, score=0.704 total time=   3.5s\n",
      "[CV 2/3] END max_depth=7, min_samples_leaf=4, min_samples_split=2, n_estimators=300;, score=0.702 total time=   3.3s\n",
      "[CV 3/3] END max_depth=7, min_samples_leaf=4, min_samples_split=2, n_estimators=300;, score=0.726 total time=   3.3s\n",
      "[CV 1/3] END max_depth=7, min_samples_leaf=4, min_samples_split=5, n_estimators=100;, score=0.704 total time=   2.1s\n",
      "[CV 2/3] END max_depth=7, min_samples_leaf=4, min_samples_split=5, n_estimators=100;, score=0.702 total time=   2.1s\n",
      "[CV 3/3] END max_depth=7, min_samples_leaf=4, min_samples_split=5, n_estimators=100;, score=0.726 total time=   2.2s\n",
      "[CV 1/3] END max_depth=7, min_samples_leaf=4, min_samples_split=5, n_estimators=200;, score=0.704 total time=   2.7s\n",
      "[CV 2/3] END max_depth=7, min_samples_leaf=4, min_samples_split=5, n_estimators=200;, score=0.702 total time=   2.7s\n",
      "[CV 3/3] END max_depth=7, min_samples_leaf=4, min_samples_split=5, n_estimators=200;, score=0.726 total time=   2.8s\n",
      "[CV 1/3] END max_depth=7, min_samples_leaf=4, min_samples_split=5, n_estimators=300;, score=0.704 total time=   3.5s\n",
      "[CV 2/3] END max_depth=7, min_samples_leaf=4, min_samples_split=5, n_estimators=300;, score=0.702 total time=   3.2s\n",
      "[CV 3/3] END max_depth=7, min_samples_leaf=4, min_samples_split=5, n_estimators=300;, score=0.726 total time=   3.2s\n",
      "[CV 1/3] END max_depth=7, min_samples_leaf=4, min_samples_split=10, n_estimators=100;, score=0.704 total time=   2.1s\n",
      "[CV 2/3] END max_depth=7, min_samples_leaf=4, min_samples_split=10, n_estimators=100;, score=0.702 total time=   2.1s\n",
      "[CV 3/3] END max_depth=7, min_samples_leaf=4, min_samples_split=10, n_estimators=100;, score=0.726 total time=   2.1s\n",
      "[CV 1/3] END max_depth=7, min_samples_leaf=4, min_samples_split=10, n_estimators=200;, score=0.704 total time=   2.7s\n",
      "[CV 2/3] END max_depth=7, min_samples_leaf=4, min_samples_split=10, n_estimators=200;, score=0.702 total time=   2.7s\n",
      "[CV 3/3] END max_depth=7, min_samples_leaf=4, min_samples_split=10, n_estimators=200;, score=0.726 total time=   2.6s\n",
      "[CV 1/3] END max_depth=7, min_samples_leaf=4, min_samples_split=10, n_estimators=300;, score=0.704 total time=   3.4s\n",
      "[CV 2/3] END max_depth=7, min_samples_leaf=4, min_samples_split=10, n_estimators=300;, score=0.702 total time=   3.4s\n",
      "[CV 3/3] END max_depth=7, min_samples_leaf=4, min_samples_split=10, n_estimators=300;, score=0.726 total time=   3.2s\n",
      "[CV 1/3] END max_depth=9, min_samples_leaf=1, min_samples_split=2, n_estimators=100;, score=0.696 total time=   2.4s\n",
      "[CV 2/3] END max_depth=9, min_samples_leaf=1, min_samples_split=2, n_estimators=100;, score=0.702 total time=   2.4s\n",
      "[CV 3/3] END max_depth=9, min_samples_leaf=1, min_samples_split=2, n_estimators=100;, score=0.702 total time=   2.3s\n",
      "[CV 1/3] END max_depth=9, min_samples_leaf=1, min_samples_split=2, n_estimators=200;, score=0.704 total time=   3.0s\n",
      "[CV 2/3] END max_depth=9, min_samples_leaf=1, min_samples_split=2, n_estimators=200;, score=0.702 total time=   3.1s\n",
      "[CV 3/3] END max_depth=9, min_samples_leaf=1, min_samples_split=2, n_estimators=200;, score=0.726 total time=   3.0s\n",
      "[CV 1/3] END max_depth=9, min_samples_leaf=1, min_samples_split=2, n_estimators=300;, score=0.704 total time=   3.9s\n",
      "[CV 2/3] END max_depth=9, min_samples_leaf=1, min_samples_split=2, n_estimators=300;, score=0.702 total time=   4.1s\n",
      "[CV 3/3] END max_depth=9, min_samples_leaf=1, min_samples_split=2, n_estimators=300;, score=0.702 total time=   4.0s\n",
      "[CV 1/3] END max_depth=9, min_samples_leaf=1, min_samples_split=5, n_estimators=100;, score=0.704 total time=   2.5s\n",
      "[CV 2/3] END max_depth=9, min_samples_leaf=1, min_samples_split=5, n_estimators=100;, score=0.702 total time=   2.4s\n",
      "[CV 3/3] END max_depth=9, min_samples_leaf=1, min_samples_split=5, n_estimators=100;, score=0.702 total time=   2.3s\n",
      "[CV 1/3] END max_depth=9, min_samples_leaf=1, min_samples_split=5, n_estimators=200;, score=0.712 total time=   3.1s\n",
      "[CV 2/3] END max_depth=9, min_samples_leaf=1, min_samples_split=5, n_estimators=200;, score=0.702 total time=   3.0s\n",
      "[CV 3/3] END max_depth=9, min_samples_leaf=1, min_samples_split=5, n_estimators=200;, score=0.702 total time=   2.9s\n",
      "[CV 1/3] END max_depth=9, min_samples_leaf=1, min_samples_split=5, n_estimators=300;, score=0.704 total time=   3.7s\n",
      "[CV 2/3] END max_depth=9, min_samples_leaf=1, min_samples_split=5, n_estimators=300;, score=0.702 total time=   3.9s\n",
      "[CV 3/3] END max_depth=9, min_samples_leaf=1, min_samples_split=5, n_estimators=300;, score=0.702 total time=   3.7s\n",
      "[CV 1/3] END max_depth=9, min_samples_leaf=1, min_samples_split=10, n_estimators=100;, score=0.712 total time=   2.2s\n",
      "[CV 2/3] END max_depth=9, min_samples_leaf=1, min_samples_split=10, n_estimators=100;, score=0.702 total time=   2.3s\n",
      "[CV 3/3] END max_depth=9, min_samples_leaf=1, min_samples_split=10, n_estimators=100;, score=0.726 total time=   2.3s\n",
      "[CV 1/3] END max_depth=9, min_samples_leaf=1, min_samples_split=10, n_estimators=200;, score=0.704 total time=   3.1s\n",
      "[CV 2/3] END max_depth=9, min_samples_leaf=1, min_samples_split=10, n_estimators=200;, score=0.702 total time=   3.1s\n",
      "[CV 3/3] END max_depth=9, min_samples_leaf=1, min_samples_split=10, n_estimators=200;, score=0.726 total time=   3.0s\n",
      "[CV 1/3] END max_depth=9, min_samples_leaf=1, min_samples_split=10, n_estimators=300;, score=0.704 total time=   3.6s\n",
      "[CV 2/3] END max_depth=9, min_samples_leaf=1, min_samples_split=10, n_estimators=300;, score=0.702 total time=   3.7s\n",
      "[CV 3/3] END max_depth=9, min_samples_leaf=1, min_samples_split=10, n_estimators=300;, score=0.726 total time=   3.6s\n",
      "[CV 1/3] END max_depth=9, min_samples_leaf=2, min_samples_split=2, n_estimators=100;, score=0.704 total time=   2.3s\n",
      "[CV 2/3] END max_depth=9, min_samples_leaf=2, min_samples_split=2, n_estimators=100;, score=0.702 total time=   2.3s\n",
      "[CV 3/3] END max_depth=9, min_samples_leaf=2, min_samples_split=2, n_estimators=100;, score=0.702 total time=   2.3s\n",
      "[CV 1/3] END max_depth=9, min_samples_leaf=2, min_samples_split=2, n_estimators=200;, score=0.704 total time=   2.9s\n",
      "[CV 2/3] END max_depth=9, min_samples_leaf=2, min_samples_split=2, n_estimators=200;, score=0.702 total time=   3.0s\n",
      "[CV 3/3] END max_depth=9, min_samples_leaf=2, min_samples_split=2, n_estimators=200;, score=0.702 total time=   3.0s\n",
      "[CV 1/3] END max_depth=9, min_samples_leaf=2, min_samples_split=2, n_estimators=300;, score=0.704 total time=   4.0s\n",
      "[CV 2/3] END max_depth=9, min_samples_leaf=2, min_samples_split=2, n_estimators=300;, score=0.702 total time=   4.4s\n",
      "[CV 3/3] END max_depth=9, min_samples_leaf=2, min_samples_split=2, n_estimators=300;, score=0.702 total time=   4.0s\n",
      "[CV 1/3] END max_depth=9, min_samples_leaf=2, min_samples_split=5, n_estimators=100;, score=0.704 total time=   2.4s\n",
      "[CV 2/3] END max_depth=9, min_samples_leaf=2, min_samples_split=5, n_estimators=100;, score=0.702 total time=   2.4s\n",
      "[CV 3/3] END max_depth=9, min_samples_leaf=2, min_samples_split=5, n_estimators=100;, score=0.726 total time=   2.3s\n",
      "[CV 1/3] END max_depth=9, min_samples_leaf=2, min_samples_split=5, n_estimators=200;, score=0.704 total time=   3.2s\n",
      "[CV 2/3] END max_depth=9, min_samples_leaf=2, min_samples_split=5, n_estimators=200;, score=0.702 total time=   3.4s\n",
      "[CV 3/3] END max_depth=9, min_samples_leaf=2, min_samples_split=5, n_estimators=200;, score=0.702 total time=   3.1s\n",
      "[CV 1/3] END max_depth=9, min_samples_leaf=2, min_samples_split=5, n_estimators=300;, score=0.704 total time=   3.8s\n",
      "[CV 2/3] END max_depth=9, min_samples_leaf=2, min_samples_split=5, n_estimators=300;, score=0.702 total time=   3.7s\n",
      "[CV 3/3] END max_depth=9, min_samples_leaf=2, min_samples_split=5, n_estimators=300;, score=0.702 total time=   3.4s\n",
      "[CV 1/3] END max_depth=9, min_samples_leaf=2, min_samples_split=10, n_estimators=100;, score=0.712 total time=   2.2s\n",
      "[CV 2/3] END max_depth=9, min_samples_leaf=2, min_samples_split=10, n_estimators=100;, score=0.702 total time=   2.2s\n",
      "[CV 3/3] END max_depth=9, min_samples_leaf=2, min_samples_split=10, n_estimators=100;, score=0.726 total time=   2.1s\n",
      "[CV 1/3] END max_depth=9, min_samples_leaf=2, min_samples_split=10, n_estimators=200;, score=0.704 total time=   2.7s\n",
      "[CV 2/3] END max_depth=9, min_samples_leaf=2, min_samples_split=10, n_estimators=200;, score=0.702 total time=   2.7s\n",
      "[CV 3/3] END max_depth=9, min_samples_leaf=2, min_samples_split=10, n_estimators=200;, score=0.726 total time=   2.8s\n",
      "[CV 1/3] END max_depth=9, min_samples_leaf=2, min_samples_split=10, n_estimators=300;, score=0.704 total time=   3.5s\n",
      "[CV 2/3] END max_depth=9, min_samples_leaf=2, min_samples_split=10, n_estimators=300;, score=0.702 total time=   3.5s\n",
      "[CV 3/3] END max_depth=9, min_samples_leaf=2, min_samples_split=10, n_estimators=300;, score=0.726 total time=   3.3s\n",
      "[CV 1/3] END max_depth=9, min_samples_leaf=4, min_samples_split=2, n_estimators=100;, score=0.704 total time=   2.2s\n",
      "[CV 2/3] END max_depth=9, min_samples_leaf=4, min_samples_split=2, n_estimators=100;, score=0.702 total time=   2.2s\n",
      "[CV 3/3] END max_depth=9, min_samples_leaf=4, min_samples_split=2, n_estimators=100;, score=0.726 total time=   2.2s\n",
      "[CV 1/3] END max_depth=9, min_samples_leaf=4, min_samples_split=2, n_estimators=200;, score=0.704 total time=   3.0s\n",
      "[CV 2/3] END max_depth=9, min_samples_leaf=4, min_samples_split=2, n_estimators=200;, score=0.702 total time=   2.9s\n",
      "[CV 3/3] END max_depth=9, min_samples_leaf=4, min_samples_split=2, n_estimators=200;, score=0.726 total time=   2.7s\n",
      "[CV 1/3] END max_depth=9, min_samples_leaf=4, min_samples_split=2, n_estimators=300;, score=0.704 total time=   3.4s\n",
      "[CV 2/3] END max_depth=9, min_samples_leaf=4, min_samples_split=2, n_estimators=300;, score=0.702 total time=   3.3s\n",
      "[CV 3/3] END max_depth=9, min_samples_leaf=4, min_samples_split=2, n_estimators=300;, score=0.726 total time=   3.3s\n",
      "[CV 1/3] END max_depth=9, min_samples_leaf=4, min_samples_split=5, n_estimators=100;, score=0.704 total time=   2.1s\n",
      "[CV 2/3] END max_depth=9, min_samples_leaf=4, min_samples_split=5, n_estimators=100;, score=0.702 total time=   2.1s\n",
      "[CV 3/3] END max_depth=9, min_samples_leaf=4, min_samples_split=5, n_estimators=100;, score=0.726 total time=   2.1s\n",
      "[CV 1/3] END max_depth=9, min_samples_leaf=4, min_samples_split=5, n_estimators=200;, score=0.704 total time=   2.7s\n",
      "[CV 2/3] END max_depth=9, min_samples_leaf=4, min_samples_split=5, n_estimators=200;, score=0.702 total time=   2.7s\n",
      "[CV 3/3] END max_depth=9, min_samples_leaf=4, min_samples_split=5, n_estimators=200;, score=0.726 total time=   2.7s\n",
      "[CV 1/3] END max_depth=9, min_samples_leaf=4, min_samples_split=5, n_estimators=300;, score=0.704 total time=   3.4s\n",
      "[CV 2/3] END max_depth=9, min_samples_leaf=4, min_samples_split=5, n_estimators=300;, score=0.702 total time=   3.3s\n",
      "[CV 3/3] END max_depth=9, min_samples_leaf=4, min_samples_split=5, n_estimators=300;, score=0.726 total time=   3.2s\n",
      "[CV 1/3] END max_depth=9, min_samples_leaf=4, min_samples_split=10, n_estimators=100;, score=0.696 total time=   2.1s\n",
      "[CV 2/3] END max_depth=9, min_samples_leaf=4, min_samples_split=10, n_estimators=100;, score=0.702 total time=   2.2s\n",
      "[CV 3/3] END max_depth=9, min_samples_leaf=4, min_samples_split=10, n_estimators=100;, score=0.726 total time=   2.2s\n",
      "[CV 1/3] END max_depth=9, min_samples_leaf=4, min_samples_split=10, n_estimators=200;, score=0.704 total time=   2.8s\n",
      "[CV 2/3] END max_depth=9, min_samples_leaf=4, min_samples_split=10, n_estimators=200;, score=0.702 total time=   3.0s\n",
      "[CV 3/3] END max_depth=9, min_samples_leaf=4, min_samples_split=10, n_estimators=200;, score=0.726 total time=   2.7s\n",
      "[CV 1/3] END max_depth=9, min_samples_leaf=4, min_samples_split=10, n_estimators=300;, score=0.704 total time=   3.6s\n",
      "[CV 2/3] END max_depth=9, min_samples_leaf=4, min_samples_split=10, n_estimators=300;, score=0.702 total time=   3.6s\n",
      "[CV 3/3] END max_depth=9, min_samples_leaf=4, min_samples_split=10, n_estimators=300;, score=0.726 total time=   3.4s\n"
     ]
    },
    {
     "data": {
      "text/html": [
       "<style>#sk-container-id-1 {color: black;}#sk-container-id-1 pre{padding: 0;}#sk-container-id-1 div.sk-toggleable {background-color: white;}#sk-container-id-1 label.sk-toggleable__label {cursor: pointer;display: block;width: 100%;margin-bottom: 0;padding: 0.3em;box-sizing: border-box;text-align: center;}#sk-container-id-1 label.sk-toggleable__label-arrow:before {content: \"▸\";float: left;margin-right: 0.25em;color: #696969;}#sk-container-id-1 label.sk-toggleable__label-arrow:hover:before {color: black;}#sk-container-id-1 div.sk-estimator:hover label.sk-toggleable__label-arrow:before {color: black;}#sk-container-id-1 div.sk-toggleable__content {max-height: 0;max-width: 0;overflow: hidden;text-align: left;background-color: #f0f8ff;}#sk-container-id-1 div.sk-toggleable__content pre {margin: 0.2em;color: black;border-radius: 0.25em;background-color: #f0f8ff;}#sk-container-id-1 input.sk-toggleable__control:checked~div.sk-toggleable__content {max-height: 200px;max-width: 100%;overflow: auto;}#sk-container-id-1 input.sk-toggleable__control:checked~label.sk-toggleable__label-arrow:before {content: \"▾\";}#sk-container-id-1 div.sk-estimator input.sk-toggleable__control:checked~label.sk-toggleable__label {background-color: #d4ebff;}#sk-container-id-1 div.sk-label input.sk-toggleable__control:checked~label.sk-toggleable__label {background-color: #d4ebff;}#sk-container-id-1 input.sk-hidden--visually {border: 0;clip: rect(1px 1px 1px 1px);clip: rect(1px, 1px, 1px, 1px);height: 1px;margin: -1px;overflow: hidden;padding: 0;position: absolute;width: 1px;}#sk-container-id-1 div.sk-estimator {font-family: monospace;background-color: #f0f8ff;border: 1px dotted black;border-radius: 0.25em;box-sizing: border-box;margin-bottom: 0.5em;}#sk-container-id-1 div.sk-estimator:hover {background-color: #d4ebff;}#sk-container-id-1 div.sk-parallel-item::after {content: \"\";width: 100%;border-bottom: 1px solid gray;flex-grow: 1;}#sk-container-id-1 div.sk-label:hover label.sk-toggleable__label {background-color: #d4ebff;}#sk-container-id-1 div.sk-serial::before {content: \"\";position: absolute;border-left: 1px solid gray;box-sizing: border-box;top: 0;bottom: 0;left: 50%;z-index: 0;}#sk-container-id-1 div.sk-serial {display: flex;flex-direction: column;align-items: center;background-color: white;padding-right: 0.2em;padding-left: 0.2em;position: relative;}#sk-container-id-1 div.sk-item {position: relative;z-index: 1;}#sk-container-id-1 div.sk-parallel {display: flex;align-items: stretch;justify-content: center;background-color: white;position: relative;}#sk-container-id-1 div.sk-item::before, #sk-container-id-1 div.sk-parallel-item::before {content: \"\";position: absolute;border-left: 1px solid gray;box-sizing: border-box;top: 0;bottom: 0;left: 50%;z-index: -1;}#sk-container-id-1 div.sk-parallel-item {display: flex;flex-direction: column;z-index: 1;position: relative;background-color: white;}#sk-container-id-1 div.sk-parallel-item:first-child::after {align-self: flex-end;width: 50%;}#sk-container-id-1 div.sk-parallel-item:last-child::after {align-self: flex-start;width: 50%;}#sk-container-id-1 div.sk-parallel-item:only-child::after {width: 0;}#sk-container-id-1 div.sk-dashed-wrapped {border: 1px dashed gray;margin: 0 0.4em 0.5em 0.4em;box-sizing: border-box;padding-bottom: 0.4em;background-color: white;}#sk-container-id-1 div.sk-label label {font-family: monospace;font-weight: bold;display: inline-block;line-height: 1.2em;}#sk-container-id-1 div.sk-label-container {text-align: center;}#sk-container-id-1 div.sk-container {/* jupyter's `normalize.less` sets `[hidden] { display: none; }` but bootstrap.min.css set `[hidden] { display: none !important; }` so we also need the `!important` here to be able to override the default hidden behavior on the sphinx rendered scikit-learn.org. See: https://github.com/scikit-learn/scikit-learn/issues/21755 */display: inline-block !important;position: relative;}#sk-container-id-1 div.sk-text-repr-fallback {display: none;}</style><div id=\"sk-container-id-1\" class=\"sk-top-container\"><div class=\"sk-text-repr-fallback\"><pre>GridSearchCV(cv=3, estimator=RandomForestClassifier(random_state=42),\n",
       "             param_grid={&#x27;max_depth&#x27;: [5, 7, 9], &#x27;min_samples_leaf&#x27;: [1, 2, 4],\n",
       "                         &#x27;min_samples_split&#x27;: [2, 5, 10],\n",
       "                         &#x27;n_estimators&#x27;: [100, 200, 300]},\n",
       "             verbose=3)</pre><b>In a Jupyter environment, please rerun this cell to show the HTML representation or trust the notebook. <br />On GitHub, the HTML representation is unable to render, please try loading this page with nbviewer.org.</b></div><div class=\"sk-container\" hidden><div class=\"sk-item sk-dashed-wrapped\"><div class=\"sk-label-container\"><div class=\"sk-label sk-toggleable\"><input class=\"sk-toggleable__control sk-hidden--visually\" id=\"sk-estimator-id-1\" type=\"checkbox\" ><label for=\"sk-estimator-id-1\" class=\"sk-toggleable__label sk-toggleable__label-arrow\">GridSearchCV</label><div class=\"sk-toggleable__content\"><pre>GridSearchCV(cv=3, estimator=RandomForestClassifier(random_state=42),\n",
       "             param_grid={&#x27;max_depth&#x27;: [5, 7, 9], &#x27;min_samples_leaf&#x27;: [1, 2, 4],\n",
       "                         &#x27;min_samples_split&#x27;: [2, 5, 10],\n",
       "                         &#x27;n_estimators&#x27;: [100, 200, 300]},\n",
       "             verbose=3)</pre></div></div></div><div class=\"sk-parallel\"><div class=\"sk-parallel-item\"><div class=\"sk-item\"><div class=\"sk-label-container\"><div class=\"sk-label sk-toggleable\"><input class=\"sk-toggleable__control sk-hidden--visually\" id=\"sk-estimator-id-2\" type=\"checkbox\" ><label for=\"sk-estimator-id-2\" class=\"sk-toggleable__label sk-toggleable__label-arrow\">estimator: RandomForestClassifier</label><div class=\"sk-toggleable__content\"><pre>RandomForestClassifier(random_state=42)</pre></div></div></div><div class=\"sk-serial\"><div class=\"sk-item\"><div class=\"sk-estimator sk-toggleable\"><input class=\"sk-toggleable__control sk-hidden--visually\" id=\"sk-estimator-id-3\" type=\"checkbox\" ><label for=\"sk-estimator-id-3\" class=\"sk-toggleable__label sk-toggleable__label-arrow\">RandomForestClassifier</label><div class=\"sk-toggleable__content\"><pre>RandomForestClassifier(random_state=42)</pre></div></div></div></div></div></div></div></div></div></div>"
      ],
      "text/plain": [
       "GridSearchCV(cv=3, estimator=RandomForestClassifier(random_state=42),\n",
       "             param_grid={'max_depth': [5, 7, 9], 'min_samples_leaf': [1, 2, 4],\n",
       "                         'min_samples_split': [2, 5, 10],\n",
       "                         'n_estimators': [100, 200, 300]},\n",
       "             verbose=3)"
      ]
     },
     "execution_count": 8,
     "metadata": {},
     "output_type": "execute_result"
    }
   ],
   "source": [
    "#Hyperparameter tuning for better prediction of features\n",
    "param_grid = {\n",
    "    'n_estimators': [100, 200, 300],\n",
    "    'max_depth': [5, 7, 9],\n",
    "    'min_samples_split': [2, 5, 10],\n",
    "    'min_samples_leaf': [1, 2, 4]\n",
    "}\n",
    "\n",
    "rf = RandomForestClassifier(random_state=42)\n",
    "grid_search = GridSearchCV(estimator=rf, param_grid=param_grid, cv=3, verbose=3)\n",
    "grid_search.fit(X_train, y_train)"
   ]
  },
  {
   "cell_type": "code",
   "execution_count": 9,
   "metadata": {},
   "outputs": [
    {
     "name": "stdout",
     "output_type": "stream",
     "text": [
      "Best Parameters: {'max_depth': 7, 'min_samples_leaf': 1, 'min_samples_split': 5, 'n_estimators': 100}\n"
     ]
    }
   ],
   "source": [
    "# Best parameters with random forest classifier\n",
    "best_params = grid_search.best_params_\n",
    "print(f'Best Parameters: {best_params}')\n",
    "\n",
    "# Train the model with best parameters\n",
    "best_rf = RandomForestClassifier(**best_params , random_state=42)\n",
    "best_rf.fit(X_train, y_train)\n",
    "\n",
    "# Important Features\n",
    "feature_importances = best_rf.feature_importances_"
   ]
  },
  {
   "cell_type": "code",
   "execution_count": 57,
   "metadata": {},
   "outputs": [],
   "source": [
    "# Visualization\n",
    "\n",
    "features = X.columns"
   ]
  },
  {
   "cell_type": "code",
   "execution_count": 60,
   "metadata": {},
   "outputs": [],
   "source": [
    "importances = pd.DataFrame({'feature': features, 'importance': feature_importances})\n",
    "importances = importances.sort_values(by='importance', ascending=False)\n"
   ]
  },
  {
   "cell_type": "code",
   "execution_count": 61,
   "metadata": {},
   "outputs": [
    {
     "data": {
      "text/html": [
       "<div>\n",
       "<style scoped>\n",
       "    .dataframe tbody tr th:only-of-type {\n",
       "        vertical-align: middle;\n",
       "    }\n",
       "\n",
       "    .dataframe tbody tr th {\n",
       "        vertical-align: top;\n",
       "    }\n",
       "\n",
       "    .dataframe thead th {\n",
       "        text-align: right;\n",
       "    }\n",
       "</style>\n",
       "<table border=\"1\" class=\"dataframe\">\n",
       "  <thead>\n",
       "    <tr style=\"text-align: right;\">\n",
       "      <th></th>\n",
       "      <th>feature</th>\n",
       "      <th>importance</th>\n",
       "    </tr>\n",
       "  </thead>\n",
       "  <tbody>\n",
       "    <tr>\n",
       "      <th>279957</th>\n",
       "      <td>rs157580_G</td>\n",
       "      <td>0.002557</td>\n",
       "    </tr>\n",
       "    <tr>\n",
       "      <th>279972</th>\n",
       "      <td>rs429358_C</td>\n",
       "      <td>0.002176</td>\n",
       "    </tr>\n",
       "    <tr>\n",
       "      <th>95749</th>\n",
       "      <td>rs4865857_G</td>\n",
       "      <td>0.002115</td>\n",
       "    </tr>\n",
       "    <tr>\n",
       "      <th>86968</th>\n",
       "      <td>rs1018139_A</td>\n",
       "      <td>0.002058</td>\n",
       "    </tr>\n",
       "    <tr>\n",
       "      <th>118910</th>\n",
       "      <td>rs9345409_A</td>\n",
       "      <td>0.001997</td>\n",
       "    </tr>\n",
       "    <tr>\n",
       "      <th>...</th>\n",
       "      <td>...</td>\n",
       "      <td>...</td>\n",
       "    </tr>\n",
       "    <tr>\n",
       "      <th>99566</th>\n",
       "      <td>rs115834413_A</td>\n",
       "      <td>0.000000</td>\n",
       "    </tr>\n",
       "    <tr>\n",
       "      <th>99574</th>\n",
       "      <td>rs115650403_A</td>\n",
       "      <td>0.000000</td>\n",
       "    </tr>\n",
       "    <tr>\n",
       "      <th>99580</th>\n",
       "      <td>rs3777217_A</td>\n",
       "      <td>0.000000</td>\n",
       "    </tr>\n",
       "    <tr>\n",
       "      <th>99579</th>\n",
       "      <td>rs11959859_G</td>\n",
       "      <td>0.000000</td>\n",
       "    </tr>\n",
       "    <tr>\n",
       "      <th>99578</th>\n",
       "      <td>rs34896_A</td>\n",
       "      <td>0.000000</td>\n",
       "    </tr>\n",
       "  </tbody>\n",
       "</table>\n",
       "<p>297648 rows × 2 columns</p>\n",
       "</div>"
      ],
      "text/plain": [
       "              feature  importance\n",
       "279957     rs157580_G    0.002557\n",
       "279972     rs429358_C    0.002176\n",
       "95749     rs4865857_G    0.002115\n",
       "86968     rs1018139_A    0.002058\n",
       "118910    rs9345409_A    0.001997\n",
       "...               ...         ...\n",
       "99566   rs115834413_A    0.000000\n",
       "99574   rs115650403_A    0.000000\n",
       "99580     rs3777217_A    0.000000\n",
       "99579    rs11959859_G    0.000000\n",
       "99578       rs34896_A    0.000000\n",
       "\n",
       "[297648 rows x 2 columns]"
      ]
     },
     "execution_count": 61,
     "metadata": {},
     "output_type": "execute_result"
    }
   ],
   "source": [
    "importances.head(-30)"
   ]
  },
  {
   "cell_type": "code",
   "execution_count": 62,
   "metadata": {},
   "outputs": [
    {
     "name": "stdout",
     "output_type": "stream",
     "text": [
      "3.359334583005799e-06\n"
     ]
    }
   ],
   "source": [
    "mean_importance = importances['importance'].mean()\n",
    "print(mean_importance)\n",
    "less_important_features = importances[importances['importance'] < mean_importance]['feature']\n"
   ]
  },
  {
   "cell_type": "code",
   "execution_count": 73,
   "metadata": {},
   "outputs": [
    {
     "name": "stdout",
     "output_type": "stream",
     "text": [
      "199504     rs2851668_G\n",
      "198482      rs490589_A\n",
      "199446     rs9943511_G\n",
      "198483      rs675578_A\n",
      "199445     rs1452672_A\n",
      "              ...     \n",
      "99588      rs6876015_G\n",
      "99587     rs61289286_A\n",
      "99586     rs28926213_G\n",
      "99585      rs1047420_A\n",
      "297677     rs2285395_A\n",
      "Name: feature, Length: 295561, dtype: object\n",
      "False\n"
     ]
    }
   ],
   "source": [
    "print(less_important_features)\n",
    "\n"
   ]
  },
  {
   "cell_type": "code",
   "execution_count": 74,
   "metadata": {},
   "outputs": [],
   "source": [
    "df = df.drop(columns=less_important_features)"
   ]
  },
  {
   "cell_type": "code",
   "execution_count": 111,
   "metadata": {},
   "outputs": [],
   "source": [
    "X = df.drop(columns=['FID', 'IID', 'PAT', 'MAT', 'SEX', 'PHENOTYPE'])\n",
    "y = df['PHENOTYPE']\n",
    "y = y.replace({1: 0, 2: 1})\n"
   ]
  },
  {
   "cell_type": "code",
   "execution_count": 112,
   "metadata": {},
   "outputs": [
    {
     "data": {
      "text/plain": [
       "(534, 2117)"
      ]
     },
     "execution_count": 112,
     "metadata": {},
     "output_type": "execute_result"
    }
   ],
   "source": [
    "X.shape"
   ]
  },
  {
   "cell_type": "code",
   "execution_count": 113,
   "metadata": {},
   "outputs": [
    {
     "name": "stdout",
     "output_type": "stream",
     "text": [
      "<class 'pandas.core.series.Series'>\n"
     ]
    }
   ],
   "source": [
    "print(type(y))"
   ]
  },
  {
   "cell_type": "code",
   "execution_count": 114,
   "metadata": {},
   "outputs": [],
   "source": [
    "assert X.isnull().sum().sum() == 0, \"There are still missing values in X\"\n",
    "assert y.isnull().sum().sum() == 0, \"There are still missing values in y\""
   ]
  },
  {
   "cell_type": "code",
   "execution_count": 115,
   "metadata": {},
   "outputs": [
    {
     "name": "stdout",
     "output_type": "stream",
     "text": [
      "0\n"
     ]
    }
   ],
   "source": [
    "print(X.isnull().sum().sum())"
   ]
  },
  {
   "cell_type": "code",
   "execution_count": 116,
   "metadata": {},
   "outputs": [
    {
     "name": "stdout",
     "output_type": "stream",
     "text": [
      "<class 'pandas.core.series.Series'>\n"
     ]
    }
   ],
   "source": [
    "X_train, X_test, y_train, y_test = train_test_split(X, y, test_size=0.3, random_state=111)\n",
    "print(type(y_test))"
   ]
  },
  {
   "cell_type": "markdown",
   "metadata": {},
   "source": [
    "## Random Forest with Selected Features"
   ]
  },
  {
   "cell_type": "code",
   "execution_count": 117,
   "metadata": {},
   "outputs": [
    {
     "name": "stdout",
     "output_type": "stream",
     "text": [
      "Fitting 3 folds for each of 81 candidates, totalling 243 fits\n",
      "[CV 1/3] END max_depth=5, min_samples_leaf=1, min_samples_split=2, n_estimators=100;, score=0.672 total time=   0.1s\n",
      "[CV 2/3] END max_depth=5, min_samples_leaf=1, min_samples_split=2, n_estimators=100;, score=0.710 total time=   0.1s\n",
      "[CV 3/3] END max_depth=5, min_samples_leaf=1, min_samples_split=2, n_estimators=100;, score=0.694 total time=   0.1s\n",
      "[CV 1/3] END max_depth=5, min_samples_leaf=1, min_samples_split=2, n_estimators=200;, score=0.664 total time=   0.2s\n",
      "[CV 2/3] END max_depth=5, min_samples_leaf=1, min_samples_split=2, n_estimators=200;, score=0.694 total time=   0.2s\n",
      "[CV 3/3] END max_depth=5, min_samples_leaf=1, min_samples_split=2, n_estimators=200;, score=0.694 total time=   0.2s\n",
      "[CV 1/3] END max_depth=5, min_samples_leaf=1, min_samples_split=2, n_estimators=300;, score=0.672 total time=   0.2s\n",
      "[CV 2/3] END max_depth=5, min_samples_leaf=1, min_samples_split=2, n_estimators=300;, score=0.702 total time=   0.2s\n",
      "[CV 3/3] END max_depth=5, min_samples_leaf=1, min_samples_split=2, n_estimators=300;, score=0.694 total time=   0.2s\n",
      "[CV 1/3] END max_depth=5, min_samples_leaf=1, min_samples_split=5, n_estimators=100;, score=0.672 total time=   0.1s\n",
      "[CV 2/3] END max_depth=5, min_samples_leaf=1, min_samples_split=5, n_estimators=100;, score=0.710 total time=   0.1s\n",
      "[CV 3/3] END max_depth=5, min_samples_leaf=1, min_samples_split=5, n_estimators=100;, score=0.702 total time=   0.1s\n",
      "[CV 1/3] END max_depth=5, min_samples_leaf=1, min_samples_split=5, n_estimators=200;, score=0.680 total time=   0.2s\n",
      "[CV 2/3] END max_depth=5, min_samples_leaf=1, min_samples_split=5, n_estimators=200;, score=0.702 total time=   0.2s\n",
      "[CV 3/3] END max_depth=5, min_samples_leaf=1, min_samples_split=5, n_estimators=200;, score=0.702 total time=   0.2s\n",
      "[CV 1/3] END max_depth=5, min_samples_leaf=1, min_samples_split=5, n_estimators=300;, score=0.672 total time=   0.2s\n",
      "[CV 2/3] END max_depth=5, min_samples_leaf=1, min_samples_split=5, n_estimators=300;, score=0.694 total time=   0.2s\n",
      "[CV 3/3] END max_depth=5, min_samples_leaf=1, min_samples_split=5, n_estimators=300;, score=0.702 total time=   0.2s\n",
      "[CV 1/3] END max_depth=5, min_samples_leaf=1, min_samples_split=10, n_estimators=100;, score=0.680 total time=   0.1s\n",
      "[CV 2/3] END max_depth=5, min_samples_leaf=1, min_samples_split=10, n_estimators=100;, score=0.685 total time=   0.1s\n",
      "[CV 3/3] END max_depth=5, min_samples_leaf=1, min_samples_split=10, n_estimators=100;, score=0.718 total time=   0.1s\n",
      "[CV 1/3] END max_depth=5, min_samples_leaf=1, min_samples_split=10, n_estimators=200;, score=0.688 total time=   0.1s\n",
      "[CV 2/3] END max_depth=5, min_samples_leaf=1, min_samples_split=10, n_estimators=200;, score=0.694 total time=   0.1s\n",
      "[CV 3/3] END max_depth=5, min_samples_leaf=1, min_samples_split=10, n_estimators=200;, score=0.718 total time=   0.1s\n",
      "[CV 1/3] END max_depth=5, min_samples_leaf=1, min_samples_split=10, n_estimators=300;, score=0.680 total time=   0.2s\n",
      "[CV 2/3] END max_depth=5, min_samples_leaf=1, min_samples_split=10, n_estimators=300;, score=0.685 total time=   0.2s\n",
      "[CV 3/3] END max_depth=5, min_samples_leaf=1, min_samples_split=10, n_estimators=300;, score=0.718 total time=   0.2s\n",
      "[CV 1/3] END max_depth=5, min_samples_leaf=2, min_samples_split=2, n_estimators=100;, score=0.680 total time=   0.1s\n",
      "[CV 2/3] END max_depth=5, min_samples_leaf=2, min_samples_split=2, n_estimators=100;, score=0.694 total time=   0.1s\n",
      "[CV 3/3] END max_depth=5, min_samples_leaf=2, min_samples_split=2, n_estimators=100;, score=0.710 total time=   0.1s\n",
      "[CV 1/3] END max_depth=5, min_samples_leaf=2, min_samples_split=2, n_estimators=200;, score=0.672 total time=   0.1s\n",
      "[CV 2/3] END max_depth=5, min_samples_leaf=2, min_samples_split=2, n_estimators=200;, score=0.702 total time=   0.1s\n",
      "[CV 3/3] END max_depth=5, min_samples_leaf=2, min_samples_split=2, n_estimators=200;, score=0.702 total time=   0.2s\n",
      "[CV 1/3] END max_depth=5, min_samples_leaf=2, min_samples_split=2, n_estimators=300;, score=0.672 total time=   0.2s\n",
      "[CV 2/3] END max_depth=5, min_samples_leaf=2, min_samples_split=2, n_estimators=300;, score=0.694 total time=   0.2s\n",
      "[CV 3/3] END max_depth=5, min_samples_leaf=2, min_samples_split=2, n_estimators=300;, score=0.702 total time=   0.2s\n",
      "[CV 1/3] END max_depth=5, min_samples_leaf=2, min_samples_split=5, n_estimators=100;, score=0.680 total time=   0.1s\n",
      "[CV 2/3] END max_depth=5, min_samples_leaf=2, min_samples_split=5, n_estimators=100;, score=0.694 total time=   0.1s\n",
      "[CV 3/3] END max_depth=5, min_samples_leaf=2, min_samples_split=5, n_estimators=100;, score=0.710 total time=   0.1s\n",
      "[CV 1/3] END max_depth=5, min_samples_leaf=2, min_samples_split=5, n_estimators=200;, score=0.680 total time=   0.1s\n",
      "[CV 2/3] END max_depth=5, min_samples_leaf=2, min_samples_split=5, n_estimators=200;, score=0.702 total time=   0.2s\n",
      "[CV 3/3] END max_depth=5, min_samples_leaf=2, min_samples_split=5, n_estimators=200;, score=0.710 total time=   0.2s\n",
      "[CV 1/3] END max_depth=5, min_samples_leaf=2, min_samples_split=5, n_estimators=300;, score=0.672 total time=   0.2s\n",
      "[CV 2/3] END max_depth=5, min_samples_leaf=2, min_samples_split=5, n_estimators=300;, score=0.702 total time=   0.2s\n",
      "[CV 3/3] END max_depth=5, min_samples_leaf=2, min_samples_split=5, n_estimators=300;, score=0.702 total time=   0.2s\n",
      "[CV 1/3] END max_depth=5, min_samples_leaf=2, min_samples_split=10, n_estimators=100;, score=0.672 total time=   0.1s\n",
      "[CV 2/3] END max_depth=5, min_samples_leaf=2, min_samples_split=10, n_estimators=100;, score=0.702 total time=   0.1s\n",
      "[CV 3/3] END max_depth=5, min_samples_leaf=2, min_samples_split=10, n_estimators=100;, score=0.718 total time=   0.1s\n",
      "[CV 1/3] END max_depth=5, min_samples_leaf=2, min_samples_split=10, n_estimators=200;, score=0.680 total time=   0.1s\n",
      "[CV 2/3] END max_depth=5, min_samples_leaf=2, min_samples_split=10, n_estimators=200;, score=0.694 total time=   0.1s\n",
      "[CV 3/3] END max_depth=5, min_samples_leaf=2, min_samples_split=10, n_estimators=200;, score=0.718 total time=   0.1s\n",
      "[CV 1/3] END max_depth=5, min_samples_leaf=2, min_samples_split=10, n_estimators=300;, score=0.680 total time=   0.2s\n",
      "[CV 2/3] END max_depth=5, min_samples_leaf=2, min_samples_split=10, n_estimators=300;, score=0.685 total time=   0.2s\n",
      "[CV 3/3] END max_depth=5, min_samples_leaf=2, min_samples_split=10, n_estimators=300;, score=0.710 total time=   0.2s\n",
      "[CV 1/3] END max_depth=5, min_samples_leaf=4, min_samples_split=2, n_estimators=100;, score=0.680 total time=   0.1s\n",
      "[CV 2/3] END max_depth=5, min_samples_leaf=4, min_samples_split=2, n_estimators=100;, score=0.694 total time=   0.1s\n",
      "[CV 3/3] END max_depth=5, min_samples_leaf=4, min_samples_split=2, n_estimators=100;, score=0.710 total time=   0.1s\n",
      "[CV 1/3] END max_depth=5, min_samples_leaf=4, min_samples_split=2, n_estimators=200;, score=0.688 total time=   0.1s\n",
      "[CV 2/3] END max_depth=5, min_samples_leaf=4, min_samples_split=2, n_estimators=200;, score=0.702 total time=   0.1s\n",
      "[CV 3/3] END max_depth=5, min_samples_leaf=4, min_samples_split=2, n_estimators=200;, score=0.702 total time=   0.1s\n",
      "[CV 1/3] END max_depth=5, min_samples_leaf=4, min_samples_split=2, n_estimators=300;, score=0.680 total time=   0.2s\n",
      "[CV 2/3] END max_depth=5, min_samples_leaf=4, min_samples_split=2, n_estimators=300;, score=0.694 total time=   0.2s\n",
      "[CV 3/3] END max_depth=5, min_samples_leaf=4, min_samples_split=2, n_estimators=300;, score=0.718 total time=   0.2s\n",
      "[CV 1/3] END max_depth=5, min_samples_leaf=4, min_samples_split=5, n_estimators=100;, score=0.680 total time=   0.1s\n",
      "[CV 2/3] END max_depth=5, min_samples_leaf=4, min_samples_split=5, n_estimators=100;, score=0.694 total time=   0.1s\n",
      "[CV 3/3] END max_depth=5, min_samples_leaf=4, min_samples_split=5, n_estimators=100;, score=0.710 total time=   0.1s\n",
      "[CV 1/3] END max_depth=5, min_samples_leaf=4, min_samples_split=5, n_estimators=200;, score=0.688 total time=   0.1s\n",
      "[CV 2/3] END max_depth=5, min_samples_leaf=4, min_samples_split=5, n_estimators=200;, score=0.702 total time=   0.1s\n",
      "[CV 3/3] END max_depth=5, min_samples_leaf=4, min_samples_split=5, n_estimators=200;, score=0.702 total time=   0.1s\n",
      "[CV 1/3] END max_depth=5, min_samples_leaf=4, min_samples_split=5, n_estimators=300;, score=0.680 total time=   0.2s\n",
      "[CV 2/3] END max_depth=5, min_samples_leaf=4, min_samples_split=5, n_estimators=300;, score=0.694 total time=   0.2s\n",
      "[CV 3/3] END max_depth=5, min_samples_leaf=4, min_samples_split=5, n_estimators=300;, score=0.718 total time=   0.2s\n",
      "[CV 1/3] END max_depth=5, min_samples_leaf=4, min_samples_split=10, n_estimators=100;, score=0.680 total time=   0.1s\n",
      "[CV 2/3] END max_depth=5, min_samples_leaf=4, min_samples_split=10, n_estimators=100;, score=0.702 total time=   0.1s\n",
      "[CV 3/3] END max_depth=5, min_samples_leaf=4, min_samples_split=10, n_estimators=100;, score=0.702 total time=   0.1s\n",
      "[CV 1/3] END max_depth=5, min_samples_leaf=4, min_samples_split=10, n_estimators=200;, score=0.688 total time=   0.1s\n",
      "[CV 2/3] END max_depth=5, min_samples_leaf=4, min_samples_split=10, n_estimators=200;, score=0.702 total time=   0.2s\n",
      "[CV 3/3] END max_depth=5, min_samples_leaf=4, min_samples_split=10, n_estimators=200;, score=0.710 total time=   0.2s\n",
      "[CV 1/3] END max_depth=5, min_samples_leaf=4, min_samples_split=10, n_estimators=300;, score=0.672 total time=   0.2s\n",
      "[CV 2/3] END max_depth=5, min_samples_leaf=4, min_samples_split=10, n_estimators=300;, score=0.685 total time=   0.2s\n",
      "[CV 3/3] END max_depth=5, min_samples_leaf=4, min_samples_split=10, n_estimators=300;, score=0.702 total time=   0.2s\n",
      "[CV 1/3] END max_depth=7, min_samples_leaf=1, min_samples_split=2, n_estimators=100;, score=0.664 total time=   0.1s\n",
      "[CV 2/3] END max_depth=7, min_samples_leaf=1, min_samples_split=2, n_estimators=100;, score=0.694 total time=   0.1s\n",
      "[CV 3/3] END max_depth=7, min_samples_leaf=1, min_samples_split=2, n_estimators=100;, score=0.718 total time=   0.1s\n",
      "[CV 1/3] END max_depth=7, min_samples_leaf=1, min_samples_split=2, n_estimators=200;, score=0.680 total time=   0.2s\n",
      "[CV 2/3] END max_depth=7, min_samples_leaf=1, min_samples_split=2, n_estimators=200;, score=0.694 total time=   0.2s\n",
      "[CV 3/3] END max_depth=7, min_samples_leaf=1, min_samples_split=2, n_estimators=200;, score=0.718 total time=   0.2s\n",
      "[CV 1/3] END max_depth=7, min_samples_leaf=1, min_samples_split=2, n_estimators=300;, score=0.672 total time=   0.3s\n",
      "[CV 2/3] END max_depth=7, min_samples_leaf=1, min_samples_split=2, n_estimators=300;, score=0.694 total time=   0.3s\n",
      "[CV 3/3] END max_depth=7, min_samples_leaf=1, min_samples_split=2, n_estimators=300;, score=0.710 total time=   0.3s\n",
      "[CV 1/3] END max_depth=7, min_samples_leaf=1, min_samples_split=5, n_estimators=100;, score=0.672 total time=   0.1s\n",
      "[CV 2/3] END max_depth=7, min_samples_leaf=1, min_samples_split=5, n_estimators=100;, score=0.685 total time=   0.1s\n",
      "[CV 3/3] END max_depth=7, min_samples_leaf=1, min_samples_split=5, n_estimators=100;, score=0.718 total time=   0.1s\n",
      "[CV 1/3] END max_depth=7, min_samples_leaf=1, min_samples_split=5, n_estimators=200;, score=0.680 total time=   0.2s\n",
      "[CV 2/3] END max_depth=7, min_samples_leaf=1, min_samples_split=5, n_estimators=200;, score=0.694 total time=   0.2s\n",
      "[CV 3/3] END max_depth=7, min_samples_leaf=1, min_samples_split=5, n_estimators=200;, score=0.718 total time=   0.2s\n",
      "[CV 1/3] END max_depth=7, min_samples_leaf=1, min_samples_split=5, n_estimators=300;, score=0.672 total time=   0.3s\n",
      "[CV 2/3] END max_depth=7, min_samples_leaf=1, min_samples_split=5, n_estimators=300;, score=0.685 total time=   0.3s\n",
      "[CV 3/3] END max_depth=7, min_samples_leaf=1, min_samples_split=5, n_estimators=300;, score=0.718 total time=   0.3s\n",
      "[CV 1/3] END max_depth=7, min_samples_leaf=1, min_samples_split=10, n_estimators=100;, score=0.688 total time=   0.1s\n",
      "[CV 2/3] END max_depth=7, min_samples_leaf=1, min_samples_split=10, n_estimators=100;, score=0.685 total time=   0.1s\n",
      "[CV 3/3] END max_depth=7, min_samples_leaf=1, min_samples_split=10, n_estimators=100;, score=0.694 total time=   0.1s\n",
      "[CV 1/3] END max_depth=7, min_samples_leaf=1, min_samples_split=10, n_estimators=200;, score=0.672 total time=   0.2s\n",
      "[CV 2/3] END max_depth=7, min_samples_leaf=1, min_samples_split=10, n_estimators=200;, score=0.685 total time=   0.2s\n",
      "[CV 3/3] END max_depth=7, min_samples_leaf=1, min_samples_split=10, n_estimators=200;, score=0.718 total time=   0.2s\n",
      "[CV 1/3] END max_depth=7, min_samples_leaf=1, min_samples_split=10, n_estimators=300;, score=0.680 total time=   0.2s\n",
      "[CV 2/3] END max_depth=7, min_samples_leaf=1, min_samples_split=10, n_estimators=300;, score=0.685 total time=   0.2s\n",
      "[CV 3/3] END max_depth=7, min_samples_leaf=1, min_samples_split=10, n_estimators=300;, score=0.726 total time=   0.2s\n",
      "[CV 1/3] END max_depth=7, min_samples_leaf=2, min_samples_split=2, n_estimators=100;, score=0.672 total time=   0.1s\n",
      "[CV 2/3] END max_depth=7, min_samples_leaf=2, min_samples_split=2, n_estimators=100;, score=0.694 total time=   0.1s\n",
      "[CV 3/3] END max_depth=7, min_samples_leaf=2, min_samples_split=2, n_estimators=100;, score=0.710 total time=   0.1s\n",
      "[CV 1/3] END max_depth=7, min_samples_leaf=2, min_samples_split=2, n_estimators=200;, score=0.688 total time=   0.2s\n",
      "[CV 2/3] END max_depth=7, min_samples_leaf=2, min_samples_split=2, n_estimators=200;, score=0.710 total time=   0.2s\n",
      "[CV 3/3] END max_depth=7, min_samples_leaf=2, min_samples_split=2, n_estimators=200;, score=0.718 total time=   0.2s\n",
      "[CV 1/3] END max_depth=7, min_samples_leaf=2, min_samples_split=2, n_estimators=300;, score=0.688 total time=   0.3s\n",
      "[CV 2/3] END max_depth=7, min_samples_leaf=2, min_samples_split=2, n_estimators=300;, score=0.710 total time=   0.3s\n",
      "[CV 3/3] END max_depth=7, min_samples_leaf=2, min_samples_split=2, n_estimators=300;, score=0.710 total time=   0.3s\n",
      "[CV 1/3] END max_depth=7, min_samples_leaf=2, min_samples_split=5, n_estimators=100;, score=0.688 total time=   0.1s\n",
      "[CV 2/3] END max_depth=7, min_samples_leaf=2, min_samples_split=5, n_estimators=100;, score=0.702 total time=   0.1s\n",
      "[CV 3/3] END max_depth=7, min_samples_leaf=2, min_samples_split=5, n_estimators=100;, score=0.718 total time=   0.1s\n",
      "[CV 1/3] END max_depth=7, min_samples_leaf=2, min_samples_split=5, n_estimators=200;, score=0.680 total time=   0.2s\n",
      "[CV 2/3] END max_depth=7, min_samples_leaf=2, min_samples_split=5, n_estimators=200;, score=0.710 total time=   0.2s\n",
      "[CV 3/3] END max_depth=7, min_samples_leaf=2, min_samples_split=5, n_estimators=200;, score=0.726 total time=   0.2s\n",
      "[CV 1/3] END max_depth=7, min_samples_leaf=2, min_samples_split=5, n_estimators=300;, score=0.688 total time=   0.2s\n",
      "[CV 2/3] END max_depth=7, min_samples_leaf=2, min_samples_split=5, n_estimators=300;, score=0.702 total time=   0.2s\n",
      "[CV 3/3] END max_depth=7, min_samples_leaf=2, min_samples_split=5, n_estimators=300;, score=0.710 total time=   0.2s\n",
      "[CV 1/3] END max_depth=7, min_samples_leaf=2, min_samples_split=10, n_estimators=100;, score=0.704 total time=   0.1s\n",
      "[CV 2/3] END max_depth=7, min_samples_leaf=2, min_samples_split=10, n_estimators=100;, score=0.694 total time=   0.1s\n",
      "[CV 3/3] END max_depth=7, min_samples_leaf=2, min_samples_split=10, n_estimators=100;, score=0.718 total time=   0.1s\n",
      "[CV 1/3] END max_depth=7, min_samples_leaf=2, min_samples_split=10, n_estimators=200;, score=0.696 total time=   0.2s\n",
      "[CV 2/3] END max_depth=7, min_samples_leaf=2, min_samples_split=10, n_estimators=200;, score=0.685 total time=   0.2s\n",
      "[CV 3/3] END max_depth=7, min_samples_leaf=2, min_samples_split=10, n_estimators=200;, score=0.726 total time=   0.2s\n",
      "[CV 1/3] END max_depth=7, min_samples_leaf=2, min_samples_split=10, n_estimators=300;, score=0.696 total time=   0.3s\n",
      "[CV 2/3] END max_depth=7, min_samples_leaf=2, min_samples_split=10, n_estimators=300;, score=0.685 total time=   0.2s\n",
      "[CV 3/3] END max_depth=7, min_samples_leaf=2, min_samples_split=10, n_estimators=300;, score=0.718 total time=   0.2s\n",
      "[CV 1/3] END max_depth=7, min_samples_leaf=4, min_samples_split=2, n_estimators=100;, score=0.680 total time=   0.1s\n",
      "[CV 2/3] END max_depth=7, min_samples_leaf=4, min_samples_split=2, n_estimators=100;, score=0.694 total time=   0.1s\n",
      "[CV 3/3] END max_depth=7, min_samples_leaf=4, min_samples_split=2, n_estimators=100;, score=0.726 total time=   0.1s\n",
      "[CV 1/3] END max_depth=7, min_samples_leaf=4, min_samples_split=2, n_estimators=200;, score=0.688 total time=   0.2s\n",
      "[CV 2/3] END max_depth=7, min_samples_leaf=4, min_samples_split=2, n_estimators=200;, score=0.694 total time=   0.2s\n",
      "[CV 3/3] END max_depth=7, min_samples_leaf=4, min_samples_split=2, n_estimators=200;, score=0.710 total time=   0.2s\n",
      "[CV 1/3] END max_depth=7, min_samples_leaf=4, min_samples_split=2, n_estimators=300;, score=0.696 total time=   0.2s\n",
      "[CV 2/3] END max_depth=7, min_samples_leaf=4, min_samples_split=2, n_estimators=300;, score=0.694 total time=   0.2s\n",
      "[CV 3/3] END max_depth=7, min_samples_leaf=4, min_samples_split=2, n_estimators=300;, score=0.710 total time=   0.2s\n",
      "[CV 1/3] END max_depth=7, min_samples_leaf=4, min_samples_split=5, n_estimators=100;, score=0.680 total time=   0.1s\n",
      "[CV 2/3] END max_depth=7, min_samples_leaf=4, min_samples_split=5, n_estimators=100;, score=0.694 total time=   0.1s\n",
      "[CV 3/3] END max_depth=7, min_samples_leaf=4, min_samples_split=5, n_estimators=100;, score=0.726 total time=   0.1s\n",
      "[CV 1/3] END max_depth=7, min_samples_leaf=4, min_samples_split=5, n_estimators=200;, score=0.688 total time=   0.2s\n",
      "[CV 2/3] END max_depth=7, min_samples_leaf=4, min_samples_split=5, n_estimators=200;, score=0.694 total time=   0.2s\n",
      "[CV 3/3] END max_depth=7, min_samples_leaf=4, min_samples_split=5, n_estimators=200;, score=0.710 total time=   0.2s\n",
      "[CV 1/3] END max_depth=7, min_samples_leaf=4, min_samples_split=5, n_estimators=300;, score=0.696 total time=   0.3s\n",
      "[CV 2/3] END max_depth=7, min_samples_leaf=4, min_samples_split=5, n_estimators=300;, score=0.694 total time=   0.2s\n",
      "[CV 3/3] END max_depth=7, min_samples_leaf=4, min_samples_split=5, n_estimators=300;, score=0.710 total time=   0.2s\n",
      "[CV 1/3] END max_depth=7, min_samples_leaf=4, min_samples_split=10, n_estimators=100;, score=0.680 total time=   0.1s\n",
      "[CV 2/3] END max_depth=7, min_samples_leaf=4, min_samples_split=10, n_estimators=100;, score=0.694 total time=   0.1s\n",
      "[CV 3/3] END max_depth=7, min_samples_leaf=4, min_samples_split=10, n_estimators=100;, score=0.694 total time=   0.1s\n",
      "[CV 1/3] END max_depth=7, min_samples_leaf=4, min_samples_split=10, n_estimators=200;, score=0.688 total time=   0.2s\n",
      "[CV 2/3] END max_depth=7, min_samples_leaf=4, min_samples_split=10, n_estimators=200;, score=0.702 total time=   0.2s\n",
      "[CV 3/3] END max_depth=7, min_samples_leaf=4, min_samples_split=10, n_estimators=200;, score=0.710 total time=   0.2s\n",
      "[CV 1/3] END max_depth=7, min_samples_leaf=4, min_samples_split=10, n_estimators=300;, score=0.696 total time=   0.2s\n",
      "[CV 2/3] END max_depth=7, min_samples_leaf=4, min_samples_split=10, n_estimators=300;, score=0.694 total time=   0.2s\n",
      "[CV 3/3] END max_depth=7, min_samples_leaf=4, min_samples_split=10, n_estimators=300;, score=0.702 total time=   0.2s\n",
      "[CV 1/3] END max_depth=9, min_samples_leaf=1, min_samples_split=2, n_estimators=100;, score=0.688 total time=   0.1s\n",
      "[CV 2/3] END max_depth=9, min_samples_leaf=1, min_samples_split=2, n_estimators=100;, score=0.702 total time=   0.1s\n",
      "[CV 3/3] END max_depth=9, min_samples_leaf=1, min_samples_split=2, n_estimators=100;, score=0.702 total time=   0.1s\n",
      "[CV 1/3] END max_depth=9, min_samples_leaf=1, min_samples_split=2, n_estimators=200;, score=0.696 total time=   0.2s\n",
      "[CV 2/3] END max_depth=9, min_samples_leaf=1, min_samples_split=2, n_estimators=200;, score=0.694 total time=   0.2s\n",
      "[CV 3/3] END max_depth=9, min_samples_leaf=1, min_samples_split=2, n_estimators=200;, score=0.702 total time=   0.2s\n",
      "[CV 1/3] END max_depth=9, min_samples_leaf=1, min_samples_split=2, n_estimators=300;, score=0.696 total time=   0.3s\n",
      "[CV 2/3] END max_depth=9, min_samples_leaf=1, min_samples_split=2, n_estimators=300;, score=0.694 total time=   0.3s\n",
      "[CV 3/3] END max_depth=9, min_samples_leaf=1, min_samples_split=2, n_estimators=300;, score=0.702 total time=   0.3s\n",
      "[CV 1/3] END max_depth=9, min_samples_leaf=1, min_samples_split=5, n_estimators=100;, score=0.688 total time=   0.1s\n",
      "[CV 2/3] END max_depth=9, min_samples_leaf=1, min_samples_split=5, n_estimators=100;, score=0.694 total time=   0.1s\n",
      "[CV 3/3] END max_depth=9, min_samples_leaf=1, min_samples_split=5, n_estimators=100;, score=0.702 total time=   0.1s\n",
      "[CV 1/3] END max_depth=9, min_samples_leaf=1, min_samples_split=5, n_estimators=200;, score=0.696 total time=   0.2s\n",
      "[CV 2/3] END max_depth=9, min_samples_leaf=1, min_samples_split=5, n_estimators=200;, score=0.694 total time=   0.2s\n",
      "[CV 3/3] END max_depth=9, min_samples_leaf=1, min_samples_split=5, n_estimators=200;, score=0.710 total time=   0.2s\n",
      "[CV 1/3] END max_depth=9, min_samples_leaf=1, min_samples_split=5, n_estimators=300;, score=0.688 total time=   0.3s\n",
      "[CV 2/3] END max_depth=9, min_samples_leaf=1, min_samples_split=5, n_estimators=300;, score=0.694 total time=   0.3s\n",
      "[CV 3/3] END max_depth=9, min_samples_leaf=1, min_samples_split=5, n_estimators=300;, score=0.718 total time=   0.3s\n",
      "[CV 1/3] END max_depth=9, min_samples_leaf=1, min_samples_split=10, n_estimators=100;, score=0.696 total time=   0.1s\n",
      "[CV 2/3] END max_depth=9, min_samples_leaf=1, min_samples_split=10, n_estimators=100;, score=0.685 total time=   0.1s\n",
      "[CV 3/3] END max_depth=9, min_samples_leaf=1, min_samples_split=10, n_estimators=100;, score=0.702 total time=   0.1s\n",
      "[CV 1/3] END max_depth=9, min_samples_leaf=1, min_samples_split=10, n_estimators=200;, score=0.688 total time=   0.2s\n",
      "[CV 2/3] END max_depth=9, min_samples_leaf=1, min_samples_split=10, n_estimators=200;, score=0.685 total time=   0.2s\n",
      "[CV 3/3] END max_depth=9, min_samples_leaf=1, min_samples_split=10, n_estimators=200;, score=0.718 total time=   0.2s\n",
      "[CV 1/3] END max_depth=9, min_samples_leaf=1, min_samples_split=10, n_estimators=300;, score=0.696 total time=   0.3s\n",
      "[CV 2/3] END max_depth=9, min_samples_leaf=1, min_samples_split=10, n_estimators=300;, score=0.685 total time=   0.3s\n",
      "[CV 3/3] END max_depth=9, min_samples_leaf=1, min_samples_split=10, n_estimators=300;, score=0.726 total time=   0.3s\n",
      "[CV 1/3] END max_depth=9, min_samples_leaf=2, min_samples_split=2, n_estimators=100;, score=0.688 total time=   0.1s\n",
      "[CV 2/3] END max_depth=9, min_samples_leaf=2, min_samples_split=2, n_estimators=100;, score=0.710 total time=   0.1s\n",
      "[CV 3/3] END max_depth=9, min_samples_leaf=2, min_samples_split=2, n_estimators=100;, score=0.710 total time=   0.1s\n",
      "[CV 1/3] END max_depth=9, min_samples_leaf=2, min_samples_split=2, n_estimators=200;, score=0.680 total time=   0.2s\n",
      "[CV 2/3] END max_depth=9, min_samples_leaf=2, min_samples_split=2, n_estimators=200;, score=0.702 total time=   0.2s\n",
      "[CV 3/3] END max_depth=9, min_samples_leaf=2, min_samples_split=2, n_estimators=200;, score=0.710 total time=   0.2s\n",
      "[CV 1/3] END max_depth=9, min_samples_leaf=2, min_samples_split=2, n_estimators=300;, score=0.688 total time=   0.3s\n",
      "[CV 2/3] END max_depth=9, min_samples_leaf=2, min_samples_split=2, n_estimators=300;, score=0.702 total time=   0.3s\n",
      "[CV 3/3] END max_depth=9, min_samples_leaf=2, min_samples_split=2, n_estimators=300;, score=0.694 total time=   0.3s\n",
      "[CV 1/3] END max_depth=9, min_samples_leaf=2, min_samples_split=5, n_estimators=100;, score=0.688 total time=   0.1s\n",
      "[CV 2/3] END max_depth=9, min_samples_leaf=2, min_samples_split=5, n_estimators=100;, score=0.694 total time=   0.1s\n",
      "[CV 3/3] END max_depth=9, min_samples_leaf=2, min_samples_split=5, n_estimators=100;, score=0.710 total time=   0.1s\n",
      "[CV 1/3] END max_depth=9, min_samples_leaf=2, min_samples_split=5, n_estimators=200;, score=0.672 total time=   0.2s\n",
      "[CV 2/3] END max_depth=9, min_samples_leaf=2, min_samples_split=5, n_estimators=200;, score=0.694 total time=   0.2s\n",
      "[CV 3/3] END max_depth=9, min_samples_leaf=2, min_samples_split=5, n_estimators=200;, score=0.710 total time=   0.2s\n",
      "[CV 1/3] END max_depth=9, min_samples_leaf=2, min_samples_split=5, n_estimators=300;, score=0.680 total time=   0.3s\n",
      "[CV 2/3] END max_depth=9, min_samples_leaf=2, min_samples_split=5, n_estimators=300;, score=0.702 total time=   0.3s\n",
      "[CV 3/3] END max_depth=9, min_samples_leaf=2, min_samples_split=5, n_estimators=300;, score=0.702 total time=   0.3s\n",
      "[CV 1/3] END max_depth=9, min_samples_leaf=2, min_samples_split=10, n_estimators=100;, score=0.688 total time=   0.1s\n",
      "[CV 2/3] END max_depth=9, min_samples_leaf=2, min_samples_split=10, n_estimators=100;, score=0.685 total time=   0.1s\n",
      "[CV 3/3] END max_depth=9, min_samples_leaf=2, min_samples_split=10, n_estimators=100;, score=0.718 total time=   0.1s\n",
      "[CV 1/3] END max_depth=9, min_samples_leaf=2, min_samples_split=10, n_estimators=200;, score=0.688 total time=   0.2s\n",
      "[CV 2/3] END max_depth=9, min_samples_leaf=2, min_samples_split=10, n_estimators=200;, score=0.685 total time=   0.2s\n",
      "[CV 3/3] END max_depth=9, min_samples_leaf=2, min_samples_split=10, n_estimators=200;, score=0.726 total time=   0.2s\n",
      "[CV 1/3] END max_depth=9, min_samples_leaf=2, min_samples_split=10, n_estimators=300;, score=0.688 total time=   0.2s\n",
      "[CV 2/3] END max_depth=9, min_samples_leaf=2, min_samples_split=10, n_estimators=300;, score=0.685 total time=   0.2s\n",
      "[CV 3/3] END max_depth=9, min_samples_leaf=2, min_samples_split=10, n_estimators=300;, score=0.726 total time=   0.2s\n",
      "[CV 1/3] END max_depth=9, min_samples_leaf=4, min_samples_split=2, n_estimators=100;, score=0.688 total time=   0.1s\n",
      "[CV 2/3] END max_depth=9, min_samples_leaf=4, min_samples_split=2, n_estimators=100;, score=0.685 total time=   0.1s\n",
      "[CV 3/3] END max_depth=9, min_samples_leaf=4, min_samples_split=2, n_estimators=100;, score=0.710 total time=   0.1s\n",
      "[CV 1/3] END max_depth=9, min_samples_leaf=4, min_samples_split=2, n_estimators=200;, score=0.696 total time=   0.2s\n",
      "[CV 2/3] END max_depth=9, min_samples_leaf=4, min_samples_split=2, n_estimators=200;, score=0.685 total time=   0.2s\n",
      "[CV 3/3] END max_depth=9, min_samples_leaf=4, min_samples_split=2, n_estimators=200;, score=0.702 total time=   0.2s\n",
      "[CV 1/3] END max_depth=9, min_samples_leaf=4, min_samples_split=2, n_estimators=300;, score=0.696 total time=   0.2s\n",
      "[CV 2/3] END max_depth=9, min_samples_leaf=4, min_samples_split=2, n_estimators=300;, score=0.685 total time=   0.2s\n",
      "[CV 3/3] END max_depth=9, min_samples_leaf=4, min_samples_split=2, n_estimators=300;, score=0.710 total time=   0.2s\n",
      "[CV 1/3] END max_depth=9, min_samples_leaf=4, min_samples_split=5, n_estimators=100;, score=0.688 total time=   0.1s\n",
      "[CV 2/3] END max_depth=9, min_samples_leaf=4, min_samples_split=5, n_estimators=100;, score=0.685 total time=   0.1s\n",
      "[CV 3/3] END max_depth=9, min_samples_leaf=4, min_samples_split=5, n_estimators=100;, score=0.710 total time=   0.1s\n",
      "[CV 1/3] END max_depth=9, min_samples_leaf=4, min_samples_split=5, n_estimators=200;, score=0.696 total time=   0.2s\n",
      "[CV 2/3] END max_depth=9, min_samples_leaf=4, min_samples_split=5, n_estimators=200;, score=0.685 total time=   0.2s\n",
      "[CV 3/3] END max_depth=9, min_samples_leaf=4, min_samples_split=5, n_estimators=200;, score=0.702 total time=   0.2s\n",
      "[CV 1/3] END max_depth=9, min_samples_leaf=4, min_samples_split=5, n_estimators=300;, score=0.696 total time=   0.2s\n",
      "[CV 2/3] END max_depth=9, min_samples_leaf=4, min_samples_split=5, n_estimators=300;, score=0.685 total time=   0.2s\n",
      "[CV 3/3] END max_depth=9, min_samples_leaf=4, min_samples_split=5, n_estimators=300;, score=0.710 total time=   0.2s\n",
      "[CV 1/3] END max_depth=9, min_samples_leaf=4, min_samples_split=10, n_estimators=100;, score=0.672 total time=   0.1s\n",
      "[CV 2/3] END max_depth=9, min_samples_leaf=4, min_samples_split=10, n_estimators=100;, score=0.694 total time=   0.1s\n",
      "[CV 3/3] END max_depth=9, min_samples_leaf=4, min_samples_split=10, n_estimators=100;, score=0.710 total time=   0.1s\n",
      "[CV 1/3] END max_depth=9, min_samples_leaf=4, min_samples_split=10, n_estimators=200;, score=0.688 total time=   0.2s\n",
      "[CV 2/3] END max_depth=9, min_samples_leaf=4, min_samples_split=10, n_estimators=200;, score=0.702 total time=   0.2s\n",
      "[CV 3/3] END max_depth=9, min_samples_leaf=4, min_samples_split=10, n_estimators=200;, score=0.718 total time=   0.2s\n",
      "[CV 1/3] END max_depth=9, min_samples_leaf=4, min_samples_split=10, n_estimators=300;, score=0.696 total time=   0.2s\n",
      "[CV 2/3] END max_depth=9, min_samples_leaf=4, min_samples_split=10, n_estimators=300;, score=0.685 total time=   0.2s\n",
      "[CV 3/3] END max_depth=9, min_samples_leaf=4, min_samples_split=10, n_estimators=300;, score=0.710 total time=   0.2s\n"
     ]
    },
    {
     "data": {
      "text/html": [
       "<style>#sk-container-id-6 {color: black;}#sk-container-id-6 pre{padding: 0;}#sk-container-id-6 div.sk-toggleable {background-color: white;}#sk-container-id-6 label.sk-toggleable__label {cursor: pointer;display: block;width: 100%;margin-bottom: 0;padding: 0.3em;box-sizing: border-box;text-align: center;}#sk-container-id-6 label.sk-toggleable__label-arrow:before {content: \"▸\";float: left;margin-right: 0.25em;color: #696969;}#sk-container-id-6 label.sk-toggleable__label-arrow:hover:before {color: black;}#sk-container-id-6 div.sk-estimator:hover label.sk-toggleable__label-arrow:before {color: black;}#sk-container-id-6 div.sk-toggleable__content {max-height: 0;max-width: 0;overflow: hidden;text-align: left;background-color: #f0f8ff;}#sk-container-id-6 div.sk-toggleable__content pre {margin: 0.2em;color: black;border-radius: 0.25em;background-color: #f0f8ff;}#sk-container-id-6 input.sk-toggleable__control:checked~div.sk-toggleable__content {max-height: 200px;max-width: 100%;overflow: auto;}#sk-container-id-6 input.sk-toggleable__control:checked~label.sk-toggleable__label-arrow:before {content: \"▾\";}#sk-container-id-6 div.sk-estimator input.sk-toggleable__control:checked~label.sk-toggleable__label {background-color: #d4ebff;}#sk-container-id-6 div.sk-label input.sk-toggleable__control:checked~label.sk-toggleable__label {background-color: #d4ebff;}#sk-container-id-6 input.sk-hidden--visually {border: 0;clip: rect(1px 1px 1px 1px);clip: rect(1px, 1px, 1px, 1px);height: 1px;margin: -1px;overflow: hidden;padding: 0;position: absolute;width: 1px;}#sk-container-id-6 div.sk-estimator {font-family: monospace;background-color: #f0f8ff;border: 1px dotted black;border-radius: 0.25em;box-sizing: border-box;margin-bottom: 0.5em;}#sk-container-id-6 div.sk-estimator:hover {background-color: #d4ebff;}#sk-container-id-6 div.sk-parallel-item::after {content: \"\";width: 100%;border-bottom: 1px solid gray;flex-grow: 1;}#sk-container-id-6 div.sk-label:hover label.sk-toggleable__label {background-color: #d4ebff;}#sk-container-id-6 div.sk-serial::before {content: \"\";position: absolute;border-left: 1px solid gray;box-sizing: border-box;top: 0;bottom: 0;left: 50%;z-index: 0;}#sk-container-id-6 div.sk-serial {display: flex;flex-direction: column;align-items: center;background-color: white;padding-right: 0.2em;padding-left: 0.2em;position: relative;}#sk-container-id-6 div.sk-item {position: relative;z-index: 1;}#sk-container-id-6 div.sk-parallel {display: flex;align-items: stretch;justify-content: center;background-color: white;position: relative;}#sk-container-id-6 div.sk-item::before, #sk-container-id-6 div.sk-parallel-item::before {content: \"\";position: absolute;border-left: 1px solid gray;box-sizing: border-box;top: 0;bottom: 0;left: 50%;z-index: -1;}#sk-container-id-6 div.sk-parallel-item {display: flex;flex-direction: column;z-index: 1;position: relative;background-color: white;}#sk-container-id-6 div.sk-parallel-item:first-child::after {align-self: flex-end;width: 50%;}#sk-container-id-6 div.sk-parallel-item:last-child::after {align-self: flex-start;width: 50%;}#sk-container-id-6 div.sk-parallel-item:only-child::after {width: 0;}#sk-container-id-6 div.sk-dashed-wrapped {border: 1px dashed gray;margin: 0 0.4em 0.5em 0.4em;box-sizing: border-box;padding-bottom: 0.4em;background-color: white;}#sk-container-id-6 div.sk-label label {font-family: monospace;font-weight: bold;display: inline-block;line-height: 1.2em;}#sk-container-id-6 div.sk-label-container {text-align: center;}#sk-container-id-6 div.sk-container {/* jupyter's `normalize.less` sets `[hidden] { display: none; }` but bootstrap.min.css set `[hidden] { display: none !important; }` so we also need the `!important` here to be able to override the default hidden behavior on the sphinx rendered scikit-learn.org. See: https://github.com/scikit-learn/scikit-learn/issues/21755 */display: inline-block !important;position: relative;}#sk-container-id-6 div.sk-text-repr-fallback {display: none;}</style><div id=\"sk-container-id-6\" class=\"sk-top-container\"><div class=\"sk-text-repr-fallback\"><pre>GridSearchCV(cv=3, estimator=RandomForestClassifier(random_state=42),\n",
       "             param_grid={&#x27;max_depth&#x27;: [5, 7, 9], &#x27;min_samples_leaf&#x27;: [1, 2, 4],\n",
       "                         &#x27;min_samples_split&#x27;: [2, 5, 10],\n",
       "                         &#x27;n_estimators&#x27;: [100, 200, 300]},\n",
       "             verbose=3)</pre><b>In a Jupyter environment, please rerun this cell to show the HTML representation or trust the notebook. <br />On GitHub, the HTML representation is unable to render, please try loading this page with nbviewer.org.</b></div><div class=\"sk-container\" hidden><div class=\"sk-item sk-dashed-wrapped\"><div class=\"sk-label-container\"><div class=\"sk-label sk-toggleable\"><input class=\"sk-toggleable__control sk-hidden--visually\" id=\"sk-estimator-id-16\" type=\"checkbox\" ><label for=\"sk-estimator-id-16\" class=\"sk-toggleable__label sk-toggleable__label-arrow\">GridSearchCV</label><div class=\"sk-toggleable__content\"><pre>GridSearchCV(cv=3, estimator=RandomForestClassifier(random_state=42),\n",
       "             param_grid={&#x27;max_depth&#x27;: [5, 7, 9], &#x27;min_samples_leaf&#x27;: [1, 2, 4],\n",
       "                         &#x27;min_samples_split&#x27;: [2, 5, 10],\n",
       "                         &#x27;n_estimators&#x27;: [100, 200, 300]},\n",
       "             verbose=3)</pre></div></div></div><div class=\"sk-parallel\"><div class=\"sk-parallel-item\"><div class=\"sk-item\"><div class=\"sk-label-container\"><div class=\"sk-label sk-toggleable\"><input class=\"sk-toggleable__control sk-hidden--visually\" id=\"sk-estimator-id-17\" type=\"checkbox\" ><label for=\"sk-estimator-id-17\" class=\"sk-toggleable__label sk-toggleable__label-arrow\">estimator: RandomForestClassifier</label><div class=\"sk-toggleable__content\"><pre>RandomForestClassifier(random_state=42)</pre></div></div></div><div class=\"sk-serial\"><div class=\"sk-item\"><div class=\"sk-estimator sk-toggleable\"><input class=\"sk-toggleable__control sk-hidden--visually\" id=\"sk-estimator-id-18\" type=\"checkbox\" ><label for=\"sk-estimator-id-18\" class=\"sk-toggleable__label sk-toggleable__label-arrow\">RandomForestClassifier</label><div class=\"sk-toggleable__content\"><pre>RandomForestClassifier(random_state=42)</pre></div></div></div></div></div></div></div></div></div></div>"
      ],
      "text/plain": [
       "GridSearchCV(cv=3, estimator=RandomForestClassifier(random_state=42),\n",
       "             param_grid={'max_depth': [5, 7, 9], 'min_samples_leaf': [1, 2, 4],\n",
       "                         'min_samples_split': [2, 5, 10],\n",
       "                         'n_estimators': [100, 200, 300]},\n",
       "             verbose=3)"
      ]
     },
     "execution_count": 117,
     "metadata": {},
     "output_type": "execute_result"
    }
   ],
   "source": [
    "#Hyperparameter tuning for better prediction of features\n",
    "param_grid = {\n",
    "    'n_estimators': [100, 200, 300],\n",
    "    'max_depth': [5, 7, 9],\n",
    "    'min_samples_split': [2, 5, 10],\n",
    "    'min_samples_leaf': [1, 2, 4]\n",
    "}\n",
    "\n",
    "rf = RandomForestClassifier(random_state=42)\n",
    "grid_search = GridSearchCV(estimator=rf, param_grid=param_grid, cv=3, verbose=3)\n",
    "grid_search.fit(X_train, y_train)"
   ]
  },
  {
   "cell_type": "code",
   "execution_count": 126,
   "metadata": {},
   "outputs": [
    {
     "name": "stdout",
     "output_type": "stream",
     "text": [
      "Best Parameters: {'max_depth': 7, 'min_samples_leaf': 2, 'min_samples_split': 5, 'n_estimators': 200}\n",
      "[1, 1, 1, 1, 1, 1, 1, 1, 1, 0, 1, 1, 1, 1, 1, 1, 1, 1, 0, 1, 1, 1, 1, 1, 1, 0, 1, 1, 1, 1, 1, 1, 1, 1, 1, 1, 1, 0, 1, 1, 1, 1, 1, 0, 0, 1, 1, 1, 1, 1, 1, 1, 1, 1, 1, 1, 1, 1, 1, 1, 1, 0, 1, 1, 1, 0, 0, 1, 1, 1, 1, 1, 1, 1, 1, 1, 1, 1, 1, 1, 1, 1, 1, 1, 1, 1, 1, 1, 1, 1, 1, 1, 1, 1, 1, 1, 1, 1, 1, 0, 1, 0, 1, 1, 1, 1, 1, 1, 1, 1, 1, 1, 1, 1, 1, 1, 1, 1, 1, 1, 1, 1, 1, 1, 1, 0, 1, 1, 1, 1, 1, 1, 1, 1, 1, 1, 1, 1, 1, 1, 1, 1, 1, 1, 1, 1, 1, 1, 1, 1, 1, 1, 1, 1, 1, 1, 1, 1, 1, 1, 1]\n",
      "[1, 0, 1, 1, 1, 0, 1, 1, 1, 0, 1, 0, 0, 0, 1, 0, 0, 1, 0, 1, 0, 1, 1, 1, 1, 1, 1, 1, 1, 0, 0, 1, 1, 1, 1, 1, 1, 0, 0, 1, 1, 0, 1, 0, 0, 1, 0, 0, 1, 0, 0, 1, 1, 1, 1, 1, 0, 1, 0, 1, 1, 0, 1, 1, 1, 0, 0, 1, 1, 1, 0, 1, 1, 0, 1, 1, 0, 1, 0, 1, 1, 1, 1, 1, 0, 1, 0, 1, 1, 0, 0, 1, 1, 0, 1, 0, 1, 0, 0, 1, 0, 0, 1, 1, 1, 1, 1, 1, 1, 1, 1, 1, 1, 1, 1, 1, 1, 1, 1, 1, 1, 1, 1, 1, 1, 0, 1, 0, 1, 1, 1, 1, 1, 1, 0, 1, 0, 1, 1, 0, 1, 1, 0, 1, 0, 1, 1, 1, 1, 1, 1, 1, 1, 1, 0, 0, 1, 1, 0, 1, 1]\n",
      "119\n",
      "161\n"
     ]
    }
   ],
   "source": [
    "best_params = grid_search.best_params_\n",
    "print(f'Best Parameters: {best_params}')\n",
    "\n",
    "# Train the model with best parameters\n",
    "best_rf = RandomForestClassifier(**best_params , random_state=42)\n",
    "best_rf.fit(X_train, y_train)\n",
    "\n",
    "# Important Features\n",
    "\n",
    "y_predict = best_rf.predict(X_test)\n",
    "y_pred = list(y_predict)\n",
    "print(y_pred)\n",
    "print(y_test)\n",
    "y_test = list(y_test)\n",
    "count = 0\n",
    "for i in range(len(y_test)):\n",
    "    if(y_test[i]==y_pred[i]):\n",
    "        count+=1\n",
    "\n",
    "accuracy_score = count/len(y_test)\n",
    "\n",
    "print(count)\n",
    "print(len(y_pred))\n",
    "\n",
    "\n"
   ]
  },
  {
   "cell_type": "code",
   "execution_count": 123,
   "metadata": {},
   "outputs": [
    {
     "name": "stdout",
     "output_type": "stream",
     "text": [
      "0.7391304347826086\n"
     ]
    }
   ],
   "source": [
    "print(accuracy_score)"
   ]
  },
  {
   "cell_type": "code",
   "execution_count": 128,
   "metadata": {},
   "outputs": [
    {
     "name": "stdout",
     "output_type": "stream",
     "text": [
      "160.2\n"
     ]
    }
   ],
   "source": []
  },
  {
   "cell_type": "code",
   "execution_count": null,
   "metadata": {},
   "outputs": [],
   "source": []
  },
  {
   "cell_type": "markdown",
   "metadata": {},
   "source": [
    "## SVM Classifier\n"
   ]
  },
  {
   "cell_type": "code",
   "execution_count": 129,
   "metadata": {},
   "outputs": [],
   "source": [
    "from sklearn.svm import SVC"
   ]
  },
  {
   "cell_type": "code",
   "execution_count": 142,
   "metadata": {},
   "outputs": [
    {
     "name": "stdout",
     "output_type": "stream",
     "text": [
      "Fitting 5 folds for each of 50 candidates, totalling 250 fits\n",
      "[CV] END .........................C=0.1, gamma=1, kernel=rbf; total time=   0.2s\n",
      "[CV] END ......................C=0.1, gamma=1, kernel=linear; total time=   0.2s\n",
      "[CV] END ......................C=0.1, gamma=1, kernel=linear; total time=   0.2s\n",
      "[CV] END ......................C=0.1, gamma=1, kernel=linear; total time=   0.2s\n",
      "[CV] END .........................C=0.1, gamma=1, kernel=rbf; total time=   0.2s\n",
      "[CV] END ......................C=0.1, gamma=1, kernel=linear; total time=   0.2s\n",
      "[CV] END .........................C=0.1, gamma=1, kernel=rbf; total time=   0.2s\n",
      "[CV] END ......................C=0.1, gamma=1, kernel=linear; total time=   0.2s\n",
      "[CV] END .........................C=0.1, gamma=1, kernel=rbf; total time=   0.3s\n",
      "[CV] END .........................C=0.1, gamma=1, kernel=rbf; total time=   0.3s\n",
      "[CV] END ....................C=0.1, gamma=0.1, kernel=linear; total time=   0.1s\n",
      "[CV] END ....................C=0.1, gamma=0.1, kernel=linear; total time=   0.2s\n",
      "[CV] END ....................C=0.1, gamma=0.1, kernel=linear; total time=   0.2s\n",
      "[CV] END ....................C=0.1, gamma=0.1, kernel=linear; total time=   0.2s\n",
      "[CV] END .......................C=0.1, gamma=0.1, kernel=rbf; total time=   0.2s\n",
      "[CV] END .......................C=0.1, gamma=0.1, kernel=rbf; total time=   0.2s\n",
      "[CV] END ....................C=0.1, gamma=0.1, kernel=linear; total time=   0.2s\n",
      "[CV] END ...................C=0.1, gamma=0.01, kernel=linear; total time=   0.1s\n",
      "[CV] END .......................C=0.1, gamma=0.1, kernel=rbf; total time=   0.3s\n",
      "[CV] END .......................C=0.1, gamma=0.1, kernel=rbf; total time=   0.2s\n",
      "[CV] END ...................C=0.1, gamma=0.01, kernel=linear; total time=   0.1s\n",
      "[CV] END ...................C=0.1, gamma=0.01, kernel=linear; total time=   0.2s\n",
      "[CV] END ......................C=0.1, gamma=0.01, kernel=rbf; total time=   0.2s\n",
      "[CV] END ......................C=0.1, gamma=0.01, kernel=rbf; total time=   0.2s\n",
      "[CV] END ..................C=0.1, gamma=0.001, kernel=linear; total time=   0.1s\n",
      "[CV] END .......................C=0.1, gamma=0.1, kernel=rbf; total time=   0.3s\n",
      "[CV] END ...................C=0.1, gamma=0.01, kernel=linear; total time=   0.1s\n",
      "[CV] END ..................C=0.1, gamma=0.001, kernel=linear; total time=   0.2s\n",
      "[CV] END ...................C=0.1, gamma=0.01, kernel=linear; total time=   0.2s\n",
      "[CV] END ......................C=0.1, gamma=0.01, kernel=rbf; total time=   0.2s\n",
      "[CV] END ..................C=0.1, gamma=0.001, kernel=linear; total time=   0.1s\n",
      "[CV] END ......................C=0.1, gamma=0.01, kernel=rbf; total time=   0.2s\n",
      "[CV] END ..................C=0.1, gamma=0.001, kernel=linear; total time=   0.2s\n",
      "[CV] END ......................C=0.1, gamma=0.01, kernel=rbf; total time=   0.2s\n",
      "[CV] END .....................C=0.1, gamma=0.001, kernel=rbf; total time=   0.2s\n",
      "[CV] END .................C=0.1, gamma=0.0001, kernel=linear; total time=   0.2s\n",
      "[CV] END .................C=0.1, gamma=0.0001, kernel=linear; total time=   0.1s\n",
      "[CV] END .................C=0.1, gamma=0.0001, kernel=linear; total time=   0.2s\n",
      "[CV] END ....................C=0.1, gamma=0.0001, kernel=rbf; total time=   0.2s\n",
      "[CV] END ..................C=0.1, gamma=0.001, kernel=linear; total time=   0.2s\n",
      "[CV] END ........................C=1, gamma=1, kernel=linear; total time=   0.1s\n",
      "[CV] END .....................C=0.1, gamma=0.001, kernel=rbf; total time=   0.3s\n",
      "[CV] END ....................C=0.1, gamma=0.0001, kernel=rbf; total time=   0.2s\n",
      "[CV] END .....................C=0.1, gamma=0.001, kernel=rbf; total time=   0.2s\n",
      "[CV] END .................C=0.1, gamma=0.0001, kernel=linear; total time=   0.2s\n",
      "[CV] END .....................C=0.1, gamma=0.001, kernel=rbf; total time=   0.2s\n",
      "[CV] END .................C=0.1, gamma=0.0001, kernel=linear; total time=   0.2s\n",
      "[CV] END ....................C=0.1, gamma=0.0001, kernel=rbf; total time=   0.2s\n",
      "[CV] END ........................C=1, gamma=1, kernel=linear; total time=   0.1s\n",
      "[CV] END ....................C=0.1, gamma=0.0001, kernel=rbf; total time=   0.2s\n",
      "[CV] END ....................C=0.1, gamma=0.0001, kernel=rbf; total time=   0.2s\n",
      "[CV] END ........................C=1, gamma=1, kernel=linear; total time=   0.2s\n",
      "[CV] END .....................C=0.1, gamma=0.001, kernel=rbf; total time=   0.3s\n",
      "[CV] END ......................C=1, gamma=0.1, kernel=linear; total time=   0.2s\n",
      "[CV] END .........................C=1, gamma=0.1, kernel=rbf; total time=   0.2s\n",
      "[CV] END ......................C=1, gamma=0.1, kernel=linear; total time=   0.2s\n",
      "[CV] END ...........................C=1, gamma=1, kernel=rbf; total time=   0.2s\n",
      "[CV] END ......................C=1, gamma=0.1, kernel=linear; total time=   0.2s\n",
      "[CV] END ........................C=1, gamma=1, kernel=linear; total time=   0.3s\n",
      "[CV] END .........................C=1, gamma=0.1, kernel=rbf; total time=   0.2s\n",
      "[CV] END .........................C=1, gamma=0.1, kernel=rbf; total time=   0.2s\n",
      "[CV] END ......................C=1, gamma=0.1, kernel=linear; total time=   0.2s\n",
      "[CV] END ........................C=1, gamma=1, kernel=linear; total time=   0.3s\n",
      "[CV] END ......................C=1, gamma=0.1, kernel=linear; total time=   0.2s\n",
      "[CV] END ...........................C=1, gamma=1, kernel=rbf; total time=   0.2s\n",
      "[CV] END ...........................C=1, gamma=1, kernel=rbf; total time=   0.5s\n",
      "[CV] END .....................C=1, gamma=0.01, kernel=linear; total time=   0.3s\n",
      "[CV] END .........................C=1, gamma=0.1, kernel=rbf; total time=   0.2s\n",
      "[CV] END .........................C=1, gamma=0.1, kernel=rbf; total time=   0.2s\n",
      "[CV] END .....................C=1, gamma=0.01, kernel=linear; total time=   0.1s\n",
      "[CV] END ...........................C=1, gamma=1, kernel=rbf; total time=   0.3s\n",
      "[CV] END ....................C=1, gamma=0.001, kernel=linear; total time=   0.1s\n",
      "[CV] END .....................C=1, gamma=0.01, kernel=linear; total time=   0.2s\n",
      "[CV] END ........................C=1, gamma=0.01, kernel=rbf; total time=   0.2s\n",
      "[CV] END ....................C=1, gamma=0.001, kernel=linear; total time=   0.1s\n",
      "[CV] END ....................C=1, gamma=0.001, kernel=linear; total time=   0.2s\n",
      "[CV] END ........................C=1, gamma=0.01, kernel=rbf; total time=   0.3s\n",
      "[CV] END .....................C=1, gamma=0.01, kernel=linear; total time=   0.2s\n",
      "[CV] END ...........................C=1, gamma=1, kernel=rbf; total time=   0.3s\n",
      "[CV] END ....................C=1, gamma=0.001, kernel=linear; total time=   0.1s\n",
      "[CV] END .....................C=1, gamma=0.01, kernel=linear; total time=   0.3s\n",
      "[CV] END ........................C=1, gamma=0.01, kernel=rbf; total time=   0.2s\n",
      "[CV] END ....................C=1, gamma=0.001, kernel=linear; total time=   0.1s\n",
      "[CV] END ........................C=1, gamma=0.01, kernel=rbf; total time=   0.2s\n",
      "[CV] END .......................C=1, gamma=0.001, kernel=rbf; total time=   0.2s\n",
      "[CV] END .......................C=1, gamma=0.001, kernel=rbf; total time=   0.2s\n",
      "[CV] END ......................C=1, gamma=0.0001, kernel=rbf; total time=   0.1s\n",
      "[CV] END .......................C=1, gamma=0.001, kernel=rbf; total time=   0.2s\n",
      "[CV] END ...................C=1, gamma=0.0001, kernel=linear; total time=   0.2s\n",
      "[CV] END .......................C=10, gamma=1, kernel=linear; total time=   0.2s\n",
      "[CV] END ......................C=1, gamma=0.0001, kernel=rbf; total time=   0.2s\n",
      "[CV] END ...................C=1, gamma=0.0001, kernel=linear; total time=   0.2s\n",
      "[CV] END ...................C=1, gamma=0.0001, kernel=linear; total time=   0.2s\n",
      "[CV] END .......................C=10, gamma=1, kernel=linear; total time=   0.1s\n",
      "[CV] END ........................C=1, gamma=0.01, kernel=rbf; total time=   0.3s\n",
      "[CV] END ......................C=1, gamma=0.0001, kernel=rbf; total time=   0.1s\n",
      "[CV] END ...................C=1, gamma=0.0001, kernel=linear; total time=   0.2s\n",
      "[CV] END .......................C=1, gamma=0.001, kernel=rbf; total time=   0.2s\n",
      "[CV] END .......................C=10, gamma=1, kernel=linear; total time=   0.2s\n",
      "[CV] END .......................C=1, gamma=0.001, kernel=rbf; total time=   0.3s\n",
      "[CV] END ......................C=1, gamma=0.0001, kernel=rbf; total time=   0.2s\n",
      "[CV] END .......................C=10, gamma=1, kernel=linear; total time=   0.2s\n",
      "[CV] END ..........................C=10, gamma=1, kernel=rbf; total time=   0.2s\n",
      "[CV] END ...................C=1, gamma=0.0001, kernel=linear; total time=   0.2s\n",
      "[CV] END .....................C=10, gamma=0.1, kernel=linear; total time=   0.2s\n",
      "[CV] END ......................C=1, gamma=0.0001, kernel=rbf; total time=   0.3s\n",
      "[CV] END ..........................C=10, gamma=1, kernel=rbf; total time=   0.2s\n",
      "[CV] END .......................C=10, gamma=1, kernel=linear; total time=   0.3s\n",
      "[CV] END .....................C=10, gamma=0.1, kernel=linear; total time=   0.2s\n",
      "[CV] END ........................C=10, gamma=0.1, kernel=rbf; total time=   0.2s\n",
      "[CV] END ........................C=10, gamma=0.1, kernel=rbf; total time=   0.2s\n",
      "[CV] END ..........................C=10, gamma=1, kernel=rbf; total time=   0.2s\n",
      "[CV] END .....................C=10, gamma=0.1, kernel=linear; total time=   0.2s\n",
      "[CV] END .....................C=10, gamma=0.1, kernel=linear; total time=   0.1s\n",
      "[CV] END ..........................C=10, gamma=1, kernel=rbf; total time=   0.2s\n",
      "[CV] END .....................C=10, gamma=0.1, kernel=linear; total time=   0.2s\n",
      "[CV] END ....................C=10, gamma=0.01, kernel=linear; total time=   0.2s\n",
      "[CV] END ........................C=10, gamma=0.1, kernel=rbf; total time=   0.2s\n",
      "[CV] END ....................C=10, gamma=0.01, kernel=linear; total time=   0.2s\n",
      "[CV] END ....................C=10, gamma=0.01, kernel=linear; total time=   0.1s\n",
      "[CV] END ........................C=10, gamma=0.1, kernel=rbf; total time=   0.2s\n",
      "[CV] END ..........................C=10, gamma=1, kernel=rbf; total time=   0.2s\n",
      "[CV] END .......................C=10, gamma=0.01, kernel=rbf; total time=   0.2s\n",
      "[CV] END .......................C=10, gamma=0.01, kernel=rbf; total time=   0.2s\n",
      "[CV] END ...................C=10, gamma=0.001, kernel=linear; total time=   0.2s\n",
      "[CV] END ........................C=10, gamma=0.1, kernel=rbf; total time=   0.2s\n",
      "[CV] END ...................C=10, gamma=0.001, kernel=linear; total time=   0.2s\n",
      "[CV] END ...................C=10, gamma=0.001, kernel=linear; total time=   0.1s\n",
      "[CV] END .......................C=10, gamma=0.01, kernel=rbf; total time=   0.2s\n",
      "[CV] END ....................C=10, gamma=0.01, kernel=linear; total time=   0.3s\n",
      "[CV] END ....................C=10, gamma=0.01, kernel=linear; total time=   0.3s\n",
      "[CV] END .......................C=10, gamma=0.01, kernel=rbf; total time=   0.2s\n",
      "[CV] END .......................C=10, gamma=0.01, kernel=rbf; total time=   0.2s\n",
      "[CV] END ...................C=10, gamma=0.001, kernel=linear; total time=   0.2s\n",
      "[CV] END ...................C=10, gamma=0.001, kernel=linear; total time=   0.1s\n",
      "[CV] END ......................C=10, gamma=0.001, kernel=rbf; total time=   0.1s\n",
      "[CV] END ......................C=10, gamma=0.001, kernel=rbf; total time=   0.3s\n",
      "[CV] END ..................C=10, gamma=0.0001, kernel=linear; total time=   0.2s\n",
      "[CV] END ......................C=10, gamma=0.001, kernel=rbf; total time=   0.3s\n",
      "[CV] END ..................C=10, gamma=0.0001, kernel=linear; total time=   0.2s\n",
      "[CV] END .....................C=10, gamma=0.0001, kernel=rbf; total time=   0.1s\n",
      "[CV] END ......................C=100, gamma=1, kernel=linear; total time=   0.1s\n",
      "[CV] END .....................C=10, gamma=0.0001, kernel=rbf; total time=   0.2s\n",
      "[CV] END ......................C=100, gamma=1, kernel=linear; total time=   0.2s\n",
      "[CV] END ..................C=10, gamma=0.0001, kernel=linear; total time=   0.2s\n",
      "[CV] END ......................C=100, gamma=1, kernel=linear; total time=   0.2s\n",
      "[CV] END ..................C=10, gamma=0.0001, kernel=linear; total time=   0.2s\n",
      "[CV] END ......................C=10, gamma=0.001, kernel=rbf; total time=   0.2s\n",
      "[CV] END ......................C=100, gamma=1, kernel=linear; total time=   0.1s\n",
      "[CV] END .....................C=10, gamma=0.0001, kernel=rbf; total time=   0.1s\n",
      "[CV] END ......................C=100, gamma=1, kernel=linear; total time=   0.1s\n",
      "[CV] END .....................C=10, gamma=0.0001, kernel=rbf; total time=   0.2s\n",
      "[CV] END .........................C=100, gamma=1, kernel=rbf; total time=   0.1s\n",
      "[CV] END ..................C=10, gamma=0.0001, kernel=linear; total time=   0.2s\n",
      "[CV] END ......................C=10, gamma=0.001, kernel=rbf; total time=   0.3s\n",
      "[CV] END .....................C=10, gamma=0.0001, kernel=rbf; total time=   0.2s\n",
      "[CV] END ....................C=100, gamma=0.1, kernel=linear; total time=   0.1s\n",
      "[CV] END ....................C=100, gamma=0.1, kernel=linear; total time=   0.1s\n",
      "[CV] END .........................C=100, gamma=1, kernel=rbf; total time=   0.2s\n",
      "[CV] END ....................C=100, gamma=0.1, kernel=linear; total time=   0.2s\n",
      "[CV] END .......................C=100, gamma=0.1, kernel=rbf; total time=   0.2s\n",
      "[CV] END .......................C=100, gamma=0.1, kernel=rbf; total time=   0.2s\n",
      "[CV] END .........................C=100, gamma=1, kernel=rbf; total time=   0.3s\n",
      "[CV] END ....................C=100, gamma=0.1, kernel=linear; total time=   0.1s\n",
      "[CV] END ...................C=100, gamma=0.01, kernel=linear; total time=   0.2s\n",
      "[CV] END ...................C=100, gamma=0.01, kernel=linear; total time=   0.2s\n",
      "[CV] END ....................C=100, gamma=0.1, kernel=linear; total time=   0.1s\n",
      "[CV] END ...................C=100, gamma=0.01, kernel=linear; total time=   0.2s\n",
      "[CV] END .......................C=100, gamma=0.1, kernel=rbf; total time=   0.2s\n",
      "[CV] END .........................C=100, gamma=1, kernel=rbf; total time=   0.2s\n",
      "[CV] END .......................C=100, gamma=0.1, kernel=rbf; total time=   0.2s\n",
      "[CV] END .......................C=100, gamma=0.1, kernel=rbf; total time=   0.2s\n",
      "[CV] END ......................C=100, gamma=0.01, kernel=rbf; total time=   0.2s\n",
      "[CV] END ......................C=100, gamma=0.01, kernel=rbf; total time=   0.2s\n",
      "[CV] END ..................C=100, gamma=0.001, kernel=linear; total time=   0.1s\n",
      "[CV] END ..................C=100, gamma=0.001, kernel=linear; total time=   0.2s\n",
      "[CV] END ..................C=100, gamma=0.001, kernel=linear; total time=   0.1s\n",
      "[CV] END .........................C=100, gamma=1, kernel=rbf; total time=   0.3s\n",
      "[CV] END ...................C=100, gamma=0.01, kernel=linear; total time=   0.2s\n",
      "[CV] END ...................C=100, gamma=0.01, kernel=linear; total time=   0.2s\n",
      "[CV] END .....................C=100, gamma=0.001, kernel=rbf; total time=   0.2s\n",
      "[CV] END ......................C=100, gamma=0.01, kernel=rbf; total time=   0.3s\n",
      "[CV] END ......................C=100, gamma=0.01, kernel=rbf; total time=   0.1s\n",
      "[CV] END ..................C=100, gamma=0.001, kernel=linear; total time=   0.1s\n",
      "[CV] END ..................C=100, gamma=0.001, kernel=linear; total time=   0.2s\n",
      "[CV] END ......................C=100, gamma=0.01, kernel=rbf; total time=   0.2s\n",
      "[CV] END .....................C=100, gamma=0.001, kernel=rbf; total time=   0.2s\n",
      "[CV] END .....................C=100, gamma=0.001, kernel=rbf; total time=   0.2s\n",
      "[CV] END .....................C=100, gamma=0.001, kernel=rbf; total time=   0.2s\n",
      "[CV] END .................C=100, gamma=0.0001, kernel=linear; total time=   0.2s\n",
      "[CV] END .................C=100, gamma=0.0001, kernel=linear; total time=   0.2s\n",
      "[CV] END ....................C=100, gamma=0.0001, kernel=rbf; total time=   0.2s\n",
      "[CV] END ....................C=100, gamma=0.0001, kernel=rbf; total time=   0.2s\n",
      "[CV] END .................C=100, gamma=0.0001, kernel=linear; total time=   0.2s\n",
      "[CV] END .....................C=1000, gamma=1, kernel=linear; total time=   0.2s\n",
      "[CV] END .....................C=1000, gamma=1, kernel=linear; total time=   0.2s\n",
      "[CV] END .....................C=1000, gamma=1, kernel=linear; total time=   0.2s\n",
      "[CV] END ........................C=1000, gamma=1, kernel=rbf; total time=   0.2s\n",
      "[CV] END ....................C=100, gamma=0.0001, kernel=rbf; total time=   0.1s\n",
      "[CV] END ....................C=100, gamma=0.0001, kernel=rbf; total time=   0.2s\n",
      "[CV] END .....................C=1000, gamma=1, kernel=linear; total time=   0.1s\n",
      "[CV] END .................C=100, gamma=0.0001, kernel=linear; total time=   0.2s\n",
      "[CV] END .....................C=1000, gamma=1, kernel=linear; total time=   0.1s\n",
      "[CV] END .................C=100, gamma=0.0001, kernel=linear; total time=   0.2s\n",
      "[CV] END ........................C=1000, gamma=1, kernel=rbf; total time=   0.2s\n",
      "[CV] END .....................C=100, gamma=0.001, kernel=rbf; total time=   0.3s\n",
      "[CV] END ....................C=100, gamma=0.0001, kernel=rbf; total time=   0.3s\n",
      "[CV] END ........................C=1000, gamma=1, kernel=rbf; total time=   0.2s\n",
      "[CV] END ...................C=1000, gamma=0.1, kernel=linear; total time=   0.1s\n",
      "[CV] END ........................C=1000, gamma=1, kernel=rbf; total time=   0.2s\n",
      "[CV] END ...................C=1000, gamma=0.1, kernel=linear; total time=   0.2s\n",
      "[CV] END ......................C=1000, gamma=0.1, kernel=rbf; total time=   0.2s\n",
      "[CV] END ..................C=1000, gamma=0.01, kernel=linear; total time=   0.1s\n",
      "[CV] END ...................C=1000, gamma=0.1, kernel=linear; total time=   0.2s\n",
      "[CV] END ......................C=1000, gamma=0.1, kernel=rbf; total time=   0.2s\n",
      "[CV] END ..................C=1000, gamma=0.01, kernel=linear; total time=   0.2s\n",
      "[CV] END ...................C=1000, gamma=0.1, kernel=linear; total time=   0.2s\n",
      "[CV] END ...................C=1000, gamma=0.1, kernel=linear; total time=   0.1s\n",
      "[CV] END ........................C=1000, gamma=1, kernel=rbf; total time=   0.2s\n",
      "[CV] END ..................C=1000, gamma=0.01, kernel=linear; total time=   0.1s\n",
      "[CV] END ......................C=1000, gamma=0.1, kernel=rbf; total time=   0.1s\n",
      "[CV] END .....................C=1000, gamma=0.01, kernel=rbf; total time=   0.2s\n",
      "[CV] END ..................C=1000, gamma=0.01, kernel=linear; total time=   0.3s\n",
      "[CV] END ......................C=1000, gamma=0.1, kernel=rbf; total time=   0.2s\n",
      "[CV] END .................C=1000, gamma=0.001, kernel=linear; total time=   0.1s\n",
      "[CV] END .................C=1000, gamma=0.001, kernel=linear; total time=   0.1s\n",
      "[CV] END .................C=1000, gamma=0.001, kernel=linear; total time=   0.1s\n",
      "[CV] END ......................C=1000, gamma=0.1, kernel=rbf; total time=   0.2s\n",
      "[CV] END .....................C=1000, gamma=0.01, kernel=rbf; total time=   0.2s\n",
      "[CV] END ..................C=1000, gamma=0.01, kernel=linear; total time=   0.2s\n",
      "[CV] END .....................C=1000, gamma=0.01, kernel=rbf; total time=   0.2s\n",
      "[CV] END ....................C=1000, gamma=0.001, kernel=rbf; total time=   0.2s\n",
      "[CV] END .....................C=1000, gamma=0.01, kernel=rbf; total time=   0.2s\n",
      "[CV] END .................C=1000, gamma=0.001, kernel=linear; total time=   0.1s\n",
      "[CV] END .................C=1000, gamma=0.001, kernel=linear; total time=   0.1s\n",
      "[CV] END ................C=1000, gamma=0.0001, kernel=linear; total time=   0.1s\n",
      "[CV] END ....................C=1000, gamma=0.001, kernel=rbf; total time=   0.2s\n",
      "[CV] END .....................C=1000, gamma=0.01, kernel=rbf; total time=   0.2s\n",
      "[CV] END ....................C=1000, gamma=0.001, kernel=rbf; total time=   0.2s\n",
      "[CV] END ....................C=1000, gamma=0.001, kernel=rbf; total time=   0.3s\n",
      "[CV] END ................C=1000, gamma=0.0001, kernel=linear; total time=   0.2s\n",
      "[CV] END ................C=1000, gamma=0.0001, kernel=linear; total time=   0.2s\n",
      "[CV] END ................C=1000, gamma=0.0001, kernel=linear; total time=   0.1s\n",
      "[CV] END ...................C=1000, gamma=0.0001, kernel=rbf; total time=   0.2s\n",
      "[CV] END ................C=1000, gamma=0.0001, kernel=linear; total time=   0.2s\n",
      "[CV] END ...................C=1000, gamma=0.0001, kernel=rbf; total time=   0.2s\n",
      "[CV] END ...................C=1000, gamma=0.0001, kernel=rbf; total time=   0.2s\n",
      "[CV] END ...................C=1000, gamma=0.0001, kernel=rbf; total time=   0.2s\n",
      "[CV] END ...................C=1000, gamma=0.0001, kernel=rbf; total time=   0.1s\n",
      "[CV] END ....................C=1000, gamma=0.001, kernel=rbf; total time=   0.2s\n",
      "Best Parameters: SVC(C=0.1, gamma=1, kernel='linear', random_state=111)\n"
     ]
    },
    {
     "data": {
      "text/html": [
       "<style>#sk-container-id-10 {color: black;}#sk-container-id-10 pre{padding: 0;}#sk-container-id-10 div.sk-toggleable {background-color: white;}#sk-container-id-10 label.sk-toggleable__label {cursor: pointer;display: block;width: 100%;margin-bottom: 0;padding: 0.3em;box-sizing: border-box;text-align: center;}#sk-container-id-10 label.sk-toggleable__label-arrow:before {content: \"▸\";float: left;margin-right: 0.25em;color: #696969;}#sk-container-id-10 label.sk-toggleable__label-arrow:hover:before {color: black;}#sk-container-id-10 div.sk-estimator:hover label.sk-toggleable__label-arrow:before {color: black;}#sk-container-id-10 div.sk-toggleable__content {max-height: 0;max-width: 0;overflow: hidden;text-align: left;background-color: #f0f8ff;}#sk-container-id-10 div.sk-toggleable__content pre {margin: 0.2em;color: black;border-radius: 0.25em;background-color: #f0f8ff;}#sk-container-id-10 input.sk-toggleable__control:checked~div.sk-toggleable__content {max-height: 200px;max-width: 100%;overflow: auto;}#sk-container-id-10 input.sk-toggleable__control:checked~label.sk-toggleable__label-arrow:before {content: \"▾\";}#sk-container-id-10 div.sk-estimator input.sk-toggleable__control:checked~label.sk-toggleable__label {background-color: #d4ebff;}#sk-container-id-10 div.sk-label input.sk-toggleable__control:checked~label.sk-toggleable__label {background-color: #d4ebff;}#sk-container-id-10 input.sk-hidden--visually {border: 0;clip: rect(1px 1px 1px 1px);clip: rect(1px, 1px, 1px, 1px);height: 1px;margin: -1px;overflow: hidden;padding: 0;position: absolute;width: 1px;}#sk-container-id-10 div.sk-estimator {font-family: monospace;background-color: #f0f8ff;border: 1px dotted black;border-radius: 0.25em;box-sizing: border-box;margin-bottom: 0.5em;}#sk-container-id-10 div.sk-estimator:hover {background-color: #d4ebff;}#sk-container-id-10 div.sk-parallel-item::after {content: \"\";width: 100%;border-bottom: 1px solid gray;flex-grow: 1;}#sk-container-id-10 div.sk-label:hover label.sk-toggleable__label {background-color: #d4ebff;}#sk-container-id-10 div.sk-serial::before {content: \"\";position: absolute;border-left: 1px solid gray;box-sizing: border-box;top: 0;bottom: 0;left: 50%;z-index: 0;}#sk-container-id-10 div.sk-serial {display: flex;flex-direction: column;align-items: center;background-color: white;padding-right: 0.2em;padding-left: 0.2em;position: relative;}#sk-container-id-10 div.sk-item {position: relative;z-index: 1;}#sk-container-id-10 div.sk-parallel {display: flex;align-items: stretch;justify-content: center;background-color: white;position: relative;}#sk-container-id-10 div.sk-item::before, #sk-container-id-10 div.sk-parallel-item::before {content: \"\";position: absolute;border-left: 1px solid gray;box-sizing: border-box;top: 0;bottom: 0;left: 50%;z-index: -1;}#sk-container-id-10 div.sk-parallel-item {display: flex;flex-direction: column;z-index: 1;position: relative;background-color: white;}#sk-container-id-10 div.sk-parallel-item:first-child::after {align-self: flex-end;width: 50%;}#sk-container-id-10 div.sk-parallel-item:last-child::after {align-self: flex-start;width: 50%;}#sk-container-id-10 div.sk-parallel-item:only-child::after {width: 0;}#sk-container-id-10 div.sk-dashed-wrapped {border: 1px dashed gray;margin: 0 0.4em 0.5em 0.4em;box-sizing: border-box;padding-bottom: 0.4em;background-color: white;}#sk-container-id-10 div.sk-label label {font-family: monospace;font-weight: bold;display: inline-block;line-height: 1.2em;}#sk-container-id-10 div.sk-label-container {text-align: center;}#sk-container-id-10 div.sk-container {/* jupyter's `normalize.less` sets `[hidden] { display: none; }` but bootstrap.min.css set `[hidden] { display: none !important; }` so we also need the `!important` here to be able to override the default hidden behavior on the sphinx rendered scikit-learn.org. See: https://github.com/scikit-learn/scikit-learn/issues/21755 */display: inline-block !important;position: relative;}#sk-container-id-10 div.sk-text-repr-fallback {display: none;}</style><div id=\"sk-container-id-10\" class=\"sk-top-container\"><div class=\"sk-text-repr-fallback\"><pre>SVC(C=0.1, gamma=1, kernel=&#x27;linear&#x27;, random_state=111)</pre><b>In a Jupyter environment, please rerun this cell to show the HTML representation or trust the notebook. <br />On GitHub, the HTML representation is unable to render, please try loading this page with nbviewer.org.</b></div><div class=\"sk-container\" hidden><div class=\"sk-item\"><div class=\"sk-estimator sk-toggleable\"><input class=\"sk-toggleable__control sk-hidden--visually\" id=\"sk-estimator-id-22\" type=\"checkbox\" checked><label for=\"sk-estimator-id-22\" class=\"sk-toggleable__label sk-toggleable__label-arrow\">SVC</label><div class=\"sk-toggleable__content\"><pre>SVC(C=0.1, gamma=1, kernel=&#x27;linear&#x27;, random_state=111)</pre></div></div></div></div></div>"
      ],
      "text/plain": [
       "SVC(C=0.1, gamma=1, kernel='linear', random_state=111)"
      ]
     },
     "execution_count": 142,
     "metadata": {},
     "output_type": "execute_result"
    }
   ],
   "source": [
    "param_grid = {\n",
    "    'C': [0.1, 1, 10, 100, 1000],\n",
    "    'gamma': [1, 0.1, 0.01, 0.001, 0.0001],\n",
    "    'kernel': ['linear', 'rbf']\n",
    "}\n",
    "\n",
    "svc = SVC(random_state=111)\n",
    "grid_search = GridSearchCV(estimator=svc, param_grid=param_grid, cv=5, verbose=2, n_jobs=-1)\n",
    "grid_search.fit(X_train, y_train)\n",
    "\n",
    "best_svc = grid_search.best_estimator_\n",
    "print(f'Best Parameters: {best_svc}')\n",
    "\n",
    "# Train the model with best parameters\n",
    "best_model = SVC(C=0.1, gamma=1, kernel='linear', random_state=111)\n",
    "\n",
    "best_model.fit(X_train, y_train)"
   ]
  },
  {
   "cell_type": "code",
   "execution_count": 143,
   "metadata": {},
   "outputs": [
    {
     "name": "stdout",
     "output_type": "stream",
     "text": [
      "[1, 1, 1, 1, 1, 1, 1, 1, 1, 0, 1, 1, 0, 1, 0, 1, 0, 1, 0, 1, 1, 1, 1, 1, 1, 0, 1, 1, 1, 0, 1, 1, 1, 1, 1, 1, 1, 0, 1, 1, 1, 1, 1, 0, 0, 1, 1, 1, 1, 0, 0, 1, 1, 1, 1, 1, 0, 1, 1, 1, 1, 0, 0, 1, 1, 0, 0, 1, 1, 1, 0, 1, 1, 1, 1, 1, 1, 0, 1, 1, 1, 1, 1, 1, 1, 1, 1, 1, 1, 1, 1, 1, 1, 1, 1, 0, 0, 0, 0, 0, 1, 0, 1, 1, 1, 1, 1, 1, 1, 1, 1, 1, 1, 0, 1, 1, 1, 1, 1, 1, 1, 1, 1, 1, 1, 0, 1, 1, 1, 1, 1, 1, 1, 1, 1, 1, 1, 1, 1, 1, 1, 1, 0, 1, 0, 1, 1, 1, 0, 1, 1, 1, 1, 1, 1, 1, 1, 1, 0, 1, 1]\n",
      "[1, 0, 1, 1, 1, 0, 1, 1, 1, 0, 1, 0, 0, 0, 1, 0, 0, 1, 0, 1, 0, 1, 1, 1, 1, 1, 1, 1, 1, 0, 0, 1, 1, 1, 1, 1, 1, 0, 0, 1, 1, 0, 1, 0, 0, 1, 0, 0, 1, 0, 0, 1, 1, 1, 1, 1, 0, 1, 0, 1, 1, 0, 1, 1, 1, 0, 0, 1, 1, 1, 0, 1, 1, 0, 1, 1, 0, 1, 0, 1, 1, 1, 1, 1, 0, 1, 0, 1, 1, 0, 0, 1, 1, 0, 1, 0, 1, 0, 0, 1, 0, 0, 1, 1, 1, 1, 1, 1, 1, 1, 1, 1, 1, 1, 1, 1, 1, 1, 1, 1, 1, 1, 1, 1, 1, 0, 1, 0, 1, 1, 1, 1, 1, 1, 0, 1, 0, 1, 1, 0, 1, 1, 0, 1, 0, 1, 1, 1, 1, 1, 1, 1, 1, 1, 0, 0, 1, 1, 0, 1, 1]\n",
      "126\n",
      "161\n"
     ]
    }
   ],
   "source": [
    "y_predict = best_model.predict(X_test)\n",
    "\n",
    "y_pred = list(y_predict)\n",
    "print(y_pred)\n",
    "print(y_test)\n",
    "y_test = list(y_test)\n",
    "count = 0\n",
    "for i in range(len(y_test)):\n",
    "    if(y_test[i]==y_pred[i]):\n",
    "        count+=1\n",
    "\n",
    "accuracy_score = count/len(y_test)\n",
    "\n",
    "print(count)\n",
    "print(len(y_pred))\n"
   ]
  },
  {
   "cell_type": "code",
   "execution_count": 144,
   "metadata": {},
   "outputs": [
    {
     "name": "stdout",
     "output_type": "stream",
     "text": [
      "0.782608695652174\n"
     ]
    }
   ],
   "source": [
    "print(accuracy_score)"
   ]
  },
  {
   "cell_type": "markdown",
   "metadata": {},
   "source": [
    "## Logistic Regression\n"
   ]
  },
  {
   "cell_type": "code",
   "execution_count": 150,
   "metadata": {},
   "outputs": [
    {
     "name": "stdout",
     "output_type": "stream",
     "text": [
      "Fitting 5 folds for each of 30 candidates, totalling 150 fits\n",
      "[CV] END .............C=0.01, max_iter=100, solver=liblinear; total time=   0.0s\n",
      "[CV] END .............C=0.01, max_iter=100, solver=liblinear; total time=   0.0s\n",
      "[CV] END .............C=0.01, max_iter=100, solver=liblinear; total time=   0.1s\n",
      "[CV] END .............C=0.01, max_iter=100, solver=liblinear; total time=   0.1s\n",
      "[CV] END .............C=0.01, max_iter=100, solver=liblinear; total time=   0.1s\n",
      "[CV] END .............C=0.01, max_iter=200, solver=liblinear; total time=   0.0s\n",
      "[CV] END .............C=0.01, max_iter=200, solver=liblinear; total time=   0.0s\n",
      "[CV] END .............C=0.01, max_iter=200, solver=liblinear; total time=   0.1s\n",
      "[CV] END .............C=0.01, max_iter=200, solver=liblinear; total time=   0.0s\n",
      "[CV] END .............C=0.01, max_iter=200, solver=liblinear; total time=   0.0s\n"
     ]
    },
    {
     "name": "stderr",
     "output_type": "stream",
     "text": [
      "/Library/Frameworks/Python.framework/Versions/3.12/lib/python3.12/site-packages/sklearn/linear_model/_sag.py:350: ConvergenceWarning: The max_iter was reached which means the coef_ did not converge\n",
      "  warnings.warn(\n",
      "/Library/Frameworks/Python.framework/Versions/3.12/lib/python3.12/site-packages/sklearn/linear_model/_sag.py:350: ConvergenceWarning: The max_iter was reached which means the coef_ did not converge\n",
      "  warnings.warn(\n",
      "/Library/Frameworks/Python.framework/Versions/3.12/lib/python3.12/site-packages/sklearn/linear_model/_sag.py:350: ConvergenceWarning: The max_iter was reached which means the coef_ did not converge\n",
      "  warnings.warn(\n",
      "/Library/Frameworks/Python.framework/Versions/3.12/lib/python3.12/site-packages/sklearn/linear_model/_sag.py:350: ConvergenceWarning: The max_iter was reached which means the coef_ did not converge\n",
      "  warnings.warn(\n",
      "/Library/Frameworks/Python.framework/Versions/3.12/lib/python3.12/site-packages/sklearn/linear_model/_sag.py:350: ConvergenceWarning: The max_iter was reached which means the coef_ did not converge\n",
      "  warnings.warn(\n"
     ]
    },
    {
     "name": "stdout",
     "output_type": "stream",
     "text": [
      "[CV] END ..................C=0.01, max_iter=100, solver=saga; total time=   0.4s\n",
      "[CV] END ..................C=0.01, max_iter=100, solver=saga; total time=   0.4s\n",
      "[CV] END ..................C=0.01, max_iter=100, solver=saga; total time=   0.4s\n",
      "[CV] END ..................C=0.01, max_iter=100, solver=saga; total time=   0.4s\n",
      "[CV] END ..................C=0.01, max_iter=100, solver=saga; total time=   0.4s\n",
      "[CV] END .............C=0.01, max_iter=500, solver=liblinear; total time=   0.0s\n",
      "[CV] END .............C=0.01, max_iter=500, solver=liblinear; total time=   0.0s\n",
      "[CV] END .............C=0.01, max_iter=500, solver=liblinear; total time=   0.0s\n",
      "[CV] END .............C=0.01, max_iter=500, solver=liblinear; total time=   0.0s\n",
      "[CV] END .............C=0.01, max_iter=500, solver=liblinear; total time=   0.0s\n",
      "[CV] END ..............C=0.1, max_iter=100, solver=liblinear; total time=   0.0s\n",
      "[CV] END ..............C=0.1, max_iter=100, solver=liblinear; total time=   0.0s\n",
      "[CV] END ..............C=0.1, max_iter=100, solver=liblinear; total time=   0.0s\n",
      "[CV] END ..............C=0.1, max_iter=100, solver=liblinear; total time=   0.1s\n",
      "[CV] END ..............C=0.1, max_iter=100, solver=liblinear; total time=   0.0s\n",
      "[CV] END ..................C=0.01, max_iter=200, solver=saga; total time=   0.7s\n"
     ]
    },
    {
     "name": "stderr",
     "output_type": "stream",
     "text": [
      "/Library/Frameworks/Python.framework/Versions/3.12/lib/python3.12/site-packages/sklearn/linear_model/_sag.py:350: ConvergenceWarning: The max_iter was reached which means the coef_ did not converge\n",
      "  warnings.warn(\n",
      "/Library/Frameworks/Python.framework/Versions/3.12/lib/python3.12/site-packages/sklearn/linear_model/_sag.py:350: ConvergenceWarning: The max_iter was reached which means the coef_ did not converge\n",
      "  warnings.warn(\n",
      "/Library/Frameworks/Python.framework/Versions/3.12/lib/python3.12/site-packages/sklearn/linear_model/_sag.py:350: ConvergenceWarning: The max_iter was reached which means the coef_ did not converge\n",
      "  warnings.warn(\n",
      "/Library/Frameworks/Python.framework/Versions/3.12/lib/python3.12/site-packages/sklearn/linear_model/_sag.py:350: ConvergenceWarning: The max_iter was reached which means the coef_ did not converge\n",
      "  warnings.warn(\n",
      "/Library/Frameworks/Python.framework/Versions/3.12/lib/python3.12/site-packages/sklearn/linear_model/_sag.py:350: ConvergenceWarning: The max_iter was reached which means the coef_ did not converge\n",
      "  warnings.warn(\n",
      "/Library/Frameworks/Python.framework/Versions/3.12/lib/python3.12/site-packages/sklearn/linear_model/_sag.py:350: ConvergenceWarning: The max_iter was reached which means the coef_ did not converge\n",
      "  warnings.warn(\n"
     ]
    },
    {
     "name": "stdout",
     "output_type": "stream",
     "text": [
      "[CV] END ..................C=0.01, max_iter=200, solver=saga; total time=   0.7s\n",
      "[CV] END ..............C=0.1, max_iter=200, solver=liblinear; total time=   0.0s\n",
      "[CV] END ..................C=0.01, max_iter=200, solver=saga; total time=   0.8s\n",
      "[CV] END ..................C=0.01, max_iter=200, solver=saga; total time=   0.8s\n",
      "[CV] END ..................C=0.01, max_iter=200, solver=saga; total time=   0.8s\n",
      "[CV] END ..............C=0.1, max_iter=200, solver=liblinear; total time=   0.0s\n",
      "[CV] END ..............C=0.1, max_iter=200, solver=liblinear; total time=   0.1s\n",
      "[CV] END ..............C=0.1, max_iter=200, solver=liblinear; total time=   0.0s\n",
      "[CV] END ..............C=0.1, max_iter=200, solver=liblinear; total time=   0.1s\n",
      "[CV] END ...................C=0.1, max_iter=100, solver=saga; total time=   0.4s\n",
      "[CV] END ..............C=0.1, max_iter=500, solver=liblinear; total time=   0.1s\n"
     ]
    },
    {
     "name": "stderr",
     "output_type": "stream",
     "text": [
      "/Library/Frameworks/Python.framework/Versions/3.12/lib/python3.12/site-packages/sklearn/linear_model/_sag.py:350: ConvergenceWarning: The max_iter was reached which means the coef_ did not converge\n",
      "  warnings.warn(\n"
     ]
    },
    {
     "name": "stdout",
     "output_type": "stream",
     "text": [
      "[CV] END ...................C=0.1, max_iter=100, solver=saga; total time=   0.4s\n",
      "[CV] END ..............C=0.1, max_iter=500, solver=liblinear; total time=   0.1s\n",
      "[CV] END ..............C=0.1, max_iter=500, solver=liblinear; total time=   0.1s\n",
      "[CV] END ..............C=0.1, max_iter=500, solver=liblinear; total time=   0.0s\n",
      "[CV] END ..............C=0.1, max_iter=500, solver=liblinear; total time=   0.1s\n",
      "[CV] END ..................C=0.01, max_iter=500, solver=saga; total time=   0.8s\n",
      "[CV] END ...................C=0.1, max_iter=100, solver=saga; total time=   0.4s\n"
     ]
    },
    {
     "name": "stderr",
     "output_type": "stream",
     "text": [
      "/Library/Frameworks/Python.framework/Versions/3.12/lib/python3.12/site-packages/sklearn/linear_model/_sag.py:350: ConvergenceWarning: The max_iter was reached which means the coef_ did not converge\n",
      "  warnings.warn(\n",
      "/Library/Frameworks/Python.framework/Versions/3.12/lib/python3.12/site-packages/sklearn/linear_model/_sag.py:350: ConvergenceWarning: The max_iter was reached which means the coef_ did not converge\n",
      "  warnings.warn(\n"
     ]
    },
    {
     "name": "stdout",
     "output_type": "stream",
     "text": [
      "[CV] END ..................C=0.01, max_iter=500, solver=saga; total time=   0.9s\n",
      "[CV] END ...................C=0.1, max_iter=100, solver=saga; total time=   0.4s\n",
      "[CV] END ..................C=0.01, max_iter=500, solver=saga; total time=   1.0s\n",
      "[CV] END ................C=1, max_iter=100, solver=liblinear; total time=   0.0s\n",
      "[CV] END ................C=1, max_iter=100, solver=liblinear; total time=   0.1s\n",
      "[CV] END ................C=1, max_iter=100, solver=liblinear; total time=   0.1s\n",
      "[CV] END ................C=1, max_iter=100, solver=liblinear; total time=   0.1s\n",
      "[CV] END ...................C=0.1, max_iter=100, solver=saga; total time=   0.4s\n",
      "[CV] END ................C=1, max_iter=100, solver=liblinear; total time=   0.1s\n",
      "[CV] END ...................C=0.1, max_iter=200, solver=saga; total time=   0.8s\n",
      "[CV] END ...................C=0.1, max_iter=200, solver=saga; total time=   0.8s\n"
     ]
    },
    {
     "name": "stderr",
     "output_type": "stream",
     "text": [
      "/Library/Frameworks/Python.framework/Versions/3.12/lib/python3.12/site-packages/sklearn/linear_model/_sag.py:350: ConvergenceWarning: The max_iter was reached which means the coef_ did not converge\n",
      "  warnings.warn(\n",
      "/Library/Frameworks/Python.framework/Versions/3.12/lib/python3.12/site-packages/sklearn/linear_model/_sag.py:350: ConvergenceWarning: The max_iter was reached which means the coef_ did not converge\n",
      "  warnings.warn(\n",
      "/Library/Frameworks/Python.framework/Versions/3.12/lib/python3.12/site-packages/sklearn/linear_model/_sag.py:350: ConvergenceWarning: The max_iter was reached which means the coef_ did not converge\n",
      "  warnings.warn(\n",
      "/Library/Frameworks/Python.framework/Versions/3.12/lib/python3.12/site-packages/sklearn/linear_model/_sag.py:350: ConvergenceWarning: The max_iter was reached which means the coef_ did not converge\n",
      "  warnings.warn(\n"
     ]
    },
    {
     "name": "stdout",
     "output_type": "stream",
     "text": [
      "[CV] END ...................C=0.1, max_iter=200, solver=saga; total time=   0.9s\n"
     ]
    },
    {
     "name": "stderr",
     "output_type": "stream",
     "text": [
      "/Library/Frameworks/Python.framework/Versions/3.12/lib/python3.12/site-packages/sklearn/linear_model/_sag.py:350: ConvergenceWarning: The max_iter was reached which means the coef_ did not converge\n",
      "  warnings.warn(\n",
      "/Library/Frameworks/Python.framework/Versions/3.12/lib/python3.12/site-packages/sklearn/linear_model/_sag.py:350: ConvergenceWarning: The max_iter was reached which means the coef_ did not converge\n",
      "  warnings.warn(\n",
      "/Library/Frameworks/Python.framework/Versions/3.12/lib/python3.12/site-packages/sklearn/linear_model/_sag.py:350: ConvergenceWarning: The max_iter was reached which means the coef_ did not converge\n",
      "  warnings.warn(\n"
     ]
    },
    {
     "name": "stdout",
     "output_type": "stream",
     "text": [
      "[CV] END .....................C=1, max_iter=100, solver=saga; total time=   0.4s\n",
      "[CV] END .....................C=1, max_iter=100, solver=saga; total time=   0.4s\n",
      "[CV] END ..................C=0.01, max_iter=500, solver=saga; total time=   1.0s\n",
      "[CV] END .....................C=1, max_iter=100, solver=saga; total time=   0.5s\n",
      "[CV] END ................C=1, max_iter=200, solver=liblinear; total time=   0.1s\n",
      "[CV] END ................C=1, max_iter=200, solver=liblinear; total time=   0.1s\n",
      "[CV] END ................C=1, max_iter=200, solver=liblinear; total time=   0.1s\n",
      "[CV] END ................C=1, max_iter=200, solver=liblinear; total time=   0.1s\n",
      "[CV] END ..................C=0.01, max_iter=500, solver=saga; total time=   0.9s\n",
      "[CV] END ................C=1, max_iter=200, solver=liblinear; total time=   0.0s\n"
     ]
    },
    {
     "name": "stderr",
     "output_type": "stream",
     "text": [
      "/Library/Frameworks/Python.framework/Versions/3.12/lib/python3.12/site-packages/sklearn/linear_model/_sag.py:350: ConvergenceWarning: The max_iter was reached which means the coef_ did not converge\n",
      "  warnings.warn(\n",
      "/Library/Frameworks/Python.framework/Versions/3.12/lib/python3.12/site-packages/sklearn/linear_model/_sag.py:350: ConvergenceWarning: The max_iter was reached which means the coef_ did not converge\n",
      "  warnings.warn(\n",
      "/Library/Frameworks/Python.framework/Versions/3.12/lib/python3.12/site-packages/sklearn/linear_model/_sag.py:350: ConvergenceWarning: The max_iter was reached which means the coef_ did not converge\n",
      "  warnings.warn(\n",
      "/Library/Frameworks/Python.framework/Versions/3.12/lib/python3.12/site-packages/sklearn/linear_model/_sag.py:350: ConvergenceWarning: The max_iter was reached which means the coef_ did not converge\n",
      "  warnings.warn(\n"
     ]
    },
    {
     "name": "stdout",
     "output_type": "stream",
     "text": [
      "[CV] END .....................C=1, max_iter=100, solver=saga; total time=   0.5s\n",
      "[CV] END ................C=1, max_iter=500, solver=liblinear; total time=   0.0s\n",
      "[CV] END ...................C=0.1, max_iter=200, solver=saga; total time=   0.8s\n",
      "[CV] END .....................C=1, max_iter=100, solver=saga; total time=   0.4s\n",
      "[CV] END ................C=1, max_iter=500, solver=liblinear; total time=   0.1s\n",
      "[CV] END ................C=1, max_iter=500, solver=liblinear; total time=   0.0s\n",
      "[CV] END ................C=1, max_iter=500, solver=liblinear; total time=   0.0s\n",
      "[CV] END ................C=1, max_iter=500, solver=liblinear; total time=   0.0s\n",
      "[CV] END ...................C=0.1, max_iter=200, solver=saga; total time=   0.9s\n",
      "[CV] END ...............C=10, max_iter=100, solver=liblinear; total time=   0.0s\n",
      "[CV] END ...............C=10, max_iter=100, solver=liblinear; total time=   0.1s\n",
      "[CV] END ...............C=10, max_iter=100, solver=liblinear; total time=   0.1s\n",
      "[CV] END ...............C=10, max_iter=100, solver=liblinear; total time=   0.0s\n",
      "[CV] END ...............C=10, max_iter=100, solver=liblinear; total time=   0.1s\n"
     ]
    },
    {
     "name": "stderr",
     "output_type": "stream",
     "text": [
      "/Library/Frameworks/Python.framework/Versions/3.12/lib/python3.12/site-packages/sklearn/linear_model/_sag.py:350: ConvergenceWarning: The max_iter was reached which means the coef_ did not converge\n",
      "  warnings.warn(\n",
      "/Library/Frameworks/Python.framework/Versions/3.12/lib/python3.12/site-packages/sklearn/linear_model/_sag.py:350: ConvergenceWarning: The max_iter was reached which means the coef_ did not converge\n",
      "  warnings.warn(\n",
      "/Library/Frameworks/Python.framework/Versions/3.12/lib/python3.12/site-packages/sklearn/linear_model/_sag.py:350: ConvergenceWarning: The max_iter was reached which means the coef_ did not converge\n",
      "  warnings.warn(\n",
      "/Library/Frameworks/Python.framework/Versions/3.12/lib/python3.12/site-packages/sklearn/linear_model/_sag.py:350: ConvergenceWarning: The max_iter was reached which means the coef_ did not converge\n",
      "  warnings.warn(\n",
      "/Library/Frameworks/Python.framework/Versions/3.12/lib/python3.12/site-packages/sklearn/linear_model/_sag.py:350: ConvergenceWarning: The max_iter was reached which means the coef_ did not converge\n",
      "  warnings.warn(\n"
     ]
    },
    {
     "name": "stdout",
     "output_type": "stream",
     "text": [
      "[CV] END ...................C=0.1, max_iter=500, solver=saga; total time=   1.9s\n",
      "[CV] END .....................C=1, max_iter=200, solver=saga; total time=   0.7s\n",
      "[CV] END .....................C=1, max_iter=200, solver=saga; total time=   0.8s\n",
      "[CV] END .....................C=1, max_iter=200, solver=saga; total time=   0.8s\n",
      "[CV] END ...................C=0.1, max_iter=500, solver=saga; total time=   2.0s\n"
     ]
    },
    {
     "name": "stderr",
     "output_type": "stream",
     "text": [
      "/Library/Frameworks/Python.framework/Versions/3.12/lib/python3.12/site-packages/sklearn/linear_model/_sag.py:350: ConvergenceWarning: The max_iter was reached which means the coef_ did not converge\n",
      "  warnings.warn(\n",
      "/Library/Frameworks/Python.framework/Versions/3.12/lib/python3.12/site-packages/sklearn/linear_model/_sag.py:350: ConvergenceWarning: The max_iter was reached which means the coef_ did not converge\n",
      "  warnings.warn(\n",
      "/Library/Frameworks/Python.framework/Versions/3.12/lib/python3.12/site-packages/sklearn/linear_model/_sag.py:350: ConvergenceWarning: The max_iter was reached which means the coef_ did not converge\n",
      "  warnings.warn(\n",
      "/Library/Frameworks/Python.framework/Versions/3.12/lib/python3.12/site-packages/sklearn/linear_model/_sag.py:350: ConvergenceWarning: The max_iter was reached which means the coef_ did not converge\n",
      "  warnings.warn(\n"
     ]
    },
    {
     "name": "stdout",
     "output_type": "stream",
     "text": [
      "[CV] END ....................C=10, max_iter=100, solver=saga; total time=   0.4s\n",
      "[CV] END ...................C=0.1, max_iter=500, solver=saga; total time=   2.0s\n",
      "[CV] END ...............C=10, max_iter=200, solver=liblinear; total time=   0.1s\n",
      "[CV] END ...............C=10, max_iter=200, solver=liblinear; total time=   0.1s\n",
      "[CV] END ...............C=10, max_iter=200, solver=liblinear; total time=   0.0s\n",
      "[CV] END ...............C=10, max_iter=200, solver=liblinear; total time=   0.0s\n",
      "[CV] END ....................C=10, max_iter=100, solver=saga; total time=   0.4s\n",
      "[CV] END ....................C=10, max_iter=100, solver=saga; total time=   0.4s\n",
      "[CV] END ...............C=10, max_iter=200, solver=liblinear; total time=   0.0s\n"
     ]
    },
    {
     "name": "stderr",
     "output_type": "stream",
     "text": [
      "/Library/Frameworks/Python.framework/Versions/3.12/lib/python3.12/site-packages/sklearn/linear_model/_sag.py:350: ConvergenceWarning: The max_iter was reached which means the coef_ did not converge\n",
      "  warnings.warn(\n",
      "/Library/Frameworks/Python.framework/Versions/3.12/lib/python3.12/site-packages/sklearn/linear_model/_sag.py:350: ConvergenceWarning: The max_iter was reached which means the coef_ did not converge\n",
      "  warnings.warn(\n",
      "/Library/Frameworks/Python.framework/Versions/3.12/lib/python3.12/site-packages/sklearn/linear_model/_sag.py:350: ConvergenceWarning: The max_iter was reached which means the coef_ did not converge\n",
      "  warnings.warn(\n",
      "/Library/Frameworks/Python.framework/Versions/3.12/lib/python3.12/site-packages/sklearn/linear_model/_sag.py:350: ConvergenceWarning: The max_iter was reached which means the coef_ did not converge\n",
      "  warnings.warn(\n"
     ]
    },
    {
     "name": "stdout",
     "output_type": "stream",
     "text": [
      "[CV] END .....................C=1, max_iter=200, solver=saga; total time=   0.7s\n",
      "[CV] END ....................C=10, max_iter=100, solver=saga; total time=   0.4s\n",
      "[CV] END ....................C=10, max_iter=100, solver=saga; total time=   0.4s\n",
      "[CV] END .....................C=1, max_iter=200, solver=saga; total time=   0.9s\n",
      "[CV] END ...............C=10, max_iter=500, solver=liblinear; total time=   0.1s\n",
      "[CV] END ...............C=10, max_iter=500, solver=liblinear; total time=   0.0s\n",
      "[CV] END ...............C=10, max_iter=500, solver=liblinear; total time=   0.1s\n",
      "[CV] END ...............C=10, max_iter=500, solver=liblinear; total time=   0.1s\n",
      "[CV] END ...............C=10, max_iter=500, solver=liblinear; total time=   0.1s\n"
     ]
    },
    {
     "name": "stderr",
     "output_type": "stream",
     "text": [
      "/Library/Frameworks/Python.framework/Versions/3.12/lib/python3.12/site-packages/sklearn/linear_model/_sag.py:350: ConvergenceWarning: The max_iter was reached which means the coef_ did not converge\n",
      "  warnings.warn(\n",
      "/Library/Frameworks/Python.framework/Versions/3.12/lib/python3.12/site-packages/sklearn/linear_model/_sag.py:350: ConvergenceWarning: The max_iter was reached which means the coef_ did not converge\n",
      "  warnings.warn(\n",
      "/Library/Frameworks/Python.framework/Versions/3.12/lib/python3.12/site-packages/sklearn/linear_model/_sag.py:350: ConvergenceWarning: The max_iter was reached which means the coef_ did not converge\n",
      "  warnings.warn(\n"
     ]
    },
    {
     "name": "stdout",
     "output_type": "stream",
     "text": [
      "[CV] END ....................C=10, max_iter=200, solver=saga; total time=   0.7s\n",
      "[CV] END .....................C=1, max_iter=500, solver=saga; total time=   1.8s\n",
      "[CV] END .....................C=1, max_iter=500, solver=saga; total time=   1.8s\n"
     ]
    },
    {
     "name": "stderr",
     "output_type": "stream",
     "text": [
      "/Library/Frameworks/Python.framework/Versions/3.12/lib/python3.12/site-packages/sklearn/linear_model/_sag.py:350: ConvergenceWarning: The max_iter was reached which means the coef_ did not converge\n",
      "  warnings.warn(\n",
      "/Library/Frameworks/Python.framework/Versions/3.12/lib/python3.12/site-packages/sklearn/linear_model/_sag.py:350: ConvergenceWarning: The max_iter was reached which means the coef_ did not converge\n",
      "  warnings.warn(\n",
      "/Library/Frameworks/Python.framework/Versions/3.12/lib/python3.12/site-packages/sklearn/linear_model/_sag.py:350: ConvergenceWarning: The max_iter was reached which means the coef_ did not converge\n",
      "  warnings.warn(\n"
     ]
    },
    {
     "name": "stdout",
     "output_type": "stream",
     "text": [
      "[CV] END .....................C=1, max_iter=500, solver=saga; total time=   1.9s\n",
      "[CV] END ..............C=100, max_iter=100, solver=liblinear; total time=   0.1s\n",
      "[CV] END ....................C=10, max_iter=200, solver=saga; total time=   0.7s\n",
      "[CV] END ..............C=100, max_iter=100, solver=liblinear; total time=   0.0s\n",
      "[CV] END ....................C=10, max_iter=200, solver=saga; total time=   0.7s\n",
      "[CV] END ..............C=100, max_iter=100, solver=liblinear; total time=   0.1s\n",
      "[CV] END ..............C=100, max_iter=100, solver=liblinear; total time=   0.0s\n",
      "[CV] END ..............C=100, max_iter=100, solver=liblinear; total time=   0.1s\n",
      "[CV] END ...................C=0.1, max_iter=500, solver=saga; total time=   1.9s\n"
     ]
    },
    {
     "name": "stderr",
     "output_type": "stream",
     "text": [
      "/Library/Frameworks/Python.framework/Versions/3.12/lib/python3.12/site-packages/sklearn/linear_model/_sag.py:350: ConvergenceWarning: The max_iter was reached which means the coef_ did not converge\n",
      "  warnings.warn(\n",
      "/Library/Frameworks/Python.framework/Versions/3.12/lib/python3.12/site-packages/sklearn/linear_model/_sag.py:350: ConvergenceWarning: The max_iter was reached which means the coef_ did not converge\n",
      "  warnings.warn(\n"
     ]
    },
    {
     "name": "stdout",
     "output_type": "stream",
     "text": [
      "[CV] END ...................C=100, max_iter=100, solver=saga; total time=   0.4s\n",
      "[CV] END ...................C=0.1, max_iter=500, solver=saga; total time=   1.8s\n",
      "[CV] END ..............C=100, max_iter=200, solver=liblinear; total time=   0.1s\n",
      "[CV] END ....................C=10, max_iter=200, solver=saga; total time=   0.8s\n"
     ]
    },
    {
     "name": "stderr",
     "output_type": "stream",
     "text": [
      "/Library/Frameworks/Python.framework/Versions/3.12/lib/python3.12/site-packages/sklearn/linear_model/_sag.py:350: ConvergenceWarning: The max_iter was reached which means the coef_ did not converge\n",
      "  warnings.warn(\n",
      "/Library/Frameworks/Python.framework/Versions/3.12/lib/python3.12/site-packages/sklearn/linear_model/_sag.py:350: ConvergenceWarning: The max_iter was reached which means the coef_ did not converge\n",
      "  warnings.warn(\n",
      "/Library/Frameworks/Python.framework/Versions/3.12/lib/python3.12/site-packages/sklearn/linear_model/_sag.py:350: ConvergenceWarning: The max_iter was reached which means the coef_ did not converge\n",
      "  warnings.warn(\n",
      "/Library/Frameworks/Python.framework/Versions/3.12/lib/python3.12/site-packages/sklearn/linear_model/_sag.py:350: ConvergenceWarning: The max_iter was reached which means the coef_ did not converge\n",
      "  warnings.warn(\n"
     ]
    },
    {
     "name": "stdout",
     "output_type": "stream",
     "text": [
      "[CV] END ...................C=100, max_iter=100, solver=saga; total time=   0.4s\n",
      "[CV] END ..............C=100, max_iter=200, solver=liblinear; total time=   0.1s\n",
      "[CV] END ..............C=100, max_iter=200, solver=liblinear; total time=   0.1s\n",
      "[CV] END ..............C=100, max_iter=200, solver=liblinear; total time=   0.1s\n",
      "[CV] END ....................C=10, max_iter=200, solver=saga; total time=   0.8s\n",
      "[CV] END ..............C=100, max_iter=200, solver=liblinear; total time=   0.1s\n",
      "[CV] END ...................C=100, max_iter=100, solver=saga; total time=   0.4s\n"
     ]
    },
    {
     "name": "stderr",
     "output_type": "stream",
     "text": [
      "/Library/Frameworks/Python.framework/Versions/3.12/lib/python3.12/site-packages/sklearn/linear_model/_sag.py:350: ConvergenceWarning: The max_iter was reached which means the coef_ did not converge\n",
      "  warnings.warn(\n",
      "/Library/Frameworks/Python.framework/Versions/3.12/lib/python3.12/site-packages/sklearn/linear_model/_sag.py:350: ConvergenceWarning: The max_iter was reached which means the coef_ did not converge\n",
      "  warnings.warn(\n",
      "/Library/Frameworks/Python.framework/Versions/3.12/lib/python3.12/site-packages/sklearn/linear_model/_sag.py:350: ConvergenceWarning: The max_iter was reached which means the coef_ did not converge\n",
      "  warnings.warn(\n",
      "/Library/Frameworks/Python.framework/Versions/3.12/lib/python3.12/site-packages/sklearn/linear_model/_sag.py:350: ConvergenceWarning: The max_iter was reached which means the coef_ did not converge\n",
      "  warnings.warn(\n",
      "/Library/Frameworks/Python.framework/Versions/3.12/lib/python3.12/site-packages/sklearn/linear_model/_sag.py:350: ConvergenceWarning: The max_iter was reached which means the coef_ did not converge\n",
      "  warnings.warn(\n"
     ]
    },
    {
     "name": "stdout",
     "output_type": "stream",
     "text": [
      "[CV] END ...................C=100, max_iter=100, solver=saga; total time=   0.5s\n",
      "[CV] END ..............C=100, max_iter=500, solver=liblinear; total time=   0.1s\n",
      "[CV] END ....................C=10, max_iter=500, solver=saga; total time=   1.8s\n",
      "[CV] END ...................C=100, max_iter=100, solver=saga; total time=   0.4s\n",
      "[CV] END ....................C=10, max_iter=500, solver=saga; total time=   1.8s\n",
      "[CV] END ..............C=100, max_iter=500, solver=liblinear; total time=   0.0s\n",
      "[CV] END ..............C=100, max_iter=500, solver=liblinear; total time=   0.1s\n",
      "[CV] END ..............C=100, max_iter=500, solver=liblinear; total time=   0.0s\n",
      "[CV] END ..............C=100, max_iter=500, solver=liblinear; total time=   0.1s\n"
     ]
    },
    {
     "name": "stderr",
     "output_type": "stream",
     "text": [
      "/Library/Frameworks/Python.framework/Versions/3.12/lib/python3.12/site-packages/sklearn/linear_model/_sag.py:350: ConvergenceWarning: The max_iter was reached which means the coef_ did not converge\n",
      "  warnings.warn(\n",
      "/Library/Frameworks/Python.framework/Versions/3.12/lib/python3.12/site-packages/sklearn/linear_model/_sag.py:350: ConvergenceWarning: The max_iter was reached which means the coef_ did not converge\n",
      "  warnings.warn(\n",
      "/Library/Frameworks/Python.framework/Versions/3.12/lib/python3.12/site-packages/sklearn/linear_model/_sag.py:350: ConvergenceWarning: The max_iter was reached which means the coef_ did not converge\n",
      "  warnings.warn(\n",
      "/Library/Frameworks/Python.framework/Versions/3.12/lib/python3.12/site-packages/sklearn/linear_model/_sag.py:350: ConvergenceWarning: The max_iter was reached which means the coef_ did not converge\n",
      "  warnings.warn(\n"
     ]
    },
    {
     "name": "stdout",
     "output_type": "stream",
     "text": [
      "[CV] END ...................C=100, max_iter=200, solver=saga; total time=   0.7s\n",
      "[CV] END ...................C=100, max_iter=200, solver=saga; total time=   0.7s\n",
      "[CV] END ...................C=100, max_iter=200, solver=saga; total time=   0.8s\n",
      "[CV] END ....................C=10, max_iter=500, solver=saga; total time=   1.9s\n"
     ]
    },
    {
     "name": "stderr",
     "output_type": "stream",
     "text": [
      "/Library/Frameworks/Python.framework/Versions/3.12/lib/python3.12/site-packages/sklearn/linear_model/_sag.py:350: ConvergenceWarning: The max_iter was reached which means the coef_ did not converge\n",
      "  warnings.warn(\n",
      "/Library/Frameworks/Python.framework/Versions/3.12/lib/python3.12/site-packages/sklearn/linear_model/_sag.py:350: ConvergenceWarning: The max_iter was reached which means the coef_ did not converge\n",
      "  warnings.warn(\n"
     ]
    },
    {
     "name": "stdout",
     "output_type": "stream",
     "text": [
      "[CV] END .....................C=1, max_iter=500, solver=saga; total time=   1.9s\n",
      "[CV] END .....................C=1, max_iter=500, solver=saga; total time=   1.9s\n"
     ]
    },
    {
     "name": "stderr",
     "output_type": "stream",
     "text": [
      "/Library/Frameworks/Python.framework/Versions/3.12/lib/python3.12/site-packages/sklearn/linear_model/_sag.py:350: ConvergenceWarning: The max_iter was reached which means the coef_ did not converge\n",
      "  warnings.warn(\n",
      "/Library/Frameworks/Python.framework/Versions/3.12/lib/python3.12/site-packages/sklearn/linear_model/_sag.py:350: ConvergenceWarning: The max_iter was reached which means the coef_ did not converge\n",
      "  warnings.warn(\n"
     ]
    },
    {
     "name": "stdout",
     "output_type": "stream",
     "text": [
      "[CV] END ...................C=100, max_iter=200, solver=saga; total time=   0.7s\n",
      "[CV] END ...................C=100, max_iter=200, solver=saga; total time=   0.7s\n"
     ]
    },
    {
     "name": "stderr",
     "output_type": "stream",
     "text": [
      "/Library/Frameworks/Python.framework/Versions/3.12/lib/python3.12/site-packages/sklearn/linear_model/_sag.py:350: ConvergenceWarning: The max_iter was reached which means the coef_ did not converge\n",
      "  warnings.warn(\n",
      "/Library/Frameworks/Python.framework/Versions/3.12/lib/python3.12/site-packages/sklearn/linear_model/_sag.py:350: ConvergenceWarning: The max_iter was reached which means the coef_ did not converge\n",
      "  warnings.warn(\n",
      "/Library/Frameworks/Python.framework/Versions/3.12/lib/python3.12/site-packages/sklearn/linear_model/_sag.py:350: ConvergenceWarning: The max_iter was reached which means the coef_ did not converge\n",
      "  warnings.warn(\n",
      "/Library/Frameworks/Python.framework/Versions/3.12/lib/python3.12/site-packages/sklearn/linear_model/_sag.py:350: ConvergenceWarning: The max_iter was reached which means the coef_ did not converge\n",
      "  warnings.warn(\n",
      "/Library/Frameworks/Python.framework/Versions/3.12/lib/python3.12/site-packages/sklearn/linear_model/_sag.py:350: ConvergenceWarning: The max_iter was reached which means the coef_ did not converge\n",
      "  warnings.warn(\n",
      "/Library/Frameworks/Python.framework/Versions/3.12/lib/python3.12/site-packages/sklearn/linear_model/_sag.py:350: ConvergenceWarning: The max_iter was reached which means the coef_ did not converge\n",
      "  warnings.warn(\n"
     ]
    },
    {
     "name": "stdout",
     "output_type": "stream",
     "text": [
      "[CV] END ....................C=10, max_iter=500, solver=saga; total time=   1.6s\n",
      "[CV] END ...................C=100, max_iter=500, solver=saga; total time=   1.6s\n",
      "[CV] END ...................C=100, max_iter=500, solver=saga; total time=   1.7s\n",
      "[CV] END ...................C=100, max_iter=500, solver=saga; total time=   1.7s\n",
      "[CV] END ...................C=100, max_iter=500, solver=saga; total time=   1.6s\n",
      "[CV] END ....................C=10, max_iter=500, solver=saga; total time=   1.5s\n"
     ]
    },
    {
     "name": "stderr",
     "output_type": "stream",
     "text": [
      "/Library/Frameworks/Python.framework/Versions/3.12/lib/python3.12/site-packages/sklearn/linear_model/_sag.py:350: ConvergenceWarning: The max_iter was reached which means the coef_ did not converge\n",
      "  warnings.warn(\n"
     ]
    },
    {
     "name": "stdout",
     "output_type": "stream",
     "text": [
      "[CV] END ...................C=100, max_iter=500, solver=saga; total time=   1.5s\n",
      "LogisticRegression(C=1, random_state=0, solver='liblinear')\n"
     ]
    },
    {
     "data": {
      "text/html": [
       "<style>#sk-container-id-11 {color: black;}#sk-container-id-11 pre{padding: 0;}#sk-container-id-11 div.sk-toggleable {background-color: white;}#sk-container-id-11 label.sk-toggleable__label {cursor: pointer;display: block;width: 100%;margin-bottom: 0;padding: 0.3em;box-sizing: border-box;text-align: center;}#sk-container-id-11 label.sk-toggleable__label-arrow:before {content: \"▸\";float: left;margin-right: 0.25em;color: #696969;}#sk-container-id-11 label.sk-toggleable__label-arrow:hover:before {color: black;}#sk-container-id-11 div.sk-estimator:hover label.sk-toggleable__label-arrow:before {color: black;}#sk-container-id-11 div.sk-toggleable__content {max-height: 0;max-width: 0;overflow: hidden;text-align: left;background-color: #f0f8ff;}#sk-container-id-11 div.sk-toggleable__content pre {margin: 0.2em;color: black;border-radius: 0.25em;background-color: #f0f8ff;}#sk-container-id-11 input.sk-toggleable__control:checked~div.sk-toggleable__content {max-height: 200px;max-width: 100%;overflow: auto;}#sk-container-id-11 input.sk-toggleable__control:checked~label.sk-toggleable__label-arrow:before {content: \"▾\";}#sk-container-id-11 div.sk-estimator input.sk-toggleable__control:checked~label.sk-toggleable__label {background-color: #d4ebff;}#sk-container-id-11 div.sk-label input.sk-toggleable__control:checked~label.sk-toggleable__label {background-color: #d4ebff;}#sk-container-id-11 input.sk-hidden--visually {border: 0;clip: rect(1px 1px 1px 1px);clip: rect(1px, 1px, 1px, 1px);height: 1px;margin: -1px;overflow: hidden;padding: 0;position: absolute;width: 1px;}#sk-container-id-11 div.sk-estimator {font-family: monospace;background-color: #f0f8ff;border: 1px dotted black;border-radius: 0.25em;box-sizing: border-box;margin-bottom: 0.5em;}#sk-container-id-11 div.sk-estimator:hover {background-color: #d4ebff;}#sk-container-id-11 div.sk-parallel-item::after {content: \"\";width: 100%;border-bottom: 1px solid gray;flex-grow: 1;}#sk-container-id-11 div.sk-label:hover label.sk-toggleable__label {background-color: #d4ebff;}#sk-container-id-11 div.sk-serial::before {content: \"\";position: absolute;border-left: 1px solid gray;box-sizing: border-box;top: 0;bottom: 0;left: 50%;z-index: 0;}#sk-container-id-11 div.sk-serial {display: flex;flex-direction: column;align-items: center;background-color: white;padding-right: 0.2em;padding-left: 0.2em;position: relative;}#sk-container-id-11 div.sk-item {position: relative;z-index: 1;}#sk-container-id-11 div.sk-parallel {display: flex;align-items: stretch;justify-content: center;background-color: white;position: relative;}#sk-container-id-11 div.sk-item::before, #sk-container-id-11 div.sk-parallel-item::before {content: \"\";position: absolute;border-left: 1px solid gray;box-sizing: border-box;top: 0;bottom: 0;left: 50%;z-index: -1;}#sk-container-id-11 div.sk-parallel-item {display: flex;flex-direction: column;z-index: 1;position: relative;background-color: white;}#sk-container-id-11 div.sk-parallel-item:first-child::after {align-self: flex-end;width: 50%;}#sk-container-id-11 div.sk-parallel-item:last-child::after {align-self: flex-start;width: 50%;}#sk-container-id-11 div.sk-parallel-item:only-child::after {width: 0;}#sk-container-id-11 div.sk-dashed-wrapped {border: 1px dashed gray;margin: 0 0.4em 0.5em 0.4em;box-sizing: border-box;padding-bottom: 0.4em;background-color: white;}#sk-container-id-11 div.sk-label label {font-family: monospace;font-weight: bold;display: inline-block;line-height: 1.2em;}#sk-container-id-11 div.sk-label-container {text-align: center;}#sk-container-id-11 div.sk-container {/* jupyter's `normalize.less` sets `[hidden] { display: none; }` but bootstrap.min.css set `[hidden] { display: none !important; }` so we also need the `!important` here to be able to override the default hidden behavior on the sphinx rendered scikit-learn.org. See: https://github.com/scikit-learn/scikit-learn/issues/21755 */display: inline-block !important;position: relative;}#sk-container-id-11 div.sk-text-repr-fallback {display: none;}</style><div id=\"sk-container-id-11\" class=\"sk-top-container\"><div class=\"sk-text-repr-fallback\"><pre>LogisticRegression(C=1, random_state=42, solver=&#x27;liblinear&#x27;)</pre><b>In a Jupyter environment, please rerun this cell to show the HTML representation or trust the notebook. <br />On GitHub, the HTML representation is unable to render, please try loading this page with nbviewer.org.</b></div><div class=\"sk-container\" hidden><div class=\"sk-item\"><div class=\"sk-estimator sk-toggleable\"><input class=\"sk-toggleable__control sk-hidden--visually\" id=\"sk-estimator-id-23\" type=\"checkbox\" checked><label for=\"sk-estimator-id-23\" class=\"sk-toggleable__label sk-toggleable__label-arrow\">LogisticRegression</label><div class=\"sk-toggleable__content\"><pre>LogisticRegression(C=1, random_state=42, solver=&#x27;liblinear&#x27;)</pre></div></div></div></div></div>"
      ],
      "text/plain": [
       "LogisticRegression(C=1, random_state=42, solver='liblinear')"
      ]
     },
     "execution_count": 150,
     "metadata": {},
     "output_type": "execute_result"
    }
   ],
   "source": [
    "from sklearn.linear_model import LogisticRegression\n",
    "\n",
    "param_grid = {\n",
    "    'C': [0.01, 0.1, 1, 10, 100],\n",
    "    'solver': ['liblinear', 'saga'],\n",
    "    'max_iter': [100, 200, 500]\n",
    "}\n",
    "\n",
    "log_reg = LogisticRegression(random_state=0)\n",
    "grid_search = GridSearchCV(estimator=log_reg, param_grid=param_grid, cv=5, verbose=2, n_jobs=-1)\n",
    "grid_search.fit(X_train, y_train)\n",
    "\n",
    "# Get the best estimator\n",
    "best_log_reg = grid_search.best_estimator_\n",
    "\n",
    "print(best_log_reg)\n",
    "\n",
    "# Predict on the test set with the best estimator\n",
    "best_model = LogisticRegression(C=1, solver='liblinear', random_state=42)\n",
    "best_model.fit(X_train, y_train)"
   ]
  },
  {
   "cell_type": "code",
   "execution_count": 152,
   "metadata": {},
   "outputs": [
    {
     "name": "stdout",
     "output_type": "stream",
     "text": [
      "[1, 1, 1, 1, 1, 1, 1, 1, 1, 0, 1, 1, 0, 1, 0, 1, 0, 1, 0, 1, 1, 1, 1, 1, 1, 0, 1, 1, 1, 0, 1, 1, 1, 1, 1, 1, 1, 0, 1, 1, 1, 1, 1, 0, 0, 1, 1, 1, 1, 1, 0, 1, 1, 1, 1, 1, 0, 1, 1, 1, 1, 0, 0, 1, 1, 0, 0, 1, 1, 1, 1, 1, 1, 1, 1, 1, 1, 1, 1, 1, 1, 1, 1, 1, 1, 1, 1, 1, 1, 1, 1, 1, 1, 1, 1, 0, 0, 1, 1, 0, 1, 0, 1, 1, 1, 1, 1, 1, 1, 1, 1, 1, 1, 0, 1, 1, 1, 1, 1, 1, 1, 1, 1, 1, 1, 0, 1, 1, 1, 1, 1, 1, 1, 1, 1, 1, 1, 1, 1, 1, 1, 1, 0, 1, 0, 1, 1, 1, 1, 1, 1, 1, 1, 1, 1, 1, 1, 1, 0, 1, 1]\n",
      "[1, 0, 1, 1, 1, 0, 1, 1, 1, 0, 1, 0, 0, 0, 1, 0, 0, 1, 0, 1, 0, 1, 1, 1, 1, 1, 1, 1, 1, 0, 0, 1, 1, 1, 1, 1, 1, 0, 0, 1, 1, 0, 1, 0, 0, 1, 0, 0, 1, 0, 0, 1, 1, 1, 1, 1, 0, 1, 0, 1, 1, 0, 1, 1, 1, 0, 0, 1, 1, 1, 0, 1, 1, 0, 1, 1, 0, 1, 0, 1, 1, 1, 1, 1, 0, 1, 0, 1, 1, 0, 0, 1, 1, 0, 1, 0, 1, 0, 0, 1, 0, 0, 1, 1, 1, 1, 1, 1, 1, 1, 1, 1, 1, 1, 1, 1, 1, 1, 1, 1, 1, 1, 1, 1, 1, 0, 1, 0, 1, 1, 1, 1, 1, 1, 0, 1, 0, 1, 1, 0, 1, 1, 0, 1, 0, 1, 1, 1, 1, 1, 1, 1, 1, 1, 0, 0, 1, 1, 0, 1, 1]\n",
      "124\n",
      "161\n"
     ]
    }
   ],
   "source": [
    "y_predict = best_model.predict(X_test)\n",
    "y_pred = list(y_predict)\n",
    "print(y_pred)\n",
    "print(y_test)\n",
    "y_test = list(y_test)\n",
    "count = 0\n",
    "for i in range(len(y_test)):\n",
    "    if(y_test[i]==y_pred[i]):\n",
    "        count+=1\n",
    "\n",
    "accuracy_score = count/len(y_test)\n",
    "\n",
    "print(count)\n",
    "print(len(y_pred))"
   ]
  },
  {
   "cell_type": "code",
   "execution_count": 153,
   "metadata": {},
   "outputs": [
    {
     "name": "stdout",
     "output_type": "stream",
     "text": [
      "0.7701863354037267\n"
     ]
    }
   ],
   "source": [
    "print(accuracy_score)"
   ]
  },
  {
   "cell_type": "code",
   "execution_count": null,
   "metadata": {},
   "outputs": [],
   "source": []
  }
 ],
 "metadata": {
  "kernelspec": {
   "display_name": "Python 3",
   "language": "python",
   "name": "python3"
  },
  "language_info": {
   "codemirror_mode": {
    "name": "ipython",
    "version": 3
   },
   "file_extension": ".py",
   "mimetype": "text/x-python",
   "name": "python",
   "nbconvert_exporter": "python",
   "pygments_lexer": "ipython3",
   "version": "3.12.2"
  }
 },
 "nbformat": 4,
 "nbformat_minor": 2
}
