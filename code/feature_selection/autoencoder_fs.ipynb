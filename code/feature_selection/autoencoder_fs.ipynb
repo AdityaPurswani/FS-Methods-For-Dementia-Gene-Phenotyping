{
 "cells": [
  {
   "cell_type": "code",
   "execution_count": 104,
   "metadata": {},
   "outputs": [],
   "source": [
    "import polars as pl\n",
    "import numpy as np\n",
    "import torch\n",
    "from torch import nn, optim\n",
    "from torch.utils.data import DataLoader, TensorDataset\n",
    "from sklearn.model_selection import train_test_split\n",
    "from sklearn.preprocessing import StandardScaler, MinMaxScaler\n",
    "import pandas as pd\n",
    "from scipy.stats import ttest_ind\n"
   ]
  },
  {
   "cell_type": "code",
   "execution_count": 105,
   "metadata": {},
   "outputs": [],
   "source": [
    "df = pl.read_csv('../../Dementia/JanBDRcount.csv')\n",
    "df = df.to_pandas()"
   ]
  },
  {
   "cell_type": "code",
   "execution_count": 106,
   "metadata": {},
   "outputs": [],
   "source": [
    "for col in df.columns:\n",
    "    df[col].fillna(3, inplace=True)\n",
    "\n",
    "X = df.drop(columns=['FID', 'IID', 'PAT', 'MAT', 'SEX', 'PHENOTYPE'])\n",
    "y = df['PHENOTYPE']"
   ]
  },
  {
   "cell_type": "code",
   "execution_count": 107,
   "metadata": {},
   "outputs": [],
   "source": [
    "assert X.isnull().sum().sum() == 0, \"There are still missing values in X\"\n",
    "assert y.isnull().sum().sum() == 0, \"There are still missing values in y\""
   ]
  },
  {
   "cell_type": "code",
   "execution_count": 108,
   "metadata": {},
   "outputs": [
    {
     "name": "stdout",
     "output_type": "stream",
     "text": [
      "0\n"
     ]
    }
   ],
   "source": [
    "print(X.isnull().sum().sum())"
   ]
  },
  {
   "cell_type": "code",
   "execution_count": 109,
   "metadata": {},
   "outputs": [],
   "source": [
    "X_train, X_test, y_train, y_test = train_test_split(X, y, test_size=0.3, random_state=42)"
   ]
  },
  {
   "cell_type": "code",
   "execution_count": 110,
   "metadata": {},
   "outputs": [],
   "source": [
    "class Autoencoder(nn.Module):\n",
    "    def __init__(self, input_dim, encoding_dim):\n",
    "        super(Autoencoder, self).__init__()\n",
    "        self.encoder = nn.Sequential(\n",
    "            nn.Linear(input_dim, 1024),\n",
    "            nn.ReLU(),\n",
    "            nn.Linear(1024, 512),\n",
    "            nn.ReLU(),\n",
    "            nn.Linear(512, encoding_dim),\n",
    "        )\n",
    "        self.decoder = nn.Sequential(\n",
    "            nn.Linear(encoding_dim, 512),\n",
    "            nn.ReLU(),\n",
    "            nn.Linear(512, 1024),\n",
    "            nn.ReLU(),\n",
    "            nn.Linear(1024, input_dim),\n",
    "            nn.Sigmoid()  # Assuming normalized input between 0 and 1\n",
    "        )\n",
    "\n",
    "    def forward(self, x):\n",
    "        encoded = self.encoder(x)\n",
    "        decoded = self.decoder(encoded)\n",
    "        return decoded\n",
    "    "
   ]
  },
  {
   "cell_type": "code",
   "execution_count": 111,
   "metadata": {},
   "outputs": [],
   "source": [
    "X_train = np.array(X_train)\n",
    "X_test = np.array(X_test)"
   ]
  },
  {
   "cell_type": "code",
   "execution_count": 112,
   "metadata": {},
   "outputs": [],
   "source": [
    "X_train_tensor = torch.tensor(X_train, dtype=torch.float32)\n",
    "train_dataset = TensorDataset(X_train_tensor)\n",
    "train_loader = DataLoader(train_dataset, batch_size=32, shuffle=True)"
   ]
  },
  {
   "cell_type": "code",
   "execution_count": 113,
   "metadata": {},
   "outputs": [
    {
     "name": "stdout",
     "output_type": "stream",
     "text": [
      "Epoch 1, Loss: 0.013830802076303926\n",
      "Epoch 2, Loss: 0.012580303180633218\n",
      "Epoch 3, Loss: 0.012559420142033146\n",
      "Epoch 4, Loss: 0.012652022109913763\n",
      "Epoch 5, Loss: 0.012548347500629784\n",
      "Epoch 6, Loss: 0.012547793241352563\n",
      "Epoch 7, Loss: 0.01254419866579787\n",
      "Epoch 8, Loss: 0.012542563533015928\n",
      "Epoch 9, Loss: 0.012550920727425542\n",
      "Epoch 10, Loss: 0.012540802239732512\n",
      "Epoch 11, Loss: 0.012539203221292981\n",
      "Epoch 12, Loss: 0.012539018335035595\n",
      "Epoch 13, Loss: 0.012539844570466724\n",
      "Epoch 14, Loss: 0.012538474063131829\n",
      "Epoch 15, Loss: 0.012537201112460834\n",
      "Epoch 16, Loss: 0.012533879152251952\n",
      "Epoch 17, Loss: 0.012533986696289308\n",
      "Epoch 18, Loss: 0.012534877170506496\n",
      "Epoch 19, Loss: 0.01263145722908245\n",
      "Epoch 20, Loss: 0.012535798565631898\n",
      "Epoch 21, Loss: 0.012534313882643672\n",
      "Epoch 22, Loss: 0.012533444262062257\n",
      "Epoch 23, Loss: 0.012534964659897955\n",
      "Epoch 24, Loss: 0.012531970605134325\n",
      "Epoch 25, Loss: 0.012632080600983975\n",
      "Epoch 26, Loss: 0.01253358056973516\n",
      "Epoch 27, Loss: 0.012535571093214102\n",
      "Epoch 28, Loss: 0.012532683623699976\n",
      "Epoch 29, Loss: 0.012630913037077671\n",
      "Epoch 30, Loss: 0.012536048729362181\n",
      "Epoch 31, Loss: 0.012637078841953432\n",
      "Epoch 32, Loss: 0.012531588608074445\n",
      "Epoch 33, Loss: 0.012533702096095353\n",
      "Epoch 34, Loss: 0.012535048553834971\n",
      "Epoch 35, Loss: 0.01253181975584567\n",
      "Epoch 36, Loss: 0.012533625073471274\n",
      "Epoch 37, Loss: 0.012532506967038316\n",
      "Epoch 38, Loss: 0.012632036097247862\n",
      "Epoch 39, Loss: 0.012533816111950709\n",
      "Epoch 40, Loss: 0.012539097035538415\n",
      "Epoch 41, Loss: 0.01253488172474879\n",
      "Epoch 42, Loss: 0.012536246958750502\n",
      "Epoch 43, Loss: 0.012539381555833382\n",
      "Epoch 44, Loss: 0.012536036984211\n",
      "Epoch 45, Loss: 0.012535127733731718\n",
      "Epoch 46, Loss: 0.012533864530737215\n",
      "Epoch 47, Loss: 0.012533927730836433\n",
      "Epoch 48, Loss: 0.012533138089141641\n",
      "Epoch 49, Loss: 0.012537272062761853\n",
      "Epoch 50, Loss: 0.012534698436471156\n"
     ]
    }
   ],
   "source": [
    "input_dim = X_train.shape[1]\n",
    "encoding_dim = 64  # you can adjust this\n",
    "\n",
    "autoencoder = Autoencoder(input_dim, encoding_dim)\n",
    "optimizer = optim.Adam(autoencoder.parameters(), lr=1e-3)\n",
    "criterion = nn.MSELoss()\n",
    "\n",
    "num_epochs = 50\n",
    "for epoch in range(num_epochs):\n",
    "    autoencoder.train()\n",
    "    train_loss = 0\n",
    "    for x_batch, in train_loader:\n",
    "        optimizer.zero_grad()\n",
    "        reconstructed = autoencoder(x_batch)\n",
    "        loss = criterion(reconstructed, x_batch)\n",
    "        loss.backward()\n",
    "        train_loss += loss.item()\n",
    "        optimizer.step()\n",
    "    print(f'Epoch {epoch + 1}, Loss: {train_loss / len(train_loader.dataset)}')"
   ]
  },
  {
   "cell_type": "code",
   "execution_count": 114,
   "metadata": {},
   "outputs": [],
   "source": [
    "autoencoder.eval()\n",
    "with torch.no_grad():\n",
    "    X_test_tensor = torch.tensor(X_test, dtype=torch.float32)\n",
    "    reconstructed_X_test = autoencoder(X_test_tensor)\n",
    "    reconstructed_X_test = reconstructed_X_test.numpy()"
   ]
  },
  {
   "cell_type": "code",
   "execution_count": 115,
   "metadata": {},
   "outputs": [
    {
     "name": "stdout",
     "output_type": "stream",
     "text": [
      "[[1. 1. 0. ... 1. 0. 0.]\n",
      " [0. 1. 1. ... 1. 1. 0.]\n",
      " [0. 0. 0. ... 1. 0. 0.]\n",
      " ...\n",
      " [1. 2. 0. ... 1. 1. 0.]\n",
      " [1. 1. 1. ... 1. 1. 0.]\n",
      " [0. 0. 1. ... 1. 1. 1.]]\n"
     ]
    }
   ],
   "source": [
    "print(X_train)"
   ]
  },
  {
   "cell_type": "code",
   "execution_count": 116,
   "metadata": {},
   "outputs": [
    {
     "name": "stdout",
     "output_type": "stream",
     "text": [
      "              Feature  Reconstruction_Error\n",
      "57217   rs112630218_0              4.000000\n",
      "216999   rs35019336_0              4.000000\n",
      "14051     rs6677369_0              4.000000\n",
      "247769  rs146509793_0              4.000000\n",
      "115404   rs79018329_0              4.000000\n",
      "...               ...                   ...\n",
      "281363  rs199570249_0              0.279503\n",
      "281365    rs4801331_0              0.279503\n",
      "63456     rs3009507_A              0.279503\n",
      "105119   rs17111894_A              0.279503\n",
      "279973       rs7412_T              0.204969\n",
      "\n",
      "[297678 rows x 2 columns]\n"
     ]
    }
   ],
   "source": [
    "#L1 Loss\n",
    "if len(X.columns) == reconstructed_X_test.shape[1]:\n",
    "    reconstruction_error = np.mean((X_test - reconstructed_X_test) ** 2, axis=0)\n",
    "    feature_importance = pd.DataFrame({'Feature': X.columns, 'Reconstruction_Error': reconstruction_error})\n",
    "    feature_importance = feature_importance.sort_values(by='Reconstruction_Error', ascending=False)  # Ascending order\n",
    "    print(feature_importance)\n",
    "else:\n",
    "    print(\"Mismatch in feature dimensions. Check your input data and autoencoder model.\")"
   ]
  },
  {
   "cell_type": "code",
   "execution_count": 102,
   "metadata": {},
   "outputs": [
    {
     "name": "stdout",
     "output_type": "stream",
     "text": [
      "              Feature  Reconstruction_Error\n",
      "82127     rs4834691_0          1.000000e+00\n",
      "251440    rs9923820_0          9.998850e-01\n",
      "218272   rs28606519_0          9.996258e-01\n",
      "110349  rs114389430_0          9.995755e-01\n",
      "294862  rs149277501_0          9.993037e-01\n",
      "...               ...                   ...\n",
      "222219   rs17074706_A          5.084034e-07\n",
      "27782   rs143173314_C          4.429802e-07\n",
      "264447    rs7216431_A          2.986577e-07\n",
      "194295   rs16932348_G          1.769945e-07\n",
      "186103   rs57973253_0          0.000000e+00\n",
      "\n",
      "[297678 rows x 2 columns]\n"
     ]
    }
   ],
   "source": [
    "# Scaled MSELoss\n",
    "if len(X.columns) == reconstructed_X_test.shape[1]:\n",
    "    reconstruction_error = np.mean((X_test - reconstructed_X_test) ** 2, axis=0)\n",
    "    scaler = MinMaxScaler()\n",
    "    scaled_error = scaler.fit_transform(reconstruction_error.reshape(-1, 1)).flatten()\n",
    "    feature_importance = pd.DataFrame({'Feature': X.columns, 'Reconstruction_Error': scaled_error})\n",
    "    feature_importance = feature_importance.sort_values(by='Reconstruction_Error', ascending=False)  # Ascending order\n",
    "    print(feature_importance)\n",
    "else:\n",
    "    print(\"Mismatch in feature dimensions. Check your input data and autoencoder model.\")"
   ]
  },
  {
   "cell_type": "code",
   "execution_count": 103,
   "metadata": {},
   "outputs": [
    {
     "name": "stdout",
     "output_type": "stream",
     "text": [
      "              Feature  Reconstruction_Error\n",
      "82127     rs4834691_0              4.012598\n",
      "251440    rs9923820_0              4.012150\n",
      "218272   rs28606519_0              4.011142\n",
      "110349  rs114389430_0              4.010947\n",
      "294862  rs149277501_0              4.009890\n",
      "...               ...                   ...\n",
      "222219   rs17074706_A              0.124226\n",
      "27782   rs143173314_C              0.124226\n",
      "264447    rs7216431_A              0.124225\n",
      "194295   rs16932348_G              0.124225\n",
      "186103   rs57973253_0              0.124224\n",
      "\n",
      "[297678 rows x 2 columns]\n"
     ]
    }
   ],
   "source": [
    "#MSE Loss\n",
    "if len(X.columns) == reconstructed_X_test.shape[1]:\n",
    "    reconstruction_error = np.mean((X_test - reconstructed_X_test) ** 2, axis=0)\n",
    "    feature_importance = pd.DataFrame({'Feature': X.columns, 'Reconstruction_Error': reconstruction_error})\n",
    "    feature_importance = feature_importance.sort_values(by='Reconstruction_Error', ascending=False)  # Ascending order\n",
    "    print(feature_importance)\n",
    "else:\n",
    "    print(\"Mismatch in feature dimensions. Check your input data and autoencoder model.\")"
   ]
  },
  {
   "cell_type": "code",
   "execution_count": 57,
   "metadata": {},
   "outputs": [
    {
     "name": "stdout",
     "output_type": "stream",
     "text": [
      "297678\n"
     ]
    }
   ],
   "source": [
    "print(reconstructed_X_test.shape[1])"
   ]
  },
  {
   "cell_type": "code",
   "execution_count": 58,
   "metadata": {},
   "outputs": [
    {
     "name": "stdout",
     "output_type": "stream",
     "text": [
      "297684\n"
     ]
    }
   ],
   "source": [
    "print(len(df.columns))"
   ]
  },
  {
   "cell_type": "code",
   "execution_count": 95,
   "metadata": {},
   "outputs": [
    {
     "name": "stderr",
     "output_type": "stream",
     "text": [
      "/Library/Frameworks/Python.framework/Versions/3.12/lib/python3.12/site-packages/scipy/stats/_axis_nan_policy.py:523: RuntimeWarning: Precision loss occurred in moment calculation due to catastrophic cancellation. This occurs when the data are nearly identical. Results may be unreliable.\n",
      "  res = hypotest_fun_out(*samples, **kwds)\n"
     ]
    },
    {
     "name": "stdout",
     "output_type": "stream",
     "text": [
      "              Feature       p_value\n",
      "279972     rs429358_C  2.649056e-10\n",
      "279960     rs157582_A  5.325411e-10\n",
      "244229  rs140088880_G  7.067862e-09\n",
      "60484     rs1492865_G  1.173295e-08\n",
      "62690     rs2651618_G  1.275272e-08\n",
      "...               ...           ...\n",
      "285388  rs117853603_0           NaN\n",
      "285503  rs118014232_0           NaN\n",
      "289171   rs10439884_0           NaN\n",
      "292390  rs112651842_0           NaN\n",
      "294862  rs149277501_0           NaN\n",
      "\n",
      "[297678 rows x 2 columns]\n"
     ]
    }
   ],
   "source": [
    "p_values = []\n",
    "\n",
    "for i in range(X_train.shape[1]):\n",
    "    group1 = X_train[y_train == 2, i]\n",
    "    group2 = X_train[y_train == 1, i]\n",
    "\n",
    "    # Check for constant features in either group\n",
    "    try:\n",
    "        t_stat, p_val = ttest_ind(group1, group2)\n",
    "        p_values.append(p_val)\n",
    "    except Exception as e:\n",
    "        # print(f\"Error calculating p-value for Feature {i}: {e}\")\n",
    "        p_values.append(np.nan)\n",
    "\n",
    "feature_importance = pd.DataFrame({'Feature': X.columns, 'p_value': p_values})\n",
    "feature_importance = feature_importance.sort_values(by='p_value')\n",
    "print(feature_importance)\n",
    "\n"
   ]
  },
  {
   "cell_type": "code",
   "execution_count": null,
   "metadata": {},
   "outputs": [],
   "source": []
  }
 ],
 "metadata": {
  "kernelspec": {
   "display_name": "Python 3",
   "language": "python",
   "name": "python3"
  },
  "language_info": {
   "codemirror_mode": {
    "name": "ipython",
    "version": 3
   },
   "file_extension": ".py",
   "mimetype": "text/x-python",
   "name": "python",
   "nbconvert_exporter": "python",
   "pygments_lexer": "ipython3",
   "version": "3.12.2"
  }
 },
 "nbformat": 4,
 "nbformat_minor": 2
}
